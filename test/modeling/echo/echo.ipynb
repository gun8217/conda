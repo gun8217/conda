{
 "cells": [
  {
   "cell_type": "code",
   "execution_count": 2,
   "metadata": {},
   "outputs": [
    {
     "data": {
      "text/html": [
       "<div>\n",
       "<style scoped>\n",
       "    .dataframe tbody tr th:only-of-type {\n",
       "        vertical-align: middle;\n",
       "    }\n",
       "\n",
       "    .dataframe tbody tr th {\n",
       "        vertical-align: top;\n",
       "    }\n",
       "\n",
       "    .dataframe thead th {\n",
       "        text-align: right;\n",
       "    }\n",
       "</style>\n",
       "<table border=\"1\" class=\"dataframe\">\n",
       "  <thead>\n",
       "    <tr style=\"text-align: right;\">\n",
       "      <th></th>\n",
       "      <th>일시</th>\n",
       "      <th>평균기온(℃)</th>\n",
       "      <th>평균최고기온(℃)</th>\n",
       "      <th>최고기온(℃)</th>\n",
       "      <th>평균최저기온(℃)</th>\n",
       "      <th>최저기온(℃)</th>\n",
       "      <th>전기(kw)</th>\n",
       "      <th>가스(Nm3)</th>\n",
       "      <th>수도(m3)</th>\n",
       "    </tr>\n",
       "  </thead>\n",
       "  <tbody>\n",
       "    <tr>\n",
       "      <th>0</th>\n",
       "      <td>20.01</td>\n",
       "      <td>1.6</td>\n",
       "      <td>5.9</td>\n",
       "      <td>11.9</td>\n",
       "      <td>-1.7</td>\n",
       "      <td>-6.5</td>\n",
       "      <td>NaN</td>\n",
       "      <td>NaN</td>\n",
       "      <td>NaN</td>\n",
       "    </tr>\n",
       "    <tr>\n",
       "      <th>1</th>\n",
       "      <td>20.02</td>\n",
       "      <td>2.5</td>\n",
       "      <td>7.2</td>\n",
       "      <td>15.6</td>\n",
       "      <td>-1.3</td>\n",
       "      <td>-11.8</td>\n",
       "      <td>NaN</td>\n",
       "      <td>NaN</td>\n",
       "      <td>NaN</td>\n",
       "    </tr>\n",
       "    <tr>\n",
       "      <th>2</th>\n",
       "      <td>20.03</td>\n",
       "      <td>7.7</td>\n",
       "      <td>13.3</td>\n",
       "      <td>20.6</td>\n",
       "      <td>2.6</td>\n",
       "      <td>-2.8</td>\n",
       "      <td>NaN</td>\n",
       "      <td>NaN</td>\n",
       "      <td>NaN</td>\n",
       "    </tr>\n",
       "    <tr>\n",
       "      <th>3</th>\n",
       "      <td>20.04</td>\n",
       "      <td>11.1</td>\n",
       "      <td>16.6</td>\n",
       "      <td>23.8</td>\n",
       "      <td>6.3</td>\n",
       "      <td>1.9</td>\n",
       "      <td>NaN</td>\n",
       "      <td>NaN</td>\n",
       "      <td>NaN</td>\n",
       "    </tr>\n",
       "    <tr>\n",
       "      <th>4</th>\n",
       "      <td>20.05</td>\n",
       "      <td>18.0</td>\n",
       "      <td>23.3</td>\n",
       "      <td>30.0</td>\n",
       "      <td>13.7</td>\n",
       "      <td>9.2</td>\n",
       "      <td>NaN</td>\n",
       "      <td>NaN</td>\n",
       "      <td>NaN</td>\n",
       "    </tr>\n",
       "  </tbody>\n",
       "</table>\n",
       "</div>"
      ],
      "text/plain": [
       "      일시  평균기온(℃)  평균최고기온(℃)  최고기온(℃)  평균최저기온(℃)  최저기온(℃)  전기(kw)  가스(Nm3)  \\\n",
       "0  20.01      1.6        5.9     11.9       -1.7     -6.5     NaN      NaN   \n",
       "1  20.02      2.5        7.2     15.6       -1.3    -11.8     NaN      NaN   \n",
       "2  20.03      7.7       13.3     20.6        2.6     -2.8     NaN      NaN   \n",
       "3  20.04     11.1       16.6     23.8        6.3      1.9     NaN      NaN   \n",
       "4  20.05     18.0       23.3     30.0       13.7      9.2     NaN      NaN   \n",
       "\n",
       "   수도(m3)  \n",
       "0     NaN  \n",
       "1     NaN  \n",
       "2     NaN  \n",
       "3     NaN  \n",
       "4     NaN  "
      ]
     },
     "execution_count": 2,
     "metadata": {},
     "output_type": "execute_result"
    }
   ],
   "source": [
    "import numpy as np\n",
    "import pandas as pd\n",
    "\n",
    "# 데이터 준비\n",
    "file_weather = 'weather.csv'\n",
    "weather = pd.read_csv(file_weather)\n",
    "weather = weather[:-1]\n",
    "file_energy = 'energy.csv'\n",
    "energy = pd.read_csv(file_energy, encoding='euc-kr')\n",
    "energy['일시'] = energy['구분']\n",
    "\n",
    "weather_df = weather[['일시', '평균기온(℃)', '평균최고기온(℃)', '최고기온(℃)', '평균최저기온(℃)', '최저기온(℃)']]\n",
    "weather_df.loc[:, '일시'] = pd.to_datetime(weather_df['일시'], format='%y-%b').dt.strftime('%y.%m')\n",
    "energy_df = energy[['일시', '전기(kw)', '가스(Nm3)', '수도(m3)']]\n",
    "energy_df.loc[:, '일시'] = pd.to_datetime(energy_df['일시'], format='%Y-%m').dt.strftime('%y.%m')\n",
    "\n",
    "merged_df = pd.merge(weather_df, energy_df, on='일시', how='left')\n",
    "merged_df.head()"
   ]
  },
  {
   "cell_type": "code",
   "execution_count": 3,
   "metadata": {},
   "outputs": [],
   "source": [
    "training_df = merged_df.dropna()"
   ]
  },
  {
   "cell_type": "code",
   "execution_count": 4,
   "metadata": {},
   "outputs": [],
   "source": [
    "from sklearn.model_selection import train_test_split\n",
    "X = training_df[['평균기온(℃)', '평균최고기온(℃)', '최고기온(℃)', '평균최저기온(℃)', '최저기온(℃)']]\n",
    "y = training_df['전기(kw)']\n",
    "\n",
    "# 이상치 제거\n",
    "from scipy import stats\n",
    "z_scores = stats.zscore(X)\n",
    "abs_z_scores = np.abs(z_scores)\n",
    "filtered_entries = (abs_z_scores < 3).all(axis=1)\n",
    "X_clean = X[filtered_entries]\n",
    "y_clean = y[filtered_entries]\n",
    "\n",
    "X_train, X_test, y_train, y_test = train_test_split(X_clean, y_clean, test_size=0.6, random_state=42)"
   ]
  },
  {
   "cell_type": "code",
   "execution_count": 5,
   "metadata": {},
   "outputs": [],
   "source": [
    "# # 데이터 스케일링\n",
    "# from sklearn.preprocessing import MinMaxScaler\n",
    "# scaler = MinMaxScaler()\n",
    "# X_train_scaled = scaler.fit_transform(X_train)\n",
    "# X_test_scaled = scaler.transform(X_test)"
   ]
  },
  {
   "cell_type": "code",
   "execution_count": 6,
   "metadata": {},
   "outputs": [
    {
     "name": "stdout",
     "output_type": "stream",
     "text": [
      "훈련 정확도 : 0.9998790848330932\n",
      "[261125.9674446  220667.32587486 239586.80749349 211397.27827587\n",
      " 275209.84874881 245822.17882773 223940.87908847 249182.21312516]\n",
      "테스트 정확도 : 0.4179267670597987\n",
      "Mean Squared Error (MSE): 370256017.4648875\n",
      "R² Score: 0.4179267670597987\n",
      "\n"
     ]
    }
   ],
   "source": [
    "# 모델 훈련\n",
    "from sklearn.metrics import mean_squared_error, r2_score\n",
    "\n",
    "# Lasso\n",
    "from sklearn.linear_model import Lasso\n",
    "lasso_model = Lasso(alpha=0.1)  # alpha 값 조정 가능\n",
    "lasso_model.fit(X_train, y_train)\n",
    "# 모델 평가\n",
    "train_acc = lasso_model.score(X_train, y_train)\n",
    "print(\"훈련 정확도 :\", train_acc)\n",
    "lasso_pred = lasso_model.predict(X_test) # 모델 테스트\n",
    "print(lasso_pred)\n",
    "test_acc = lasso_model.score(X_test, y_test)\n",
    "print(\"테스트 정확도 :\", test_acc)\n",
    "# Mean Squared Error 계산\n",
    "mse = mean_squared_error(y_test, lasso_pred)\n",
    "print(f\"Mean Squared Error (MSE): {mse}\")\n",
    "# R² Score 계산\n",
    "r2 = r2_score(y_test, lasso_pred)\n",
    "print(f\"R² Score: {r2}\\n\")"
   ]
  },
  {
   "cell_type": "code",
   "execution_count": 7,
   "metadata": {},
   "outputs": [],
   "source": [
    "# NaN 값이 있는 행만 분리\n",
    "missing_data = merged_df[merged_df['전기(kw)'].isna()]\n",
    "X_missing = missing_data[['평균기온(℃)', '평균최고기온(℃)', '최고기온(℃)', '평균최저기온(℃)', '최저기온(℃)']]"
   ]
  },
  {
   "cell_type": "code",
   "execution_count": 10,
   "metadata": {},
   "outputs": [
    {
     "ename": "ValueError",
     "evalue": "Must have equal len keys and value when setting with an iterable",
     "output_type": "error",
     "traceback": [
      "\u001b[1;31m---------------------------------------------------------------------------\u001b[0m",
      "\u001b[1;31mValueError\u001b[0m                                Traceback (most recent call last)",
      "Cell \u001b[1;32mIn[10], line 14\u001b[0m\n\u001b[0;32m     11\u001b[0m predicted_values \u001b[38;5;241m=\u001b[39m lasso_model\u001b[38;5;241m.\u001b[39mpredict(X_missing_imputed_df)\n\u001b[0;32m     13\u001b[0m \u001b[38;5;66;03m# 예측 결과를 원본 데이터에 업데이트\u001b[39;00m\n\u001b[1;32m---> 14\u001b[0m \u001b[43mmerged_df\u001b[49m\u001b[38;5;241;43m.\u001b[39;49m\u001b[43mloc\u001b[49m\u001b[43m[\u001b[49m\u001b[43mmerged_df\u001b[49m\u001b[43m[\u001b[49m\u001b[38;5;124;43m'\u001b[39;49m\u001b[38;5;124;43m전기(kw)\u001b[39;49m\u001b[38;5;124;43m'\u001b[39;49m\u001b[43m]\u001b[49m\u001b[38;5;241;43m.\u001b[39;49m\u001b[43misna\u001b[49m\u001b[43m(\u001b[49m\u001b[43m)\u001b[49m\u001b[43m,\u001b[49m\u001b[43m \u001b[49m\u001b[38;5;124;43m'\u001b[39;49m\u001b[38;5;124;43m전기(kw)\u001b[39;49m\u001b[38;5;124;43m'\u001b[39;49m\u001b[43m]\u001b[49m \u001b[38;5;241m=\u001b[39m predicted_values\n\u001b[0;32m     15\u001b[0m \u001b[38;5;66;03m# for i, column in enumerate(y.columns):\u001b[39;00m\n\u001b[0;32m     16\u001b[0m \u001b[38;5;66;03m#     merged_df.loc[merged_df[column].isna(), column] = predicted_values[:, i]\u001b[39;00m\n\u001b[0;32m     17\u001b[0m \u001b[38;5;66;03m# print(merged_df.head(),'\\n', merged_df.tail(), merged_df.shape)\u001b[39;00m\n\u001b[0;32m     19\u001b[0m energy_all \u001b[38;5;241m=\u001b[39m merged_df[[\u001b[38;5;124m'\u001b[39m\u001b[38;5;124m일시\u001b[39m\u001b[38;5;124m'\u001b[39m, \u001b[38;5;124m'\u001b[39m\u001b[38;5;124m전기(kw)\u001b[39m\u001b[38;5;124m'\u001b[39m]]\n",
      "File \u001b[1;32mc:\\Users\\user\\anaconda3\\envs\\myConda\\Lib\\site-packages\\pandas\\core\\indexing.py:911\u001b[0m, in \u001b[0;36m_LocationIndexer.__setitem__\u001b[1;34m(self, key, value)\u001b[0m\n\u001b[0;32m    908\u001b[0m \u001b[38;5;28mself\u001b[39m\u001b[38;5;241m.\u001b[39m_has_valid_setitem_indexer(key)\n\u001b[0;32m    910\u001b[0m iloc \u001b[38;5;241m=\u001b[39m \u001b[38;5;28mself\u001b[39m \u001b[38;5;28;01mif\u001b[39;00m \u001b[38;5;28mself\u001b[39m\u001b[38;5;241m.\u001b[39mname \u001b[38;5;241m==\u001b[39m \u001b[38;5;124m\"\u001b[39m\u001b[38;5;124miloc\u001b[39m\u001b[38;5;124m\"\u001b[39m \u001b[38;5;28;01melse\u001b[39;00m \u001b[38;5;28mself\u001b[39m\u001b[38;5;241m.\u001b[39mobj\u001b[38;5;241m.\u001b[39miloc\n\u001b[1;32m--> 911\u001b[0m \u001b[43miloc\u001b[49m\u001b[38;5;241;43m.\u001b[39;49m\u001b[43m_setitem_with_indexer\u001b[49m\u001b[43m(\u001b[49m\u001b[43mindexer\u001b[49m\u001b[43m,\u001b[49m\u001b[43m \u001b[49m\u001b[43mvalue\u001b[49m\u001b[43m,\u001b[49m\u001b[43m \u001b[49m\u001b[38;5;28;43mself\u001b[39;49m\u001b[38;5;241;43m.\u001b[39;49m\u001b[43mname\u001b[49m\u001b[43m)\u001b[49m\n",
      "File \u001b[1;32mc:\\Users\\user\\anaconda3\\envs\\myConda\\Lib\\site-packages\\pandas\\core\\indexing.py:1942\u001b[0m, in \u001b[0;36m_iLocIndexer._setitem_with_indexer\u001b[1;34m(self, indexer, value, name)\u001b[0m\n\u001b[0;32m   1939\u001b[0m \u001b[38;5;66;03m# align and set the values\u001b[39;00m\n\u001b[0;32m   1940\u001b[0m \u001b[38;5;28;01mif\u001b[39;00m take_split_path:\n\u001b[0;32m   1941\u001b[0m     \u001b[38;5;66;03m# We have to operate column-wise\u001b[39;00m\n\u001b[1;32m-> 1942\u001b[0m     \u001b[38;5;28;43mself\u001b[39;49m\u001b[38;5;241;43m.\u001b[39;49m\u001b[43m_setitem_with_indexer_split_path\u001b[49m\u001b[43m(\u001b[49m\u001b[43mindexer\u001b[49m\u001b[43m,\u001b[49m\u001b[43m \u001b[49m\u001b[43mvalue\u001b[49m\u001b[43m,\u001b[49m\u001b[43m \u001b[49m\u001b[43mname\u001b[49m\u001b[43m)\u001b[49m\n\u001b[0;32m   1943\u001b[0m \u001b[38;5;28;01melse\u001b[39;00m:\n\u001b[0;32m   1944\u001b[0m     \u001b[38;5;28mself\u001b[39m\u001b[38;5;241m.\u001b[39m_setitem_single_block(indexer, value, name)\n",
      "File \u001b[1;32mc:\\Users\\user\\anaconda3\\envs\\myConda\\Lib\\site-packages\\pandas\\core\\indexing.py:2027\u001b[0m, in \u001b[0;36m_iLocIndexer._setitem_with_indexer_split_path\u001b[1;34m(self, indexer, value, name)\u001b[0m\n\u001b[0;32m   2024\u001b[0m         \u001b[38;5;28mself\u001b[39m\u001b[38;5;241m.\u001b[39m_setitem_single_column(ilocs[\u001b[38;5;241m0\u001b[39m], value, pi)\n\u001b[0;32m   2026\u001b[0m     \u001b[38;5;28;01melse\u001b[39;00m:\n\u001b[1;32m-> 2027\u001b[0m         \u001b[38;5;28;01mraise\u001b[39;00m \u001b[38;5;167;01mValueError\u001b[39;00m(\n\u001b[0;32m   2028\u001b[0m             \u001b[38;5;124m\"\u001b[39m\u001b[38;5;124mMust have equal len keys and value \u001b[39m\u001b[38;5;124m\"\u001b[39m\n\u001b[0;32m   2029\u001b[0m             \u001b[38;5;124m\"\u001b[39m\u001b[38;5;124mwhen setting with an iterable\u001b[39m\u001b[38;5;124m\"\u001b[39m\n\u001b[0;32m   2030\u001b[0m         )\n\u001b[0;32m   2032\u001b[0m \u001b[38;5;28;01melse\u001b[39;00m:\n\u001b[0;32m   2033\u001b[0m     \u001b[38;5;66;03m# scalar value\u001b[39;00m\n\u001b[0;32m   2034\u001b[0m     \u001b[38;5;28;01mfor\u001b[39;00m loc \u001b[38;5;129;01min\u001b[39;00m ilocs:\n",
      "\u001b[1;31mValueError\u001b[0m: Must have equal len keys and value when setting with an iterable"
     ]
    }
   ],
   "source": [
    "# NaN 값을 채우거나 삭제하는 방식으로 데이터 준비\n",
    "# NaN 값을 채우기 위해 SimpleImputer 사용\n",
    "from sklearn.impute import SimpleImputer\n",
    "imputer = SimpleImputer(strategy='mean')\n",
    "X_missing_imputed = imputer.fit_transform(X_missing)\n",
    "\n",
    "# X_missing_imputed를 DataFrame으로 변환하고 피처 이름을 설정\n",
    "X_missing_imputed_df = pd.DataFrame(X_missing_imputed, columns=['평균기온(℃)', '평균최고기온(℃)', '최고기온(℃)', '평균최저기온(℃)', '최저기온(℃)'])\n",
    "\n",
    "# 예측 수행\n",
    "predicted_values = lasso_model.predict(X_missing_imputed_df)\n",
    "\n",
    "# 예측 결과를 원본 데이터에 업데이트\n",
    "merged_df.loc[merged_df['전기(kw)'].isna(), '전기(kw)'] = predicted_values\n",
    "# for i, column in enumerate(y.columns):\n",
    "#     merged_df.loc[merged_df[column].isna(), column] = predicted_values[:, i]\n",
    "# print(merged_df.head(),'\\n', merged_df.tail(), merged_df.shape)\n",
    "\n",
    "energy_all = merged_df[['일시', '전기(kw)']]\n",
    "energy_all.loc[:, '전기(kw)'] = energy_all['전기(kw)'].astype(int)\n",
    "\n",
    "# CSV 파일로 저장\n",
    "file_merge = 'energy_all.csv'\n",
    "energy_all.to_csv(file_merge, index=False, encoding='utf-8-sig')"
   ]
  }
 ],
 "metadata": {
  "kernelspec": {
   "display_name": "myConda",
   "language": "python",
   "name": "python3"
  },
  "language_info": {
   "codemirror_mode": {
    "name": "ipython",
    "version": 3
   },
   "file_extension": ".py",
   "mimetype": "text/x-python",
   "name": "python",
   "nbconvert_exporter": "python",
   "pygments_lexer": "ipython3",
   "version": "3.12.4"
  }
 },
 "nbformat": 4,
 "nbformat_minor": 2
}
