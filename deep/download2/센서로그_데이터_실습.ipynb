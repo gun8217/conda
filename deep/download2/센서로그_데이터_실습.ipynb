{
  "nbformat": 4,
  "nbformat_minor": 0,
  "metadata": {
    "colab": {
      "provenance": [],
      "toc_visible": true
    },
    "kernelspec": {
      "name": "python3",
      "display_name": "Python 3"
    },
    "language_info": {
      "name": "python"
    }
  },
  "cells": [
    {
      "cell_type": "markdown",
      "source": [
        "# Google Colab에서 필요한 라이브러리와 파일 업로드"
      ],
      "metadata": {
        "id": "AS-vxPMVlz-X"
      }
    },
    {
      "cell_type": "code",
      "source": [
        "from google.colab import files\n",
        "uploaded = files.upload()  # 전체 데이터 파일을 업로드합니다."
      ],
      "metadata": {
        "colab": {
          "base_uri": "https://localhost:8080/",
          "height": 77
        },
        "id": "ENPBA6RlgMjX",
        "outputId": "5d24c2b4-d8f8-4eb7-f5e4-6689febc40f0"
      },
      "execution_count": null,
      "outputs": [
        {
          "output_type": "display_data",
          "data": {
            "text/plain": [
              "<IPython.core.display.HTML object>"
            ],
            "text/html": [
              "\n",
              "     <input type=\"file\" id=\"files-b565cc1e-2ca0-4ed4-b422-647583d58d07\" name=\"files[]\" multiple disabled\n",
              "        style=\"border:none\" />\n",
              "     <output id=\"result-b565cc1e-2ca0-4ed4-b422-647583d58d07\">\n",
              "      Upload widget is only available when the cell has been executed in the\n",
              "      current browser session. Please rerun this cell to enable.\n",
              "      </output>\n",
              "      <script>// Copyright 2017 Google LLC\n",
              "//\n",
              "// Licensed under the Apache License, Version 2.0 (the \"License\");\n",
              "// you may not use this file except in compliance with the License.\n",
              "// You may obtain a copy of the License at\n",
              "//\n",
              "//      http://www.apache.org/licenses/LICENSE-2.0\n",
              "//\n",
              "// Unless required by applicable law or agreed to in writing, software\n",
              "// distributed under the License is distributed on an \"AS IS\" BASIS,\n",
              "// WITHOUT WARRANTIES OR CONDITIONS OF ANY KIND, either express or implied.\n",
              "// See the License for the specific language governing permissions and\n",
              "// limitations under the License.\n",
              "\n",
              "/**\n",
              " * @fileoverview Helpers for google.colab Python module.\n",
              " */\n",
              "(function(scope) {\n",
              "function span(text, styleAttributes = {}) {\n",
              "  const element = document.createElement('span');\n",
              "  element.textContent = text;\n",
              "  for (const key of Object.keys(styleAttributes)) {\n",
              "    element.style[key] = styleAttributes[key];\n",
              "  }\n",
              "  return element;\n",
              "}\n",
              "\n",
              "// Max number of bytes which will be uploaded at a time.\n",
              "const MAX_PAYLOAD_SIZE = 100 * 1024;\n",
              "\n",
              "function _uploadFiles(inputId, outputId) {\n",
              "  const steps = uploadFilesStep(inputId, outputId);\n",
              "  const outputElement = document.getElementById(outputId);\n",
              "  // Cache steps on the outputElement to make it available for the next call\n",
              "  // to uploadFilesContinue from Python.\n",
              "  outputElement.steps = steps;\n",
              "\n",
              "  return _uploadFilesContinue(outputId);\n",
              "}\n",
              "\n",
              "// This is roughly an async generator (not supported in the browser yet),\n",
              "// where there are multiple asynchronous steps and the Python side is going\n",
              "// to poll for completion of each step.\n",
              "// This uses a Promise to block the python side on completion of each step,\n",
              "// then passes the result of the previous step as the input to the next step.\n",
              "function _uploadFilesContinue(outputId) {\n",
              "  const outputElement = document.getElementById(outputId);\n",
              "  const steps = outputElement.steps;\n",
              "\n",
              "  const next = steps.next(outputElement.lastPromiseValue);\n",
              "  return Promise.resolve(next.value.promise).then((value) => {\n",
              "    // Cache the last promise value to make it available to the next\n",
              "    // step of the generator.\n",
              "    outputElement.lastPromiseValue = value;\n",
              "    return next.value.response;\n",
              "  });\n",
              "}\n",
              "\n",
              "/**\n",
              " * Generator function which is called between each async step of the upload\n",
              " * process.\n",
              " * @param {string} inputId Element ID of the input file picker element.\n",
              " * @param {string} outputId Element ID of the output display.\n",
              " * @return {!Iterable<!Object>} Iterable of next steps.\n",
              " */\n",
              "function* uploadFilesStep(inputId, outputId) {\n",
              "  const inputElement = document.getElementById(inputId);\n",
              "  inputElement.disabled = false;\n",
              "\n",
              "  const outputElement = document.getElementById(outputId);\n",
              "  outputElement.innerHTML = '';\n",
              "\n",
              "  const pickedPromise = new Promise((resolve) => {\n",
              "    inputElement.addEventListener('change', (e) => {\n",
              "      resolve(e.target.files);\n",
              "    });\n",
              "  });\n",
              "\n",
              "  const cancel = document.createElement('button');\n",
              "  inputElement.parentElement.appendChild(cancel);\n",
              "  cancel.textContent = 'Cancel upload';\n",
              "  const cancelPromise = new Promise((resolve) => {\n",
              "    cancel.onclick = () => {\n",
              "      resolve(null);\n",
              "    };\n",
              "  });\n",
              "\n",
              "  // Wait for the user to pick the files.\n",
              "  const files = yield {\n",
              "    promise: Promise.race([pickedPromise, cancelPromise]),\n",
              "    response: {\n",
              "      action: 'starting',\n",
              "    }\n",
              "  };\n",
              "\n",
              "  cancel.remove();\n",
              "\n",
              "  // Disable the input element since further picks are not allowed.\n",
              "  inputElement.disabled = true;\n",
              "\n",
              "  if (!files) {\n",
              "    return {\n",
              "      response: {\n",
              "        action: 'complete',\n",
              "      }\n",
              "    };\n",
              "  }\n",
              "\n",
              "  for (const file of files) {\n",
              "    const li = document.createElement('li');\n",
              "    li.append(span(file.name, {fontWeight: 'bold'}));\n",
              "    li.append(span(\n",
              "        `(${file.type || 'n/a'}) - ${file.size} bytes, ` +\n",
              "        `last modified: ${\n",
              "            file.lastModifiedDate ? file.lastModifiedDate.toLocaleDateString() :\n",
              "                                    'n/a'} - `));\n",
              "    const percent = span('0% done');\n",
              "    li.appendChild(percent);\n",
              "\n",
              "    outputElement.appendChild(li);\n",
              "\n",
              "    const fileDataPromise = new Promise((resolve) => {\n",
              "      const reader = new FileReader();\n",
              "      reader.onload = (e) => {\n",
              "        resolve(e.target.result);\n",
              "      };\n",
              "      reader.readAsArrayBuffer(file);\n",
              "    });\n",
              "    // Wait for the data to be ready.\n",
              "    let fileData = yield {\n",
              "      promise: fileDataPromise,\n",
              "      response: {\n",
              "        action: 'continue',\n",
              "      }\n",
              "    };\n",
              "\n",
              "    // Use a chunked sending to avoid message size limits. See b/62115660.\n",
              "    let position = 0;\n",
              "    do {\n",
              "      const length = Math.min(fileData.byteLength - position, MAX_PAYLOAD_SIZE);\n",
              "      const chunk = new Uint8Array(fileData, position, length);\n",
              "      position += length;\n",
              "\n",
              "      const base64 = btoa(String.fromCharCode.apply(null, chunk));\n",
              "      yield {\n",
              "        response: {\n",
              "          action: 'append',\n",
              "          file: file.name,\n",
              "          data: base64,\n",
              "        },\n",
              "      };\n",
              "\n",
              "      let percentDone = fileData.byteLength === 0 ?\n",
              "          100 :\n",
              "          Math.round((position / fileData.byteLength) * 100);\n",
              "      percent.textContent = `${percentDone}% done`;\n",
              "\n",
              "    } while (position < fileData.byteLength);\n",
              "  }\n",
              "\n",
              "  // All done.\n",
              "  yield {\n",
              "    response: {\n",
              "      action: 'complete',\n",
              "    }\n",
              "  };\n",
              "}\n",
              "\n",
              "scope.google = scope.google || {};\n",
              "scope.google.colab = scope.google.colab || {};\n",
              "scope.google.colab._files = {\n",
              "  _uploadFiles,\n",
              "  _uploadFilesContinue,\n",
              "};\n",
              "})(self);\n",
              "</script> "
            ]
          },
          "metadata": {}
        },
        {
          "output_type": "stream",
          "name": "stdout",
          "text": [
            "Saving sensor_log.csv to sensor_log.csv\n"
          ]
        }
      ]
    },
    {
      "cell_type": "markdown",
      "source": [
        "# 필수 라이브러리 불러오기"
      ],
      "metadata": {
        "id": "IVU8j8WFl6zm"
      }
    },
    {
      "cell_type": "code",
      "source": [
        "import pandas as pd\n",
        "from sklearn.model_selection import train_test_split\n",
        "from sklearn.ensemble import RandomForestClassifier\n",
        "from sklearn.metrics import classification_report, confusion_matrix, accuracy_score, precision_score, recall_score, f1_score\n",
        "from sklearn.preprocessing import LabelEncoder\n",
        "from openpyxl import Workbook"
      ],
      "metadata": {
        "id": "ZjiXdft-kiIu"
      },
      "execution_count": null,
      "outputs": []
    },
    {
      "cell_type": "markdown",
      "source": [
        "#**1. 데이터 불러오기**"
      ],
      "metadata": {
        "id": "nOeKILLrgyyF"
      }
    },
    {
      "cell_type": "code",
      "source": [
        "# 1. 데이터 로드\n",
        "# 업로드한 파일을 읽어와서 전체 데이터를 저장합니다.\n",
        "data = pd.read_csv(\"sensor_log.csv\")"
      ],
      "metadata": {
        "id": "7AhtY3rngdKp"
      },
      "execution_count": null,
      "outputs": []
    },
    {
      "cell_type": "code",
      "source": [
        "# 데이터의 첫 몇 줄을 확인하여 제대로 불러왔는지 확인합니다.\n",
        "print(\"Data:\")\n",
        "print(data.head())"
      ],
      "metadata": {
        "colab": {
          "base_uri": "https://localhost:8080/"
        },
        "id": "xBOlS7TQmNi8",
        "outputId": "ce3215c8-6572-40b5-c596-76b178275862"
      },
      "execution_count": null,
      "outputs": [
        {
          "output_type": "stream",
          "name": "stdout",
          "text": [
            "Data:\n",
            "  sensor_id   timestamp sensor_type      value status    location\n",
            "0        S5  2024-01-01    Pressure  26.619538     OK  Location_A\n",
            "1        S1  2024-01-02    Pressure  66.622623     OK  Location_C\n",
            "2        S4  2024-01-03    Humidity  47.246473   WARN  Location_C\n",
            "3        S4  2024-01-04    Pressure  42.534296     OK  Location_C\n",
            "4        S4  2024-01-05    Pressure  62.251035     OK  Location_C\n"
          ]
        }
      ]
    },
    {
      "cell_type": "markdown",
      "source": [
        "#**2. 데이터 전처리**"
      ],
      "metadata": {
        "id": "HMp4-Q58hFpV"
      }
    },
    {
      "cell_type": "markdown",
      "source": [
        "### One-Hot Encoding: 범주형 데이터를 숫자로 변환하기"
      ],
      "metadata": {
        "id": "Zc4ko-FjmxBP"
      }
    },
    {
      "cell_type": "code",
      "source": [
        "# 1. sensor_id 컬럼 원핫 인코딩\n",
        "sensor_id_dummies = pd.get_dummies(data['sensor_id'], prefix='sensor_id', dtype=int)\n",
        "print(\"Encoded sensor_id (One-Hot Encoding):\\n\", sensor_id_dummies.head())"
      ],
      "metadata": {
        "colab": {
          "base_uri": "https://localhost:8080/"
        },
        "id": "IXqcGtAumkKD",
        "outputId": "c8bf8285-0d38-4bd1-a028-cf2523fc670a"
      },
      "execution_count": 95,
      "outputs": [
        {
          "output_type": "stream",
          "name": "stdout",
          "text": [
            "Encoded sensor_id (One-Hot Encoding):\n",
            "    sensor_id_0  sensor_id_1  sensor_id_2  sensor_id_3  sensor_id_4\n",
            "0            0            0            0            0            1\n",
            "1            1            0            0            0            0\n",
            "2            0            0            0            1            0\n",
            "3            0            0            0            1            0\n",
            "4            0            0            0            1            0\n"
          ]
        }
      ]
    },
    {
      "cell_type": "code",
      "source": [
        "# 2. sensor_type 컬럼 원핫 인코딩\n",
        "sensor_type_dummies = pd.get_dummies(data['sensor_type'], prefix='sensor_type', dtype=int)\n",
        "print(\"\\nEncoded sensor_type (One-Hot Encoding):\\n\", sensor_type_dummies.head())"
      ],
      "metadata": {
        "colab": {
          "base_uri": "https://localhost:8080/"
        },
        "id": "2OuxnzmCmaos",
        "outputId": "80e778be-9dcc-4586-ddc6-a681e03fce46"
      },
      "execution_count": 96,
      "outputs": [
        {
          "output_type": "stream",
          "name": "stdout",
          "text": [
            "\n",
            "Encoded sensor_type (One-Hot Encoding):\n",
            "    sensor_type_0  sensor_type_1  sensor_type_2\n",
            "0              0              1              0\n",
            "1              0              1              0\n",
            "2              1              0              0\n",
            "3              0              1              0\n",
            "4              0              1              0\n"
          ]
        }
      ]
    },
    {
      "cell_type": "code",
      "source": [
        "# 3. location 컬럼 원핫 인코딩\n",
        "location_dummies = pd.get_dummies(data['location'], prefix='location', dtype=int)\n",
        "print(\"\\nEncoded location (One-Hot Encoding):\\n\", location_dummies.head())"
      ],
      "metadata": {
        "colab": {
          "base_uri": "https://localhost:8080/"
        },
        "id": "8WiaBzlzm4XQ",
        "outputId": "a3764831-8710-4edb-d9be-40f9b8b9b5fa"
      },
      "execution_count": 97,
      "outputs": [
        {
          "output_type": "stream",
          "name": "stdout",
          "text": [
            "\n",
            "Encoded location (One-Hot Encoding):\n",
            "    location_0  location_1  location_2\n",
            "0           1           0           0\n",
            "1           0           0           1\n",
            "2           0           0           1\n",
            "3           0           0           1\n",
            "4           0           0           1\n"
          ]
        }
      ]
    },
    {
      "cell_type": "code",
      "source": [
        "# 모든 인코딩이 완료된 후 최종 데이터 확인\n",
        "print(\"\\nFinal Encoded Data:\")\n",
        "print(data.head())"
      ],
      "metadata": {
        "colab": {
          "base_uri": "https://localhost:8080/"
        },
        "id": "0ivNtr5Zm7Su",
        "outputId": "8f2f5258-9076-4b7a-a506-9cf3883d06cc"
      },
      "execution_count": null,
      "outputs": [
        {
          "output_type": "stream",
          "name": "stdout",
          "text": [
            "\n",
            "Final Encoded Data:\n",
            "   sensor_id   timestamp  sensor_type      value status  location\n",
            "0          4  2024-01-01            1  26.619538     OK         0\n",
            "1          0  2024-01-02            1  66.622623     OK         2\n",
            "2          3  2024-01-03            0  47.246473   WARN         2\n",
            "3          3  2024-01-04            1  42.534296     OK         2\n",
            "4          3  2024-01-05            1  62.251035     OK         2\n"
          ]
        }
      ]
    },
    {
      "cell_type": "code",
      "source": [
        "# 원핫 인코딩된 데이터들을 기존 데이터와 합치기\n",
        "data = pd.concat([data, sensor_id_dummies, sensor_type_dummies, location_dummies], axis=1)\n",
        "\n",
        "# 원핫 인코딩 전의 원본 컬럼 제거\n",
        "data.drop(['sensor_id', 'sensor_type', 'location'], axis=1, inplace=True)\n",
        "\n",
        "# 결과 확인\n",
        "print(\"\\nData after One-Hot Encoding:\\n\", data.head())"
      ],
      "metadata": {
        "colab": {
          "base_uri": "https://localhost:8080/"
        },
        "id": "Qizvju-_5lqp",
        "outputId": "ce80ab19-21e4-4285-f188-7b167f1b5173"
      },
      "execution_count": 98,
      "outputs": [
        {
          "output_type": "stream",
          "name": "stdout",
          "text": [
            "\n",
            "Data after One-Hot Encoding:\n",
            "     timestamp      value  status  sensor_id_0  sensor_id_1  sensor_id_2  \\\n",
            "0  2024-01-01  26.619538       0            0            0            0   \n",
            "1  2024-01-02  66.622623       0            1            0            0   \n",
            "2  2024-01-03  47.246473       0            0            0            0   \n",
            "3  2024-01-04  42.534296       0            0            0            0   \n",
            "4  2024-01-05  62.251035       0            0            0            0   \n",
            "\n",
            "   sensor_id_3  sensor_id_4  sensor_type_0  sensor_type_1  sensor_type_2  \\\n",
            "0            0            1              0              1              0   \n",
            "1            0            0              0              1              0   \n",
            "2            1            0              1              0              0   \n",
            "3            1            0              0              1              0   \n",
            "4            1            0              0              1              0   \n",
            "\n",
            "   location_0  location_1  location_2  \n",
            "0           1           0           0  \n",
            "1           0           0           1  \n",
            "2           0           0           1  \n",
            "3           0           0           1  \n",
            "4           0           0           1  \n"
          ]
        }
      ]
    },
    {
      "cell_type": "markdown",
      "source": [
        "###  타겟 변수 변환"
      ],
      "metadata": {
        "id": "l3pjkRTWhNT4"
      }
    },
    {
      "cell_type": "code",
      "source": [
        "# 예측 목표인 status 컬럼을 이진값으로 변환하여 모델이 예측할 수 있도록 합니다.\n",
        "# 'ERROR'는 1로, 'OK'와 'WARN'은 0으로 변환합니다.\n",
        "data['status'] = data['status'].apply(lambda x: 1 if x == 'ERROR' else 0)\n",
        "print(\"\\nEncoded status (target variable):\")\n",
        "print(data[['status']].head())  # 변환된 결과를 확인합니다."
      ],
      "metadata": {
        "colab": {
          "base_uri": "https://localhost:8080/"
        },
        "id": "9i4dxc0yhaY_",
        "outputId": "87757a80-2a41-44ef-b075-b9114620be26"
      },
      "execution_count": null,
      "outputs": [
        {
          "output_type": "stream",
          "name": "stdout",
          "text": [
            "\n",
            "Encoded status (target variable):\n",
            "   status\n",
            "0       0\n",
            "1       0\n",
            "2       0\n",
            "3       0\n",
            "4       0\n"
          ]
        }
      ]
    },
    {
      "cell_type": "markdown",
      "source": [
        "### 변수 선택"
      ],
      "metadata": {
        "id": "udKuMkcYni5Z"
      }
    },
    {
      "cell_type": "code",
      "source": [
        "# 모델이 학습한 데이터와 예측을 평가할 데이터를 나누는 단계입니다.\n",
        "X = data.drop(columns=['status','timestamp'])  # 예측에 사용할 변수 (feature) 만 남기고 제거\n",
        "y = data['status']                 # 예측 대상인 타겟 변수 (label)"
      ],
      "metadata": {
        "id": "LFEIqkpGnh22"
      },
      "execution_count": null,
      "outputs": []
    },
    {
      "cell_type": "markdown",
      "source": [
        "### 학습 데이터와 테스트 데이터로 분리\n"
      ],
      "metadata": {
        "id": "0hzVE-97nsCG"
      }
    },
    {
      "cell_type": "code",
      "source": [
        "## 학습 데이터와 테스트 데이터로 분리 (80% 학습, 20% 테스트)\n",
        "X_train, X_test, y_train, y_test = train_test_split(X, y, test_size=0.2, random_state=42)\n",
        "print(\"\\nData Split:\")\n",
        "print(f\"Training data: {len(X_train)} rows\")\n",
        "print(f\"Testing data: {len(X_test)} rows\")"
      ],
      "metadata": {
        "colab": {
          "base_uri": "https://localhost:8080/"
        },
        "id": "WYo6W4vxnrye",
        "outputId": "385c322d-b38f-4ca4-937b-1438bf29c551"
      },
      "execution_count": null,
      "outputs": [
        {
          "output_type": "stream",
          "name": "stdout",
          "text": [
            "\n",
            "Data Split:\n",
            "Training data: 80 rows\n",
            "Testing data: 20 rows\n"
          ]
        }
      ]
    },
    {
      "cell_type": "markdown",
      "source": [
        "#**3. 랜덤포레스트 모델 학습**"
      ],
      "metadata": {
        "id": "fbgPTOK6n6Z3"
      }
    },
    {
      "cell_type": "markdown",
      "source": [
        "#### 모델을 학습시키기 위해 RandomForestClassifier 객체를 생성하고 학습을 진행합니다."
      ],
      "metadata": {
        "id": "_C7N7d4EoIvC"
      }
    },
    {
      "cell_type": "code",
      "source": [
        "# 모델 생성: 랜덤 포레스트를 100개의 결정 나무(n_estimators=100)로 구성하고, 각 트리의 깊이를 10으로 제한합니다.\n",
        "model = RandomForestClassifier(n_estimators=100, max_depth=10, random_state=42)\n",
        "\n",
        "# 모델 학습: 학습 데이터를 사용하여 모델을 학습시킵니다.\n",
        "model.fit(X_train, y_train)\n",
        "print(\"\\nModel training complete.\")"
      ],
      "metadata": {
        "colab": {
          "base_uri": "https://localhost:8080/"
        },
        "id": "gKCVzShQn_KA",
        "outputId": "e8b40340-59a1-4fc1-ec47-898404c92e67"
      },
      "execution_count": null,
      "outputs": [
        {
          "output_type": "stream",
          "name": "stdout",
          "text": [
            "\n",
            "Model training complete.\n"
          ]
        }
      ]
    },
    {
      "cell_type": "code",
      "source": [
        "# 변수 중요도 출력\n",
        "feature_importances = model.feature_importances_\n",
        "\n",
        "# 변수 중요도 시각화\n",
        "plt.figure(figsize=(8, 6))\n",
        "plt.barh(X.columns, feature_importances)\n",
        "plt.xlabel(\"Feature Importance\")\n",
        "plt.ylabel(\"Features\")\n",
        "plt.title(\"Feature Importance in Predicting ERROR Status\")\n",
        "plt.show()\n",
        "\n",
        "# 변수 중요도 값 출력\n",
        "importance_df = pd.DataFrame({'Feature': X.columns, 'Importance': feature_importances})\n",
        "print(\"\\nFeature Importances:\\n\", importance_df.sort_values(by=\"Importance\", ascending=False))"
      ],
      "metadata": {
        "colab": {
          "base_uri": "https://localhost:8080/",
          "height": 693
        },
        "id": "UxmVGD16Ip6Q",
        "outputId": "5c7bf411-442c-43c7-d55d-bf134ab88a50"
      },
      "execution_count": 99,
      "outputs": [
        {
          "output_type": "display_data",
          "data": {
            "text/plain": [
              "<Figure size 800x600 with 1 Axes>"
            ],
            "image/png": "[encoded data removed]"
          },
          "metadata": {}
        },
        {
          "output_type": "stream",
          "name": "stdout",
          "text": [
            "\n",
            "Feature Importances:\n",
            "        Feature  Importance\n",
            "2        value    0.544477\n",
            "0    sensor_id    0.194497\n",
            "1  sensor_type    0.147186\n",
            "3     location    0.113840\n"
          ]
        }
      ]
    },
    {
      "cell_type": "markdown",
      "source": [
        "#**4. 예측 수행**"
      ],
      "metadata": {
        "id": "FgBLHBrvqBuO"
      }
    },
    {
      "cell_type": "code",
      "source": [
        "# 학습된 모델을 사용하여 테스트 데이터에 대해 예측을 수행합니다.\n",
        "y_pred = model.predict(X_test)\n",
        "print(\"\\nPredictions on test data complete.\")"
      ],
      "metadata": {
        "colab": {
          "base_uri": "https://localhost:8080/"
        },
        "id": "HGW0WEGgp6oM",
        "outputId": "c0451b7b-3a66-4e39-e2ec-0717a69c0b91"
      },
      "execution_count": null,
      "outputs": [
        {
          "output_type": "stream",
          "name": "stdout",
          "text": [
            "\n",
            "Predictions on test data complete.\n"
          ]
        }
      ]
    },
    {
      "cell_type": "markdown",
      "source": [
        "#**5. 모델 평가**"
      ],
      "metadata": {
        "id": "Zo7C2EmkqHaM"
      }
    },
    {
      "cell_type": "markdown",
      "source": [
        "#### 예측 결과를 평가하기 위해 여러 지표를 사용하여 모델 성능을 분석합니다."
      ],
      "metadata": {
        "id": "-Oy_WZ4-qULm"
      }
    },
    {
      "cell_type": "code",
      "source": [
        "# 정확도(Accuracy): 전체 예측 중 맞춘 비율\n",
        "accuracy = accuracy_score(y_test, y_pred)\n",
        "print(\"Accuracy:\", accuracy)"
      ],
      "metadata": {
        "colab": {
          "base_uri": "https://localhost:8080/"
        },
        "id": "QRv6t6JRqR8R",
        "outputId": "b1e24365-887e-42bb-a26b-c8acced0ef82"
      },
      "execution_count": null,
      "outputs": [
        {
          "output_type": "stream",
          "name": "stdout",
          "text": [
            "Accuracy: 0.9\n"
          ]
        }
      ]
    },
    {
      "cell_type": "code",
      "source": [
        "# 정밀도(Precision): 'ERROR'라고 예측한 것 중 실제로 'ERROR'였던 비율\n",
        "precision = precision_score(y_test, y_pred)\n",
        "print(\"Precision:\", precision)"
      ],
      "metadata": {
        "colab": {
          "base_uri": "https://localhost:8080/"
        },
        "id": "AWUk3iNQqnwP",
        "outputId": "6eeef409-aaac-4c13-e14f-4207cef0f206"
      },
      "execution_count": null,
      "outputs": [
        {
          "output_type": "stream",
          "name": "stdout",
          "text": [
            "Precision: 0.0\n"
          ]
        },
        {
          "output_type": "stream",
          "name": "stderr",
          "text": [
            "/usr/local/lib/python3.10/dist-packages/sklearn/metrics/_classification.py:1531: UndefinedMetricWarning: Precision is ill-defined and being set to 0.0 due to no predicted samples. Use `zero_division` parameter to control this behavior.\n",
            "  _warn_prf(average, modifier, f\"{metric.capitalize()} is\", len(result))\n"
          ]
        }
      ]
    },
    {
      "cell_type": "code",
      "source": [
        "# 재현율(Recall): 실제 'ERROR' 상태 중 모델이 올바르게 'ERROR'로 예측한 비율\n",
        "recall = recall_score(y_test, y_pred)\n",
        "print(\"Recall:\", recall)"
      ],
      "metadata": {
        "colab": {
          "base_uri": "https://localhost:8080/"
        },
        "id": "5dPBVJsErBYY",
        "outputId": "cf5c5abd-e15b-4712-fe39-4bc7225f0325"
      },
      "execution_count": null,
      "outputs": [
        {
          "output_type": "stream",
          "name": "stdout",
          "text": [
            "Recall: 0.0\n"
          ]
        }
      ]
    },
    {
      "cell_type": "code",
      "source": [
        "# F1-Score: 정밀도와 재현율의 조화 평균\n",
        "f1 = f1_score(y_test, y_pred)\n",
        "print(\"F1-Score:\", f1)"
      ],
      "metadata": {
        "colab": {
          "base_uri": "https://localhost:8080/"
        },
        "id": "gw85-GmvtULU",
        "outputId": "8236d57c-51e7-4fc0-dc76-a183f179a437"
      },
      "execution_count": null,
      "outputs": [
        {
          "output_type": "stream",
          "name": "stdout",
          "text": [
            "F1-Score: 0.0\n"
          ]
        }
      ]
    },
    {
      "cell_type": "code",
      "source": [
        "# 전체 지표를 포함한 성능 요약\n",
        "print(\"\\nClassification Report:\\n\", classification_report(y_test, y_pred))"
      ],
      "metadata": {
        "colab": {
          "base_uri": "https://localhost:8080/"
        },
        "id": "owwlEG2ptWBi",
        "outputId": "ecef70e2-acba-49b7-c6ef-0b10d9f1c3e6"
      },
      "execution_count": null,
      "outputs": [
        {
          "output_type": "stream",
          "name": "stdout",
          "text": [
            "\n",
            "Classification Report:\n",
            "               precision    recall  f1-score   support\n",
            "\n",
            "           0       0.90      1.00      0.95        18\n",
            "           1       0.00      0.00      0.00         2\n",
            "\n",
            "    accuracy                           0.90        20\n",
            "   macro avg       0.45      0.50      0.47        20\n",
            "weighted avg       0.81      0.90      0.85        20\n",
            "\n"
          ]
        },
        {
          "output_type": "stream",
          "name": "stderr",
          "text": [
            "/usr/local/lib/python3.10/dist-packages/sklearn/metrics/_classification.py:1531: UndefinedMetricWarning: Precision is ill-defined and being set to 0.0 in labels with no predicted samples. Use `zero_division` parameter to control this behavior.\n",
            "  _warn_prf(average, modifier, f\"{metric.capitalize()} is\", len(result))\n",
            "/usr/local/lib/python3.10/dist-packages/sklearn/metrics/_classification.py:1531: UndefinedMetricWarning: Precision is ill-defined and being set to 0.0 in labels with no predicted samples. Use `zero_division` parameter to control this behavior.\n",
            "  _warn_prf(average, modifier, f\"{metric.capitalize()} is\", len(result))\n",
            "/usr/local/lib/python3.10/dist-packages/sklearn/metrics/_classification.py:1531: UndefinedMetricWarning: Precision is ill-defined and being set to 0.0 in labels with no predicted samples. Use `zero_division` parameter to control this behavior.\n",
            "  _warn_prf(average, modifier, f\"{metric.capitalize()} is\", len(result))\n"
          ]
        }
      ]
    },
    {
      "cell_type": "code",
      "source": [
        "# 혼동 행렬: 예측의 정확성과 오류를 한눈에 확인\n",
        "print(\"Confusion Matrix:\\n\", confusion_matrix(y_test, y_pred))"
      ],
      "metadata": {
        "colab": {
          "base_uri": "https://localhost:8080/"
        },
        "id": "_zHL4wYDtYky",
        "outputId": "440c37fd-0074-4549-8c6f-9e7ce18f13c7"
      },
      "execution_count": null,
      "outputs": [
        {
          "output_type": "stream",
          "name": "stdout",
          "text": [
            "Confusion Matrix:\n",
            " [[18  0]\n",
            " [ 2  0]]\n"
          ]
        }
      ]
    },
    {
      "cell_type": "markdown",
      "source": [
        "#**6. 모델 튜닝**"
      ],
      "metadata": {
        "id": "Kzwgnt4du5YF"
      }
    },
    {
      "cell_type": "code",
      "source": [
        "# 1. 오버샘플링 적용\n",
        "# Error 데이터를 여러 번 복제하여 불균형 문제를 해결\n",
        "error_data = df[df['status'] == 'ERROR']\n",
        "non_error_data = df[df['status'] != 'ERROR']\n",
        "\n",
        "# Error 데이터를 복제하여 다수의 데이터와 비슷한 비율로 맞춥니다.\n",
        "balanced_data = pd.concat([non_error_data, error_data.sample(len(non_error_data), replace=True)], ignore_index=True)"
      ],
      "metadata": {
        "id": "axf2nhMMu6v2"
      },
      "execution_count": null,
      "outputs": []
    },
    {
      "cell_type": "code",
      "source": [
        "# 오버샘플링된 데이터를 다시 X, y로 설정\n",
        "X_balanced = balanced_data[['value']]\n",
        "y_balanced = balanced_data['status'].apply(lambda x: 1 if x == 'ERROR' else 0)\n",
        "\n",
        "# 데이터 분할\n",
        "X_train, X_test, y_train, y_test = train_test_split(X_balanced, y_balanced, test_size=0.3, random_state=42)\n",
        "\n",
        "# 오버샘플링 결과 확인\n",
        "print(\"Original Class Distribution:\")\n",
        "print(df['status'].value_counts())  # 원본 데이터의 클래스 비율 출력\n",
        "print(\"\\nBalanced Class Distribution (After Oversampling):\")\n",
        "print(balanced_data['status'].value_counts())  # 오버샘플링 후 클래스 비율 출력"
      ],
      "metadata": {
        "colab": {
          "base_uri": "https://localhost:8080/"
        },
        "id": "8-mQQdNWu--9",
        "outputId": "64324750-4ef3-42aa-a4dc-164f99572942"
      },
      "execution_count": null,
      "outputs": [
        {
          "output_type": "stream",
          "name": "stdout",
          "text": [
            "Original Class Distribution:\n",
            "status\n",
            "OK       68\n",
            "WARN     25\n",
            "ERROR     7\n",
            "Name: count, dtype: int64\n",
            "\n",
            "Balanced Class Distribution (After Oversampling):\n",
            "status\n",
            "ERROR    93\n",
            "OK       68\n",
            "WARN     25\n",
            "Name: count, dtype: int64\n"
          ]
        }
      ]
    },
    {
      "cell_type": "code",
      "source": [
        "# 오버샘플링된 데이터를 X_balanced, y_balanced로 재설정\n",
        "X_balanced = balanced_data[['value']]\n",
        "y_balanced = balanced_data['status'].apply(lambda x: 1 if x == 'ERROR' else 0)"
      ],
      "metadata": {
        "id": "LHFZ17Y-vdKZ"
      },
      "execution_count": null,
      "outputs": []
    },
    {
      "cell_type": "code",
      "source": [
        "# 2. 데이터 분할\n",
        "# 학습 데이터와 테스트 데이터로 분할\n",
        "X_train, X_test, y_train, y_test = train_test_split(X_balanced, y_balanced, test_size=0.3, random_state=42)\n",
        "\n",
        "# 분할 결과 확인\n",
        "print(\"\\nTraining set class distribution:\")\n",
        "print(y_train.value_counts())  # 학습 데이터 클래스 비율 확인\n",
        "print(\"\\nTest set class distribution:\")\n",
        "print(y_test.value_counts())  # 테스트 데이터 클래스 비율 확인\n"
      ],
      "metadata": {
        "colab": {
          "base_uri": "https://localhost:8080/"
        },
        "id": "T3grXluivx-Q",
        "outputId": "56cde0b4-a34a-4662-bfcc-48c729c8ed36"
      },
      "execution_count": null,
      "outputs": [
        {
          "output_type": "stream",
          "name": "stdout",
          "text": [
            "\n",
            "Training set class distribution:\n",
            "status\n",
            "0    67\n",
            "1    63\n",
            "Name: count, dtype: int64\n",
            "\n",
            "Test set class distribution:\n",
            "status\n",
            "1    30\n",
            "0    26\n",
            "Name: count, dtype: int64\n"
          ]
        }
      ]
    },
    {
      "cell_type": "code",
      "source": [
        "# 3. 랜덤 포레스트 모델 학습\n",
        "# 하이퍼파라미터 조정된 모델을 생성하고 학습을 진행합니다.\n",
        "tuned_model = RandomForestClassifier(n_estimators=200, max_depth=10, min_samples_split=5, random_state=42)\n",
        "tuned_model.fit(X_train, y_train)\n",
        "\n",
        "# 모델 학습 완료 메시지 출력\n",
        "print(\"\\nModel training complete.\")"
      ],
      "metadata": {
        "colab": {
          "base_uri": "https://localhost:8080/"
        },
        "id": "L-tc-pQcv9Au",
        "outputId": "a187e86a-17ae-4065-d77c-aa8a9626006a"
      },
      "execution_count": null,
      "outputs": [
        {
          "output_type": "stream",
          "name": "stdout",
          "text": [
            "\n",
            "Model training complete.\n"
          ]
        }
      ]
    },
    {
      "cell_type": "code",
      "source": [
        "# 4. 예측 및 평가\n",
        "# 테스트 데이터에 대한 예측 수행\n",
        "y_pred = tuned_model.predict(X_test)\n",
        "\n",
        "# 분류 보고서 출력\n",
        "print(\"\\nClassification Report:\")\n",
        "print(classification_report(y_test, y_pred))"
      ],
      "metadata": {
        "colab": {
          "base_uri": "https://localhost:8080/"
        },
        "id": "pUhpLD6HwA3P",
        "outputId": "f5a991c3-20f6-4ba1-d684-a27dafc27af4"
      },
      "execution_count": null,
      "outputs": [
        {
          "output_type": "stream",
          "name": "stdout",
          "text": [
            "\n",
            "Classification Report:\n",
            "              precision    recall  f1-score   support\n",
            "\n",
            "           0       1.00      0.92      0.96        26\n",
            "           1       0.94      1.00      0.97        30\n",
            "\n",
            "    accuracy                           0.96        56\n",
            "   macro avg       0.97      0.96      0.96        56\n",
            "weighted avg       0.97      0.96      0.96        56\n",
            "\n"
          ]
        }
      ]
    },
    {
      "cell_type": "code",
      "source": [
        "# 혼동 행렬 생성 및 시각화\n",
        "conf_matrix = confusion_matrix(y_test, y_pred)\n",
        "plt.figure(figsize=(6, 5))\n",
        "sns.heatmap(conf_matrix, annot=True, fmt=\"d\", cmap=\"Blues\", cbar=False,\n",
        "            xticklabels=[\"Not Error\", \"Error\"], yticklabels=[\"Not Error\", \"Error\"])\n",
        "plt.title(\"Confusion Matrix (After Simple Oversampling and Tuning)\")\n",
        "plt.xlabel(\"Predicted\")\n",
        "plt.ylabel(\"Actual\")\n",
        "plt.show()"
      ],
      "metadata": {
        "colab": {
          "base_uri": "https://localhost:8080/",
          "height": 487
        },
        "id": "sHENS5DwwFEs",
        "outputId": "0dd81f95-269e-469d-b401-a01201ca5205"
      },
      "execution_count": null,
      "outputs": [
        {
          "output_type": "display_data",
          "data": {
            "text/plain": [
              "<Figure size 600x500 with 1 Axes>"
            ],
            "image/png": "[encoded data removed]"
          },
          "metadata": {}
        }
      ]
    },
    {
      "cell_type": "markdown",
      "source": [
        "#**7. 예측 결과 저장**"
      ],
      "metadata": {
        "id": "tMTme0ipuF-S"
      }
    },
    {
      "cell_type": "code",
      "source": [
        "# 예측 결과를 Excel 파일로 저장하여 추후 분석에 활용합니다.\n",
        "\n",
        "# 테스트 데이터에 실제 값과 예측 값을 함께 저장하여 비교할 수 있도록 합니다.\n",
        "test_results = X_test.copy()  # 테스트 데이터를 복사하여 새로운 DataFrame 생성\n",
        "test_results['Actual Status'] = y_test.values  # 실제 상태 추가\n",
        "test_results['Predicted Status'] = y_pred  # 예측된 상태 추가\n",
        "\n",
        "# 예측 결과 미리 확인\n",
        "print(\"\\nPreview of Prediction Results:\")\n",
        "print(test_results.head())  # 결과표의 첫 몇 줄을 출력하여 확인\n",
        "\n",
        "# 예측 결과를 Excel 파일로 저장합니다.\n",
        "output_file = \"sensor_log_predictions.xlsx\"\n",
        "test_results.to_excel(output_file, index=False)\n",
        "\n",
        "print(f\"\\n예측 결과가 {output_file} 파일에 저장되었습니다.\")"
      ],
      "metadata": {
        "colab": {
          "base_uri": "https://localhost:8080/"
        },
        "id": "VVoUs5-vtfTn",
        "outputId": "af8a8d0a-cd78-4905-b6ec-e2498df57143"
      },
      "execution_count": null,
      "outputs": [
        {
          "output_type": "stream",
          "name": "stdout",
          "text": [
            "\n",
            "Preview of Prediction Results:\n",
            "         value  Actual Status  Predicted Status\n",
            "113  54.752608              1                 1\n",
            "164  54.752608              1                 1\n",
            "169  35.658456              1                 1\n",
            "101  45.161319              1                 1\n",
            "100  28.774880              1                 1\n",
            "\n",
            "예측 결과가 sensor_log_predictions.xlsx 파일에 저장되었습니다.\n"
          ]
        }
      ]
    },
    {
      "cell_type": "code",
      "source": [
        "\n",
        "\n",
        "# 오버샘플링 적용\n",
        "# Error 데이터를 여러 번 복제하여 불균형 문제를 해결\n",
        "error_data = df[df['status'] == 'ERROR']\n",
        "non_error_data = df[df['status'] != 'ERROR']\n",
        "\n",
        "# Error 데이터를 복제하여 다수의 데이터와 비슷한 비율로 맞춥니다.\n",
        "balanced_data = pd.concat([non_error_data, error_data.sample(len(non_error_data), replace=True)], ignore_index=True)\n",
        "\n",
        "# 오버샘플링된 데이터를 다시 X, y로 설정\n",
        "X_balanced = balanced_data[['value']]\n",
        "y_balanced = balanced_data['status'].apply(lambda x: 1 if x == 'ERROR' else 0)\n",
        "\n",
        "# 데이터 분할\n",
        "X_train, X_test, y_train, y_test = train_test_split(X_balanced, y_balanced, test_size=0.3, random_state=42)\n",
        "\n",
        "# 모델 학습\n",
        "tuned_model = RandomForestClassifier(n_estimators=200, max_depth=10, min_samples_split=5, random_state=42)\n",
        "tuned_model.fit(X_train, y_train)\n",
        "\n",
        "# 예측 및 평가\n",
        "y_pred = tuned_model.predict(X_test)\n",
        "print(classification_report(y_test, y_pred))\n",
        "conf_matrix = confusion_matrix(y_test, y_pred)\n",
        "\n",
        "# 혼동 행렬 시각화\n",
        "plt.figure(figsize=(6, 5))\n",
        "sns.heatmap(conf_matrix, annot=True, fmt=\"d\", cmap=\"Blues\", cbar=False,\n",
        "            xticklabels=[\"Not Error\", \"Error\"], yticklabels=[\"Not Error\", \"Error\"])\n",
        "plt.title(\"Confusion Matrix (After Simple Oversampling and Tuning)\")\n",
        "plt.xlabel(\"Predicted\")\n",
        "plt.ylabel(\"Actual\")\n",
        "plt.show()\n"
      ],
      "metadata": {
        "colab": {
          "base_uri": "https://localhost:8080/",
          "height": 712
        },
        "id": "rLtk3BPntChe",
        "outputId": "4a055f15-327d-4c2d-9b28-39803e35696c"
      },
      "execution_count": null,
      "outputs": [
        {
          "output_type": "display_data",
          "data": {
            "text/plain": [
              "<IPython.core.display.HTML object>"
            ],
            "text/html": [
              "\n",
              "     <input type=\"file\" id=\"files-0a6d3f20-3f11-46bd-8c1e-eb84aa01e9a3\" name=\"files[]\" multiple disabled\n",
              "        style=\"border:none\" />\n",
              "     <output id=\"result-0a6d3f20-3f11-46bd-8c1e-eb84aa01e9a3\">\n",
              "      Upload widget is only available when the cell has been executed in the\n",
              "      current browser session. Please rerun this cell to enable.\n",
              "      </output>\n",
              "      <script>// Copyright 2017 Google LLC\n",
              "//\n",
              "// Licensed under the Apache License, Version 2.0 (the \"License\");\n",
              "// you may not use this file except in compliance with the License.\n",
              "// You may obtain a copy of the License at\n",
              "//\n",
              "//      http://www.apache.org/licenses/LICENSE-2.0\n",
              "//\n",
              "// Unless required by applicable law or agreed to in writing, software\n",
              "// distributed under the License is distributed on an \"AS IS\" BASIS,\n",
              "// WITHOUT WARRANTIES OR CONDITIONS OF ANY KIND, either express or implied.\n",
              "// See the License for the specific language governing permissions and\n",
              "// limitations under the License.\n",
              "\n",
              "/**\n",
              " * @fileoverview Helpers for google.colab Python module.\n",
              " */\n",
              "(function(scope) {\n",
              "function span(text, styleAttributes = {}) {\n",
              "  const element = document.createElement('span');\n",
              "  element.textContent = text;\n",
              "  for (const key of Object.keys(styleAttributes)) {\n",
              "    element.style[key] = styleAttributes[key];\n",
              "  }\n",
              "  return element;\n",
              "}\n",
              "\n",
              "// Max number of bytes which will be uploaded at a time.\n",
              "const MAX_PAYLOAD_SIZE = 100 * 1024;\n",
              "\n",
              "function _uploadFiles(inputId, outputId) {\n",
              "  const steps = uploadFilesStep(inputId, outputId);\n",
              "  const outputElement = document.getElementById(outputId);\n",
              "  // Cache steps on the outputElement to make it available for the next call\n",
              "  // to uploadFilesContinue from Python.\n",
              "  outputElement.steps = steps;\n",
              "\n",
              "  return _uploadFilesContinue(outputId);\n",
              "}\n",
              "\n",
              "// This is roughly an async generator (not supported in the browser yet),\n",
              "// where there are multiple asynchronous steps and the Python side is going\n",
              "// to poll for completion of each step.\n",
              "// This uses a Promise to block the python side on completion of each step,\n",
              "// then passes the result of the previous step as the input to the next step.\n",
              "function _uploadFilesContinue(outputId) {\n",
              "  const outputElement = document.getElementById(outputId);\n",
              "  const steps = outputElement.steps;\n",
              "\n",
              "  const next = steps.next(outputElement.lastPromiseValue);\n",
              "  return Promise.resolve(next.value.promise).then((value) => {\n",
              "    // Cache the last promise value to make it available to the next\n",
              "    // step of the generator.\n",
              "    outputElement.lastPromiseValue = value;\n",
              "    return next.value.response;\n",
              "  });\n",
              "}\n",
              "\n",
              "/**\n",
              " * Generator function which is called between each async step of the upload\n",
              " * process.\n",
              " * @param {string} inputId Element ID of the input file picker element.\n",
              " * @param {string} outputId Element ID of the output display.\n",
              " * @return {!Iterable<!Object>} Iterable of next steps.\n",
              " */\n",
              "function* uploadFilesStep(inputId, outputId) {\n",
              "  const inputElement = document.getElementById(inputId);\n",
              "  inputElement.disabled = false;\n",
              "\n",
              "  const outputElement = document.getElementById(outputId);\n",
              "  outputElement.innerHTML = '';\n",
              "\n",
              "  const pickedPromise = new Promise((resolve) => {\n",
              "    inputElement.addEventListener('change', (e) => {\n",
              "      resolve(e.target.files);\n",
              "    });\n",
              "  });\n",
              "\n",
              "  const cancel = document.createElement('button');\n",
              "  inputElement.parentElement.appendChild(cancel);\n",
              "  cancel.textContent = 'Cancel upload';\n",
              "  const cancelPromise = new Promise((resolve) => {\n",
              "    cancel.onclick = () => {\n",
              "      resolve(null);\n",
              "    };\n",
              "  });\n",
              "\n",
              "  // Wait for the user to pick the files.\n",
              "  const files = yield {\n",
              "    promise: Promise.race([pickedPromise, cancelPromise]),\n",
              "    response: {\n",
              "      action: 'starting',\n",
              "    }\n",
              "  };\n",
              "\n",
              "  cancel.remove();\n",
              "\n",
              "  // Disable the input element since further picks are not allowed.\n",
              "  inputElement.disabled = true;\n",
              "\n",
              "  if (!files) {\n",
              "    return {\n",
              "      response: {\n",
              "        action: 'complete',\n",
              "      }\n",
              "    };\n",
              "  }\n",
              "\n",
              "  for (const file of files) {\n",
              "    const li = document.createElement('li');\n",
              "    li.append(span(file.name, {fontWeight: 'bold'}));\n",
              "    li.append(span(\n",
              "        `(${file.type || 'n/a'}) - ${file.size} bytes, ` +\n",
              "        `last modified: ${\n",
              "            file.lastModifiedDate ? file.lastModifiedDate.toLocaleDateString() :\n",
              "                                    'n/a'} - `));\n",
              "    const percent = span('0% done');\n",
              "    li.appendChild(percent);\n",
              "\n",
              "    outputElement.appendChild(li);\n",
              "\n",
              "    const fileDataPromise = new Promise((resolve) => {\n",
              "      const reader = new FileReader();\n",
              "      reader.onload = (e) => {\n",
              "        resolve(e.target.result);\n",
              "      };\n",
              "      reader.readAsArrayBuffer(file);\n",
              "    });\n",
              "    // Wait for the data to be ready.\n",
              "    let fileData = yield {\n",
              "      promise: fileDataPromise,\n",
              "      response: {\n",
              "        action: 'continue',\n",
              "      }\n",
              "    };\n",
              "\n",
              "    // Use a chunked sending to avoid message size limits. See b/62115660.\n",
              "    let position = 0;\n",
              "    do {\n",
              "      const length = Math.min(fileData.byteLength - position, MAX_PAYLOAD_SIZE);\n",
              "      const chunk = new Uint8Array(fileData, position, length);\n",
              "      position += length;\n",
              "\n",
              "      const base64 = btoa(String.fromCharCode.apply(null, chunk));\n",
              "      yield {\n",
              "        response: {\n",
              "          action: 'append',\n",
              "          file: file.name,\n",
              "          data: base64,\n",
              "        },\n",
              "      };\n",
              "\n",
              "      let percentDone = fileData.byteLength === 0 ?\n",
              "          100 :\n",
              "          Math.round((position / fileData.byteLength) * 100);\n",
              "      percent.textContent = `${percentDone}% done`;\n",
              "\n",
              "    } while (position < fileData.byteLength);\n",
              "  }\n",
              "\n",
              "  // All done.\n",
              "  yield {\n",
              "    response: {\n",
              "      action: 'complete',\n",
              "    }\n",
              "  };\n",
              "}\n",
              "\n",
              "scope.google = scope.google || {};\n",
              "scope.google.colab = scope.google.colab || {};\n",
              "scope.google.colab._files = {\n",
              "  _uploadFiles,\n",
              "  _uploadFilesContinue,\n",
              "};\n",
              "})(self);\n",
              "</script> "
            ]
          },
          "metadata": {}
        },
        {
          "output_type": "stream",
          "name": "stdout",
          "text": [
            "Saving sensor_log.csv to sensor_log (5).csv\n",
            "              precision    recall  f1-score   support\n",
            "\n",
            "           0       1.00      0.92      0.96        26\n",
            "           1       0.94      1.00      0.97        30\n",
            "\n",
            "    accuracy                           0.96        56\n",
            "   macro avg       0.97      0.96      0.96        56\n",
            "weighted avg       0.97      0.96      0.96        56\n",
            "\n"
          ]
        },
        {
          "output_type": "display_data",
          "data": {
            "text/plain": [
              "<Figure size 600x500 with 1 Axes>"
            ],
            "image/png": "[encoded data removed]"
          },
          "metadata": {}
        }
      ]
    },
    {
      "cell_type": "code",
      "source": [
        "혼동 행렬 (Confusion Matrix)\n",
        "혼동 행렬은 모델의 예측 결과를 시각적으로 보여주는 표입니다.\n",
        "\n",
        "가로축 (Predicted): 모델이 예측한 값입니다.\n",
        "Not Error: 모델이 Not Error (정상 상태)로 예측한 샘플 수\n",
        "Error: 모델이 Error 상태로 예측한 샘플 수\n",
        "세로축 (Actual): 실제 값입니다.\n",
        "Not Error: 실제 Not Error 상태인 샘플 수\n",
        "Error: 실제 Error 상태인 샘플 수"
      ],
      "metadata": {
        "id": "ZjnA4_DBtsZS"
      },
      "execution_count": null,
      "outputs": []
    }
  ]
}