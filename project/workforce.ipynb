{
 "cells": [
  {
   "cell_type": "code",
   "execution_count": 27,
   "metadata": {},
   "outputs": [
    {
     "data": {
      "text/html": [
       "<div>\n",
       "<style scoped>\n",
       "    .dataframe tbody tr th:only-of-type {\n",
       "        vertical-align: middle;\n",
       "    }\n",
       "\n",
       "    .dataframe tbody tr th {\n",
       "        vertical-align: top;\n",
       "    }\n",
       "\n",
       "    .dataframe thead th {\n",
       "        text-align: right;\n",
       "    }\n",
       "</style>\n",
       "<table border=\"1\" class=\"dataframe\">\n",
       "  <thead>\n",
       "    <tr style=\"text-align: right;\">\n",
       "      <th></th>\n",
       "      <th>시점</th>\n",
       "      <th>전체</th>\n",
       "      <th>서울</th>\n",
       "      <th>광역시</th>\n",
       "      <th>중소도시</th>\n",
       "      <th>읍면지역</th>\n",
       "    </tr>\n",
       "  </thead>\n",
       "  <tbody>\n",
       "    <tr>\n",
       "      <th>0</th>\n",
       "      <td>시점</td>\n",
       "      <td>전체 (억원)</td>\n",
       "      <td>전체 (억원)</td>\n",
       "      <td>전체 (억원)</td>\n",
       "      <td>전체 (억원)</td>\n",
       "      <td>전체 (억원)</td>\n",
       "    </tr>\n",
       "    <tr>\n",
       "      <th>1</th>\n",
       "      <td>2007</td>\n",
       "      <td>200400</td>\n",
       "      <td>47410</td>\n",
       "      <td>54016</td>\n",
       "      <td>84634</td>\n",
       "      <td>14339</td>\n",
       "    </tr>\n",
       "    <tr>\n",
       "      <th>2</th>\n",
       "      <td>2008</td>\n",
       "      <td>209095</td>\n",
       "      <td>48258</td>\n",
       "      <td>55401</td>\n",
       "      <td>90785</td>\n",
       "      <td>14650</td>\n",
       "    </tr>\n",
       "    <tr>\n",
       "      <th>3</th>\n",
       "      <td>2009</td>\n",
       "      <td>216259</td>\n",
       "      <td>52502</td>\n",
       "      <td>51584</td>\n",
       "      <td>91114</td>\n",
       "      <td>21059</td>\n",
       "    </tr>\n",
       "    <tr>\n",
       "      <th>4</th>\n",
       "      <td>2010</td>\n",
       "      <td>208718</td>\n",
       "      <td>49119</td>\n",
       "      <td>49716</td>\n",
       "      <td>88467</td>\n",
       "      <td>21415</td>\n",
       "    </tr>\n",
       "  </tbody>\n",
       "</table>\n",
       "</div>"
      ],
      "text/plain": [
       "     시점       전체       서울      광역시     중소도시     읍면지역\n",
       "0    시점  전체 (억원)  전체 (억원)  전체 (억원)  전체 (억원)  전체 (억원)\n",
       "1  2007   200400    47410    54016    84634    14339\n",
       "2  2008   209095    48258    55401    90785    14650\n",
       "3  2009   216259    52502    51584    91114    21059\n",
       "4  2010   208718    49119    49716    88467    21415"
      ]
     },
     "execution_count": 27,
     "metadata": {},
     "output_type": "execute_result"
    }
   ],
   "source": [
    "import pandas as pd\n",
    "\n",
    "education = pd.read_csv('private_education.csv')\n",
    "income = pd.read_csv('income.csv')\n",
    "education.head()"
   ]
  },
  {
   "cell_type": "code",
   "execution_count": 28,
   "metadata": {},
   "outputs": [
    {
     "name": "stdout",
     "output_type": "stream",
     "text": [
      "<class 'pandas.core.frame.DataFrame'>\n",
      "RangeIndex: 18 entries, 0 to 17\n",
      "Data columns (total 6 columns):\n",
      " #   Column  Non-Null Count  Dtype         \n",
      "---  ------  --------------  -----         \n",
      " 0   시점      17 non-null     datetime64[ns]\n",
      " 1   전체      17 non-null     float64       \n",
      " 2   서울      17 non-null     float64       \n",
      " 3   광역시     17 non-null     float64       \n",
      " 4   중소도시    17 non-null     float64       \n",
      " 5   읍면지역    17 non-null     float64       \n",
      "dtypes: datetime64[ns](1), float64(5)\n",
      "memory usage: 996.0 bytes\n"
     ]
    }
   ],
   "source": [
    "education['시점'] = pd.to_datetime(education['시점'], format='%Y', errors='coerce')\n",
    "\n",
    "# 각 지역별 데이터 숫자형으로 변환 (문자열에서 숫자로 변환)\n",
    "for column in ['전체', '서울', '광역시', '중소도시', '읍면지역']:\n",
    "    education[column] = pd.to_numeric(education[column], errors='coerce')\n",
    "\n",
    "education.info()"
   ]
  },
  {
   "cell_type": "code",
   "execution_count": 30,
   "metadata": {},
   "outputs": [
    {
     "data": {
      "text/plain": [
       "(                       전체            서울           광역시          중소도시  \\\n",
       " 2007-01-31  200400.000000  47410.000000  54016.000000  84634.000000   \n",
       " 2007-02-28  201124.583333  47480.666667  54131.416667  85146.583333   \n",
       " 2007-03-31  201849.166667  47551.333333  54246.833333  85659.166667   \n",
       " 2007-04-30  202573.750000  47622.000000  54362.250000  86171.750000   \n",
       " 2007-05-31  203298.333333  47692.666667  54477.666667  86684.333333   \n",
       " 2007-06-30  204022.916667  47763.333333  54593.083333  87196.916667   \n",
       " 2007-07-31  204747.500000  47834.000000  54708.500000  87709.500000   \n",
       " 2007-08-31  205472.083333  47904.666667  54823.916667  88222.083333   \n",
       " 2007-09-30  206196.666667  47975.333333  54939.333333  88734.666667   \n",
       " 2007-10-31  206921.250000  48046.000000  55054.750000  89247.250000   \n",
       " 2007-11-30  207645.833333  48116.666667  55170.166667  89759.833333   \n",
       " 2007-12-31  208370.416667  48187.333333  55285.583333  90272.416667   \n",
       " \n",
       "                     읍면지역  \n",
       " 2007-01-31  14339.000000  \n",
       " 2007-02-28  14364.916667  \n",
       " 2007-03-31  14390.833333  \n",
       " 2007-04-30  14416.750000  \n",
       " 2007-05-31  14442.666667  \n",
       " 2007-06-30  14468.583333  \n",
       " 2007-07-31  14494.500000  \n",
       " 2007-08-31  14520.416667  \n",
       " 2007-09-30  14546.333333  \n",
       " 2007-10-31  14572.250000  \n",
       " 2007-11-30  14598.166667  \n",
       " 2007-12-31  14624.083333  ,\n",
       " (192, 5))"
      ]
     },
     "execution_count": 30,
     "metadata": {},
     "output_type": "execute_result"
    }
   ],
   "source": [
    "# 월별 인덱스 생성\n",
    "monthly_index = pd.date_range(start=education['시점'].min(), end=education['시점'].max(), freq='ME')\n",
    "\n",
    "# 월별 데이터 프레임 생성\n",
    "monthly_education = pd.DataFrame(index=monthly_index)\n",
    "\n",
    "# 각 지역별 데이터를 추가\n",
    "for column in ['전체', '서울', '광역시', '중소도시', '읍면지역']:\n",
    "    # 해당 지역의 연도별 데이터만 선택하고 인덱스를 연도 형태로 변환\n",
    "    yearly_data = education.set_index('시점')[column]\n",
    "    \n",
    "    # 보간을 위한 리샘플링\n",
    "    monthly_data = yearly_data.resample('ME').mean()  # 평균으로 리샘플링\n",
    "    monthly_data = monthly_data.interpolate(method='linear')  # 선형 보간\n",
    "    monthly_education[column] = monthly_data\n",
    "\n",
    "monthly_education.head(12), monthly_education.shape\n"
   ]
  }
 ],
 "metadata": {
  "kernelspec": {
   "display_name": "myConda",
   "language": "python",
   "name": "python3"
  },
  "language_info": {
   "codemirror_mode": {
    "name": "ipython",
    "version": 3
   },
   "file_extension": ".py",
   "mimetype": "text/x-python",
   "name": "python",
   "nbconvert_exporter": "python",
   "pygments_lexer": "ipython3",
   "version": "3.12.3"
  }
 },
 "nbformat": 4,
 "nbformat_minor": 2
}
