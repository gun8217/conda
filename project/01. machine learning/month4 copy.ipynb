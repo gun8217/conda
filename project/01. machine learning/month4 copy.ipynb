{
 "cells": [
  {
   "cell_type": "code",
   "execution_count": 7,
   "metadata": {},
   "outputs": [
    {
     "data": {
      "text/plain": [
       "(    지역별    시점  인터넷이용률\n",
       " 204  강원  2012    72.1\n",
       " 205  경기  2012    83.1\n",
       " 206  경남  2012    73.2\n",
       " 207  경북  2012    69.0\n",
       " 208  광주  2012    81.4,\n",
       " (202, 3),\n",
       " array(['강원', '경기', '경남', '경북', '광주', '대구', '대전', '부산', '서울', '울산', '인천',\n",
       "        '전남', '전북', '제주', '충남', '충북', '충청'], dtype=object))"
      ]
     },
     "execution_count": 7,
     "metadata": {},
     "output_type": "execute_result"
    }
   ],
   "source": [
    "import pandas as pd\n",
    "\n",
    "df = pd.read_csv('data/life/internet.csv')\n",
    "df = df.drop(columns=['합계출산율'])\n",
    "df = df.dropna()\n",
    "df.head(), df.shape, df['지역별'].unique()\n"
   ]
  },
  {
   "cell_type": "code",
   "execution_count": 8,
   "metadata": {},
   "outputs": [
    {
     "name": "stdout",
     "output_type": "stream",
     "text": [
      "         시점 인터넷이용률 지역별\n",
      "0   2012.01  72.10  강원\n",
      "1   2012.02  72.41  강원\n",
      "2   2012.03  72.72  강원\n",
      "3   2012.04  73.02  강원\n",
      "4   2012.05  73.33  강원\n",
      "5   2012.06  73.64  강원\n",
      "6   2012.07  73.95  강원\n",
      "7   2012.08  74.26  강원\n",
      "8   2012.09  74.57  강원\n",
      "9   2012.10  74.88  강원\n",
      "10  2012.11  75.18  강원\n",
      "11  2012.12  75.49  강원 (2237, 3) ['강원' '경기' '경남' '경북' '광주' '대구' '대전' '부산' '서울' '울산' '인천' '전남' '전북' '제주'\n",
      " '충남' '충북' '충청']\n"
     ]
    }
   ],
   "source": [
    "# '시점'을 datetime 형식으로 변환\n",
    "df['시점'] = pd.to_datetime(df['시점'].astype(str) + '-01-01')\n",
    "\n",
    "# 인덱스로 설정\n",
    "yearly_data = df.set_index('시점')\n",
    "\n",
    "# '인터넷이용률'을 숫자형으로 변환 (문자열에서 숫자로)\n",
    "yearly_data['인터넷이용률'] = pd.to_numeric(yearly_data['인터넷이용률'], errors='coerce')\n",
    "\n",
    "# 지역별로 그룹화 후 리샘플링\n",
    "monthly_dfs = []\n",
    "\n",
    "for region, group in yearly_data.groupby('지역별'):\n",
    "    monthly_df = group.resample('ME').agg({'인터넷이용률': 'mean'}).round(3)\n",
    "    \n",
    "    # 보간\n",
    "    monthly_df = monthly_df.interpolate(method='linear')\n",
    "    \n",
    "    # NaN 값 처리\n",
    "    monthly_df.fillna(0, inplace=True)\n",
    "    \n",
    "    # 시점 다시 설정\n",
    "    monthly_df.reset_index(inplace=True)\n",
    "    \n",
    "    # '시점'이 datetime인지 확인 후, 형식 변경\n",
    "    if pd.api.types.is_datetime64_any_dtype(monthly_df['시점']):\n",
    "        monthly_df['시점'] = monthly_df['시점'].dt.strftime('%Y.%m')\n",
    "    \n",
    "    # 지역별 컬럼 추가\n",
    "    monthly_df['지역별'] = region\n",
    "    \n",
    "    monthly_dfs.append(monthly_df)\n",
    "\n",
    "# 모든 지역별 데이터를 하나의 DataFrame으로 결합\n",
    "final_monthly_df = pd.concat(monthly_dfs, ignore_index=True)\n",
    "final_monthly_df['인터넷이용률'] = final_monthly_df['인터넷이용률'].map(lambda x: f\"{x:.2f}\")\n",
    "\n",
    "# 결과 확인\n",
    "print(final_monthly_df.head(12), final_monthly_df.shape, final_monthly_df['지역별'].unique())\n",
    "\n",
    "# 데이터 저장\n",
    "final_monthly_df.to_csv('data/life/인터넷이용률(월별).csv', index=False)"
   ]
  }
 ],
 "metadata": {
  "kernelspec": {
   "display_name": "myConda",
   "language": "python",
   "name": "python3"
  },
  "language_info": {
   "codemirror_mode": {
    "name": "ipython",
    "version": 3
   },
   "file_extension": ".py",
   "mimetype": "text/x-python",
   "name": "python",
   "nbconvert_exporter": "python",
   "pygments_lexer": "ipython3",
   "version": "3.12.4"
  }
 },
 "nbformat": 4,
 "nbformat_minor": 2
}
