{
 "cells": [
  {
   "cell_type": "code",
   "execution_count": 16,
   "metadata": {},
   "outputs": [
    {
     "data": {
      "text/plain": [
       "(     시점   지역별  사교육참여율\n",
       " 0  2009  대도시외    68.1\n",
       " 1  2009  대도시외    77.4\n",
       " 2  2009  대도시외    75.6\n",
       " 3  2009  대도시외    74.0\n",
       " 4  2009   광역시    75.9,\n",
       " (250, 3),\n",
       " array(['대도시외', '광역시', '서울'], dtype=object))"
      ]
     },
     "execution_count": 16,
     "metadata": {},
     "output_type": "execute_result"
    }
   ],
   "source": [
    "import pandas as pd\n",
    "\n",
    "df = pd.read_csv('data/시도별사교육참여율(년도).csv')\n",
    "df.head(), df.shape, df['지역별'].unique()\n"
   ]
  },
  {
   "cell_type": "code",
   "execution_count": 17,
   "metadata": {},
   "outputs": [
    {
     "name": "stderr",
     "output_type": "stream",
     "text": [
      "C:\\Users\\Administrator\\AppData\\Local\\Temp\\ipykernel_272\\3223346247.py:18: FutureWarning: 'M' is deprecated and will be removed in a future version, please use 'ME' instead.\n",
      "  monthly_data = yearly_data.resample('M').mean()  # 평균으로 리샘플링\n",
      "C:\\Users\\Administrator\\AppData\\Local\\Temp\\ipykernel_272\\3223346247.py:18: FutureWarning: 'M' is deprecated and will be removed in a future version, please use 'ME' instead.\n",
      "  monthly_data = yearly_data.resample('M').mean()  # 평균으로 리샘플링\n",
      "C:\\Users\\Administrator\\AppData\\Local\\Temp\\ipykernel_272\\3223346247.py:18: FutureWarning: 'M' is deprecated and will be removed in a future version, please use 'ME' instead.\n",
      "  monthly_data = yearly_data.resample('M').mean()  # 평균으로 리샘플링\n"
     ]
    },
    {
     "data": {
      "text/plain": [
       "(         시점  광역시  대도시외  서울\n",
       " 0   2009.01   74    70  79\n",
       " 1   2009.02   74    70  79\n",
       " 2   2009.03   74    70  79\n",
       " 3   2009.04   74    70  79\n",
       " 4   2009.05   74    70  78\n",
       " 5   2009.06   74    69  78\n",
       " 6   2009.07   74    69  78\n",
       " 7   2009.08   74    69  78\n",
       " 8   2009.09   74    69  78\n",
       " 9   2009.10   74    69  78\n",
       " 10  2009.11   74    69  77\n",
       " 11  2009.12   74    69  77,\n",
       " (169, 4))"
      ]
     },
     "execution_count": 17,
     "metadata": {},
     "output_type": "execute_result"
    }
   ],
   "source": [
    "import pandas as pd\n",
    "\n",
    "# 시점 변환\n",
    "df['시점'] = pd.to_datetime(df['시점'], format='%Y', errors='coerce')\n",
    "\n",
    "# 월별 데이터 프레임 생성\n",
    "monthly_df = pd.DataFrame()\n",
    "\n",
    "# 지역별로 그룹화 후 평균 계산\n",
    "grouped = df.groupby(['시점', '지역별'])['사교육참여율'].mean().reset_index()\n",
    "\n",
    "# 각 지역별 데이터를 추가\n",
    "for region in grouped['지역별'].unique():\n",
    "    # 해당 지역 데이터 추출 및 인덱스 설정\n",
    "    yearly_data = grouped[grouped['지역별'] == region].set_index('시점')['사교육참여율']\n",
    "    \n",
    "    # 보간을 위한 리샘플링\n",
    "    monthly_data = yearly_data.resample('M').mean()  # 평균으로 리샘플링\n",
    "    monthly_data = monthly_data.interpolate(method='linear')  # 선형 보간\n",
    "    \n",
    "    # 결측값 제거\n",
    "    monthly_data = monthly_data.dropna()\n",
    "    \n",
    "    # 지역별 데이터 추가\n",
    "    monthly_df[region] = monthly_data.astype(int)\n",
    "\n",
    "# 인덱스를 시점으로 설정\n",
    "monthly_df.index.name = '시점'\n",
    "monthly_df.reset_index(inplace=True)\n",
    "\n",
    "# 시점 포맷 변환\n",
    "monthly_df['시점'] = monthly_df['시점'].dt.strftime('%Y.%m')\n",
    "\n",
    "monthly_df.head(12), monthly_df.shape\n",
    "\n",
    "# # 데이터 저장\n",
    "# monthly_df.to_csv('시도별사교육참여율(월별).csv')\n"
   ]
  },
  {
   "cell_type": "code",
   "execution_count": null,
   "metadata": {},
   "outputs": [],
   "source": []
  }
 ],
 "metadata": {
  "kernelspec": {
   "display_name": "myConda",
   "language": "python",
   "name": "python3"
  },
  "language_info": {
   "codemirror_mode": {
    "name": "ipython",
    "version": 3
   },
   "file_extension": ".py",
   "mimetype": "text/x-python",
   "name": "python",
   "nbconvert_exporter": "python",
   "pygments_lexer": "ipython3",
   "version": "3.12.4"
  }
 },
 "nbformat": 4,
 "nbformat_minor": 2
}
