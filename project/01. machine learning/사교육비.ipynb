{
 "cells": [
  {
   "cell_type": "code",
   "execution_count": 64,
   "metadata": {},
   "outputs": [],
   "source": [
    "import pandas as pd\n",
    "\n",
    "# 데이터 준비\n",
    "education = pd.read_csv('data/사교육비.csv')\n",
    "sum = pd.read_csv('data/합계출산율.csv')"
   ]
  },
  {
   "cell_type": "code",
   "execution_count": 65,
   "metadata": {},
   "outputs": [],
   "source": [
    "merged_df = pd.merge(education, sum, on=['시점', '지역별'], how='outer')\n",
    "# merged_df.head(), merged_df.tail(), merged_df.shape"
   ]
  },
  {
   "cell_type": "code",
   "execution_count": 66,
   "metadata": {},
   "outputs": [],
   "source": [
    "# 결측치가 있는 행을 제거하고 복사본 생성\n",
    "df_cleaned = merged_df.dropna(subset=['총소득', '사교육비'], how='any').copy()\n",
    "\n",
    "# 총소득을 만원 단위로 변환\n",
    "df_cleaned['총소득'] = df_cleaned['총소득'] * 0.01\n",
    "\n",
    "# 비율 계산\n",
    "df_cleaned['비율'] = df_cleaned['사교육비'] / df_cleaned['총소득']\n",
    "# df_cleaned.head(),df_cleaned.tail()"
   ]
  },
  {
   "cell_type": "code",
   "execution_count": 67,
   "metadata": {},
   "outputs": [],
   "source": [
    "# df_cleaned[['총소득', '사교육비']].describe()"
   ]
  },
  {
   "cell_type": "code",
   "execution_count": 68,
   "metadata": {},
   "outputs": [
    {
     "data": {
      "image/png": "[encoded data removed]",
      "text/plain": [
       "<Figure size 400x400 with 1 Axes>"
      ]
     },
     "metadata": {},
     "output_type": "display_data"
    }
   ],
   "source": [
    "import matplotlib.pyplot as plt\n",
    "\n",
    "# 폰트 깨짐 해결\n",
    "import matplotlib.font_manager as fm\n",
    "font_path = 'C:/Windows/Fonts/malgun.ttf'\n",
    "font_prop = fm.FontProperties(fname=font_path, size=12)\n",
    "plt.rcParams['font.family'] = font_prop.get_name()\n",
    "plt.rcParams['axes.unicode_minus'] = False\n",
    "\n",
    "# 총소득과 사교육비의 총합 계산\n",
    "total_income = df_cleaned['총소득'].sum()\n",
    "total_education_expense = df_cleaned['사교육비'].sum()\n",
    "\n",
    "# 파이 차트 데이터\n",
    "sizes = [total_education_expense, total_income - total_education_expense]\n",
    "labels = ['사교육비', '총소득']\n",
    "\n",
    "# 파이 차트 생성\n",
    "plt.figure(figsize=(4, 4))\n",
    "plt.pie(sizes, labels=labels, autopct='%1.1f%%', startangle=90)\n",
    "plt.axis('equal')  # 원형 차트로 보이게 설정\n",
    "plt.show()"
   ]
  },
  {
   "cell_type": "markdown",
   "metadata": {},
   "source": []
  }
 ],
 "metadata": {
  "kernelspec": {
   "display_name": "myConda",
   "language": "python",
   "name": "python3"
  },
  "language_info": {
   "codemirror_mode": {
    "name": "ipython",
    "version": 3
   },
   "file_extension": ".py",
   "mimetype": "text/x-python",
   "name": "python",
   "nbconvert_exporter": "python",
   "pygments_lexer": "ipython3",
   "version": "3.12.4"
  }
 },
 "nbformat": 4,
 "nbformat_minor": 2
}
