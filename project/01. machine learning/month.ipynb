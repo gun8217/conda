{
 "cells": [
  {
   "cell_type": "code",
   "execution_count": 1,
   "metadata": {},
   "outputs": [
    {
     "data": {
      "text/plain": [
       "(  지역별    시점    유치원   초등학교    중학교   고등학교\n",
       " 0  서울  2011  21.81  26.81  32.84  33.57\n",
       " 1  서울  2012  24.18  25.55  32.01  32.77\n",
       " 2  서울  2013  24.13  24.51  31.39  31.87\n",
       " 3  서울  2014  21.87  24.27  30.20  30.94\n",
       " 4  서울  2015  21.38  24.00  28.49  30.13,\n",
       " (236, 6),\n",
       " array(['서울', '부산', '대구', '인천', '광주', '대전', '울산', '세종', '경기', '강원', '충북',\n",
       "        '충남', '전북', '전남', '경북', '경남', '제주'], dtype=object))"
      ]
     },
     "execution_count": 1,
     "metadata": {},
     "output_type": "execute_result"
    }
   ],
   "source": [
    "import pandas as pd\n",
    "\n",
    "df = pd.read_csv('data/others/학생수.csv')\n",
    "df.head(), df.shape, df['지역별'].unique()\n"
   ]
  },
  {
   "cell_type": "code",
   "execution_count": 2,
   "metadata": {},
   "outputs": [
    {
     "data": {
      "text/plain": [
       "(  지역별    시점     학생수\n",
       " 0  서울  2011  115.03\n",
       " 1  서울  2012  114.51\n",
       " 2  서울  2013  111.90\n",
       " 3  서울  2014  107.28\n",
       " 4  서울  2015  104.00,\n",
       " (236, 3),\n",
       " Index(['지역별', '시점', '학생수'], dtype='object'))"
      ]
     },
     "execution_count": 2,
     "metadata": {},
     "output_type": "execute_result"
    }
   ],
   "source": [
    "df['학생수'] = df['유치원'] + df['초등학교'] + df['중학교'] + df['고등학교']\n",
    "df = df.drop(columns=['유치원', '초등학교', '중학교', '고등학교'])\n",
    "df.head(), df.shape, df.columns.unique()"
   ]
  },
  {
   "cell_type": "code",
   "execution_count": 3,
   "metadata": {},
   "outputs": [
    {
     "name": "stdout",
     "output_type": "stream",
     "text": [
      "         시점     학생수 지역별\n",
      "0   2011.01  99.250  강원\n",
      "1   2011.02  99.153  강원\n",
      "2   2011.03  99.057  강원\n",
      "3   2011.04  98.960  강원\n",
      "4   2011.05  98.863  강원\n",
      "5   2011.06  98.767  강원\n",
      "6   2011.07  98.670  강원\n",
      "7   2011.08  98.573  강원\n",
      "8   2011.09  98.477  강원\n",
      "9   2011.10  98.380  강원\n",
      "10  2011.11  98.283  강원\n",
      "11  2011.12  98.187  강원 (2645, 3) ['강원' '경기' '경남' '경북' '광주' '대구' '대전' '부산' '서울' '세종' '울산' '인천' '전남' '전북'\n",
      " '제주' '충남' '충북']\n"
     ]
    }
   ],
   "source": [
    "# '시점'을 datetime 형식으로 변환\n",
    "df['시점'] = pd.to_datetime(df['시점'].astype(str) + '-01-01')\n",
    "\n",
    "# 인덱스로 설정\n",
    "yearly_data = df.set_index('시점')\n",
    "\n",
    "# 지역별로 그룹화 후 리샘플링\n",
    "monthly_dfs = []\n",
    "\n",
    "for region, group in yearly_data.groupby('지역별'):\n",
    "    monthly_df = group.resample('ME').agg({'학생수': 'mean'}).round(3)\n",
    "    \n",
    "    # 보간\n",
    "    monthly_df = monthly_df.interpolate(method='linear')\n",
    "    \n",
    "    # NaN 값 처리\n",
    "    monthly_df.fillna(0, inplace=True)\n",
    "    \n",
    "    # 시점 다시 설정\n",
    "    monthly_df.reset_index(inplace=True)\n",
    "    \n",
    "    # '시점'이 datetime인지 확인 후, 형식 변경\n",
    "    if pd.api.types.is_datetime64_any_dtype(monthly_df['시점']):\n",
    "        monthly_df['시점'] = monthly_df['시점'].dt.strftime('%Y.%m')\n",
    "    \n",
    "    # 지역별 컬럼 추가\n",
    "    monthly_df['지역별'] = region\n",
    "    \n",
    "    monthly_dfs.append(monthly_df)\n",
    "\n",
    "# 모든 지역별 데이터를 하나의 DataFrame으로 결합\n",
    "final_monthly_df = pd.concat(monthly_dfs, ignore_index=True)\n",
    "final_monthly_df['학생수'] = final_monthly_df['학생수'].map(lambda x: f\"{x:.3f}\")\n",
    "\n",
    "# 결과 확인\n",
    "print(final_monthly_df.head(12), final_monthly_df.shape, final_monthly_df['지역별'].unique())\n",
    "\n",
    "# 데이터 저장\n",
    "final_monthly_df.to_csv('data/education/학생수(월별).csv', index=False)\n"
   ]
  }
 ],
 "metadata": {
  "kernelspec": {
   "display_name": "myConda",
   "language": "python",
   "name": "python3"
  },
  "language_info": {
   "codemirror_mode": {
    "name": "ipython",
    "version": 3
   },
   "file_extension": ".py",
   "mimetype": "text/x-python",
   "name": "python",
   "nbconvert_exporter": "python",
   "pygments_lexer": "ipython3",
   "version": "3.12.4"
  }
 },
 "nbformat": 4,
 "nbformat_minor": 2
}
