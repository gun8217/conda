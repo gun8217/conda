{
 "cells": [
  {
   "cell_type": "markdown",
   "metadata": {},
   "source": [
    "# 시점 : step 1년\n",
    "# 지역(17) : 서울, 부산, 대구, 인천, 광주, 대전, 울산, 세종, 경기, 강원, 충북, 충남, 전북, 전남, 경북, 경남, 제주\n",
    "# 변수명(단위)"
   ]
  },
  {
   "cell_type": "code",
   "execution_count": 127,
   "metadata": {},
   "outputs": [],
   "source": [
    "import pandas as pd\n",
    "import numpy as np"
   ]
  },
  {
   "cell_type": "code",
   "execution_count": 128,
   "metadata": {},
   "outputs": [],
   "source": [
    "# 지역명 변경 사전 : replace_region_names\n",
    "region_mapping = {\n",
    "    '서울특별시': '서울', '부산광역시': '부산', '대구광역시': '대구', '인천광역시': '인천',\n",
    "    '광주광역시': '광주', '대전광역시': '대전', '울산광역시': '울산', '세종특별자치시': '세종',\n",
    "    '경기도': '경기', '강원도': '강원', '강원특별자치도': '강원', '충청북도': '충북', '충청남도': '충남',\n",
    "    '전라북도': '전북', '전북특별자치도': '전북', '전라남도': '전남', '경상북도': '경북', '경상남도': '경남',\n",
    "    '제주도': '제주', '제주특별자치도': '제주'\n",
    "}\n",
    "\n",
    "# 지역명 변경 함수\n",
    "def replace_region_names(df, region_mapping):\n",
    "    df['지역'] = df['지역'].replace(region_mapping)\n",
    "    return df"
   ]
  },
  {
   "cell_type": "code",
   "execution_count": 129,
   "metadata": {},
   "outputs": [
    {
     "data": {
      "text/plain": [
       "(array(['서울', '부산', '대구', '인천', '광주', '대전', '울산', '세종', '경기', '강원', '충북',\n",
       "        '충남', '전북', '전남', '경북', '경남', '제주'], dtype=object),\n",
       " 17,\n",
       "      시점  지역 합계출산율(명)\n",
       " 0  2000  서울    1.275\n",
       " 1  2000  부산    1.235\n",
       " 2  2000  대구    1.378\n",
       " 3  2000  인천    1.473\n",
       " 4  2000  광주    1.636)"
      ]
     },
     "execution_count": 129,
     "metadata": {},
     "output_type": "execute_result"
    }
   ],
   "source": [
    "# 합계출산율\n",
    "fertility_df = pd.read_csv('../origin/합계출산율_전국_년.csv', index_col=0)\n",
    "fertility_df.rename(columns={'시군구별': '지역', '데이터': '합계출산율(명)'}, inplace=True)\n",
    "fertility_df = fertility_df[fertility_df['지역'] != '전국']\n",
    "fertility_df = replace_region_names(fertility_df, region_mapping)\n",
    "\n",
    "fertility_df.reset_index(inplace=True)\n",
    "fertility_df.to_csv('합계출산율.csv', index=False)\n",
    "\n",
    "fertility_df['지역'].unique(), fertility_df['지역'].nunique(), fertility_df.head()"
   ]
  },
  {
   "cell_type": "code",
   "execution_count": 130,
   "metadata": {},
   "outputs": [
    {
     "data": {
      "text/plain": [
       "(array(['강원', '경기', '경남', '경북', '광주', '대구', '대전', '부산', '서울', '울산', '인천',\n",
       "        '전남', '전북', '제주', '충남', '충북', '세종'], dtype=object),\n",
       " 17,\n",
       "      시점  지역 아파트매매가격지수(%)\n",
       " 0  2003  강원       67.350\n",
       " 1  2003  경기       52.400\n",
       " 2  2003  경남       64.850\n",
       " 3  2003  경북       67.650\n",
       " 4  2003  광주       53.450)"
      ]
     },
     "execution_count": 130,
     "metadata": {},
     "output_type": "execute_result"
    }
   ],
   "source": [
    "# 아파트매매가격지수\n",
    "apart_df = pd.read_csv('../origin/아파트매매가격지수_전국_월.csv', index_col=0)\n",
    "apart_df.rename(columns={'행정구역별': '지역', '데이터': '아파트매매가격지수(%)'}, inplace=True)\n",
    "apart_df = replace_region_names(apart_df, region_mapping)\n",
    "\n",
    "apart_df.index = pd.to_datetime(apart_df.index.astype(str), format='%Y.%m', errors='coerce')\n",
    "apart_df['연도'] = apart_df.index.year\n",
    "yearly_df = apart_df.groupby(['연도', '지역'])['아파트매매가격지수(%)'].mean().reset_index()\n",
    "yearly_df['아파트매매가격지수(%)'] = yearly_df['아파트매매가격지수(%)'].apply(lambda x: f\"{x:.3f}\")\n",
    "yearly_df.rename(columns={'연도': '시점'}, inplace=True)\n",
    "\n",
    "yearly_df.to_csv('아파트매매가격지수.csv', index=False)\n",
    "\n",
    "yearly_df['지역'].unique(), yearly_df['지역'].nunique(), yearly_df.head()"
   ]
  },
  {
   "cell_type": "code",
   "execution_count": 131,
   "metadata": {},
   "outputs": [
    {
     "data": {
      "text/html": [
       "<div>\n",
       "<style scoped>\n",
       "    .dataframe tbody tr th:only-of-type {\n",
       "        vertical-align: middle;\n",
       "    }\n",
       "\n",
       "    .dataframe tbody tr th {\n",
       "        vertical-align: top;\n",
       "    }\n",
       "\n",
       "    .dataframe thead th {\n",
       "        text-align: right;\n",
       "    }\n",
       "</style>\n",
       "<table border=\"1\" class=\"dataframe\">\n",
       "  <thead>\n",
       "    <tr style=\"text-align: right;\">\n",
       "      <th></th>\n",
       "      <th>시점</th>\n",
       "      <th>지역</th>\n",
       "      <th>인구밀도(명/km2)</th>\n",
       "    </tr>\n",
       "  </thead>\n",
       "  <tbody>\n",
       "    <tr>\n",
       "      <th>0</th>\n",
       "      <td>2000</td>\n",
       "      <td>강원</td>\n",
       "      <td>89.7</td>\n",
       "    </tr>\n",
       "    <tr>\n",
       "      <th>1</th>\n",
       "      <td>2000</td>\n",
       "      <td>경기</td>\n",
       "      <td>886.4</td>\n",
       "    </tr>\n",
       "    <tr>\n",
       "      <th>2</th>\n",
       "      <td>2000</td>\n",
       "      <td>경남</td>\n",
       "      <td>283.2</td>\n",
       "    </tr>\n",
       "    <tr>\n",
       "      <th>3</th>\n",
       "      <td>2000</td>\n",
       "      <td>경북</td>\n",
       "      <td>143.2</td>\n",
       "    </tr>\n",
       "    <tr>\n",
       "      <th>4</th>\n",
       "      <td>2000</td>\n",
       "      <td>광주</td>\n",
       "      <td>2697.8</td>\n",
       "    </tr>\n",
       "  </tbody>\n",
       "</table>\n",
       "</div>"
      ],
      "text/plain": [
       "     시점  지역  인구밀도(명/km2)\n",
       "0  2000  강원         89.7\n",
       "1  2000  경기        886.4\n",
       "2  2000  경남        283.2\n",
       "3  2000  경북        143.2\n",
       "4  2000  광주       2697.8"
      ]
     },
     "execution_count": 131,
     "metadata": {},
     "output_type": "execute_result"
    }
   ],
   "source": [
    "# 인구밀도 1차 : 선형보간\n",
    "population_df = pd.read_csv('../origin/인구밀도_전국_년(5step).csv', index_col=0)\n",
    "population_df.rename(columns={'행정구역별': '지역', '데이터': '인구밀도(명/km2)'}, inplace=True)\n",
    "population_df = replace_region_names(population_df, region_mapping)\n",
    "\n",
    "population_df_sorted = population_df.sort_values(by=['지역', '시점'])\n",
    "population_df_sorted.reset_index(inplace=True)\n",
    "\n",
    "def interpolate_group(group):\n",
    "    group.set_index('시점', inplace=True)\n",
    "    group = group.reindex(np.arange(2000, 2016, 1))\n",
    "    group['지역'] = group['지역'].ffill().bfill()\n",
    "    group['인구밀도(명/km2)'] = group['인구밀도(명/km2)'].interpolate(method='linear')\n",
    "    group.reset_index(inplace=True)\n",
    "    return group\n",
    "\n",
    "# 새로운 데이터프레임 생성\n",
    "interpolated_dfs = []\n",
    "\n",
    "# 각 지역별로 데이터프레임을 분리하고 보간\n",
    "for region in population_df_sorted['지역'].unique():\n",
    "    region_df = population_df_sorted[population_df_sorted['지역'] == region]\n",
    "    interpolated_df = interpolate_group(region_df)\n",
    "    interpolated_dfs.append(interpolated_df)\n",
    "\n",
    "# 보간된 데이터프레임들을 결합\n",
    "final_interpolated_df = pd.concat(interpolated_dfs, ignore_index=True)\n",
    "\n",
    "# 시점별로 데이터 정렬\n",
    "final_interpolated_df = final_interpolated_df.sort_values(by=['시점', '지역']).reset_index(drop=True)\n",
    "\n",
    "final_interpolated_df.head()\n",
    "\n"
   ]
  },
  {
   "cell_type": "code",
   "execution_count": 132,
   "metadata": {},
   "outputs": [
    {
     "data": {
      "text/plain": [
       "(     시점  지역 인구밀도(명/km2)\n",
       " 0  2000  강원       89.70\n",
       " 1  2000  경기      886.40\n",
       " 2  2000  경남      283.20\n",
       " 3  2000  경북      143.20\n",
       " 4  2000  광주     2697.80,\n",
       "        시점  지역 인구밀도(명/km2)\n",
       " 403  2023  전남      143.70\n",
       " 404  2023  전북      219.10\n",
       " 405  2023  제주      365.80\n",
       " 406  2023  충남      268.70\n",
       " 407  2023  충북      221.60)"
      ]
     },
     "execution_count": 132,
     "metadata": {},
     "output_type": "execute_result"
    }
   ],
   "source": [
    "# 인구밀도 2차 : 실제 2016~2023 data와 보간 data 병합\n",
    "population_df = population_df.reset_index()\n",
    "population_16_23_df = population_df[population_df['시점'].between(2016, 2023)]\n",
    "\n",
    "# 두 데이터프레임을 '시점'과 '지역' 기준으로 병합\n",
    "merged_df = pd.merge(final_interpolated_df, population_16_23_df, on=['시점', '지역'], how='outer', suffixes=('_final', '_population'))\n",
    "merged_df['인구밀도(명/km2)'] = merged_df['인구밀도(명/km2)_final'].combine_first(merged_df['인구밀도(명/km2)_population'])\n",
    "merged_df['인구밀도(명/km2)'] = merged_df['인구밀도(명/km2)'].apply(lambda x: f\"{x:.2f}\")\n",
    "merged_df = merged_df.drop(columns=['인구밀도(명/km2)_final', '인구밀도(명/km2)_population'])\n",
    "\n",
    "merged_df.to_csv('인구밀도.csv', index=False)\n",
    "\n",
    "merged_df.head(), merged_df.tail()\n"
   ]
  },
  {
   "cell_type": "code",
   "execution_count": 144,
   "metadata": {},
   "outputs": [
    {
     "data": {
      "text/plain": [
       "(array(['서울', '부산', '대구', '인천', '광주', '대전', '울산', '세종', '경기', '강원', '충북',\n",
       "        '충남', '전북', '전남', '경북', '경남', '제주'], dtype=object),\n",
       " 17,\n",
       "      시점  지역  사교육참여율(%)\n",
       " 0  2009  서울       79.6\n",
       " 1  2010  서울       77.5\n",
       " 2  2011  서울       77.0\n",
       " 3  2012  서울       73.5\n",
       " 4  2013  서울       75.0)"
      ]
     },
     "execution_count": 144,
     "metadata": {},
     "output_type": "execute_result"
    }
   ],
   "source": [
    "# 사교육참여율\n",
    "edu_df = pd.read_csv('../origin/사교육참여율_전국_년.csv', index_col=0)\n",
    "edu_df.reset_index(inplace=True)\n",
    "edu_df.rename(columns={'지역별': '지역', '사교육참여율': '사교육참여율(%)'}, inplace=True)\n",
    "edu_df = edu_df[['시점', '지역', '사교육참여율(%)']]\n",
    "\n",
    "edu_df.to_csv('사교육참여율.csv', index=False)\n",
    "\n",
    "edu_df['지역'].unique(), edu_df['지역'].nunique(), edu_df.head()"
   ]
  },
  {
   "cell_type": "code",
   "execution_count": 151,
   "metadata": {},
   "outputs": [
    {
     "data": {
      "text/plain": [
       "(array(['서울', '부산', '대구', '인천', '광주', '대전', '울산', '경기', '강원', '충북', '충남',\n",
       "        '전북', '전남', '경북', '경남', '제주', '세종'], dtype=object),\n",
       " 17,\n",
       "      시점  지역  고용률(%)\n",
       " 0  2000  서울    47.2\n",
       " 1  2000  부산    39.6\n",
       " 2  2000  대구    40.2\n",
       " 3  2000  인천    44.9\n",
       " 4  2000  광주    37.9)"
      ]
     },
     "execution_count": 151,
     "metadata": {},
     "output_type": "execute_result"
    }
   ],
   "source": [
    "# 고용률\n",
    "employment_df = pd.read_csv('../origin/청년고용률_전국_년.csv', index_col=0)\n",
    "employment_df.rename(columns={'시도별': '지역', '데이터': '고용률(%)'}, inplace=True)\n",
    "employment_df = replace_region_names(employment_df, region_mapping)\n",
    "employment_df.drop(columns=['연령계층별'], inplace=True)\n",
    "employment_df.reset_index(inplace=True)\n",
    "\n",
    "employment_df.to_csv('고용률.csv', index=False)\n",
    "\n",
    "employment_df['지역'].unique(), employment_df['지역'].nunique(), employment_df.head()"
   ]
  },
  {
   "cell_type": "code",
   "execution_count": 156,
   "metadata": {},
   "outputs": [
    {
     "data": {
      "text/plain": [
       "(array(['서울', '부산', '대구', '인천', '광주', '대전', '울산', '경기', '강원', '충북', '충남',\n",
       "        '전북', '전남', '경북', '경남', '제주', '세종'], dtype=object),\n",
       " 17,\n",
       "      시점  지역  여성초혼연령(년)\n",
       " 0  2000  서울      27.25\n",
       " 1  2000  부산      26.74\n",
       " 2  2000  대구      26.51\n",
       " 3  2000  인천      26.39\n",
       " 4  2000  광주      26.17)"
      ]
     },
     "execution_count": 156,
     "metadata": {},
     "output_type": "execute_result"
    }
   ],
   "source": [
    "# 여성초혼연령\n",
    "age_df = pd.read_csv('../origin/평균초혼연령_전국_년.csv', index_col=0)\n",
    "age_df.reset_index(inplace=True)\n",
    "age_df.rename(columns={'시도별': '지역', '남편': '남성초혼연령(년)', '아내': '여성초혼연령(년)'}, inplace=True)\n",
    "age_df = replace_region_names(age_df, region_mapping)\n",
    "age_df.drop(columns=['남성초혼연령(년)'], inplace=True)\n",
    "\n",
    "age_df.to_csv('여성초혼연령.csv', index=False)\n",
    "\n",
    "age_df['지역'].unique(), age_df['지역'].nunique(), age_df.head()"
   ]
  },
  {
   "cell_type": "code",
   "execution_count": 171,
   "metadata": {},
   "outputs": [
    {
     "data": {
      "text/plain": [
       "(array(['서울', '부산', '대구', '인천', '광주', '대전', '울산', '경기', '강원', '충북', '충남',\n",
       "        '전북', '전남', '경북', '경남', '제주', '세종'], dtype=object),\n",
       " 17,\n",
       "      시점  지역  인터넷이용률(%)\n",
       " 0  2008  서울       80.1\n",
       " 1  2008  부산       74.2\n",
       " 2  2008  대구       74.1\n",
       " 3  2008  인천       80.7\n",
       " 4  2008  광주       79.6)"
      ]
     },
     "execution_count": 171,
     "metadata": {},
     "output_type": "execute_result"
    }
   ],
   "source": [
    "# 인터넷이용률\n",
    "internet_df = pd.read_csv('../origin/인터넷이용률_전국_년.csv', index_col=0)\n",
    "internet_df.reset_index(inplace=True)\n",
    "internet_df.rename(columns={'특성별(2)': '지역', '이용': '인터넷이용률(%)'}, inplace=True)\n",
    "\n",
    "conditions = ['충청', '전라', '경상']\n",
    "internet_df.loc[internet_df['지역'].isin(conditions), '지역'] = internet_df['특성별(3)']\n",
    "\n",
    "internet_df.drop(columns=['특성별(1)', '특성별(3)', '이용안함'], inplace=True)\n",
    "\n",
    "internet_df.to_csv('인터넷이용률.csv', index=False)\n",
    "\n",
    "internet_df['지역'].unique(), internet_df['지역'].nunique(), internet_df.head()"
   ]
  },
  {
   "cell_type": "code",
   "execution_count": 179,
   "metadata": {},
   "outputs": [
    {
     "data": {
      "text/html": [
       "<div>\n",
       "<style scoped>\n",
       "    .dataframe tbody tr th:only-of-type {\n",
       "        vertical-align: middle;\n",
       "    }\n",
       "\n",
       "    .dataframe tbody tr th {\n",
       "        vertical-align: top;\n",
       "    }\n",
       "\n",
       "    .dataframe thead th {\n",
       "        text-align: right;\n",
       "    }\n",
       "</style>\n",
       "<table border=\"1\" class=\"dataframe\">\n",
       "  <thead>\n",
       "    <tr style=\"text-align: right;\">\n",
       "      <th></th>\n",
       "      <th>시점</th>\n",
       "      <th>지역</th>\n",
       "      <th>근로시간(시간)</th>\n",
       "    </tr>\n",
       "  </thead>\n",
       "  <tbody>\n",
       "    <tr>\n",
       "      <th>0</th>\n",
       "      <td>2011</td>\n",
       "      <td>강원</td>\n",
       "      <td>2092.8</td>\n",
       "    </tr>\n",
       "    <tr>\n",
       "      <th>1</th>\n",
       "      <td>2011</td>\n",
       "      <td>경기</td>\n",
       "      <td>2086.8</td>\n",
       "    </tr>\n",
       "    <tr>\n",
       "      <th>2</th>\n",
       "      <td>2011</td>\n",
       "      <td>경남</td>\n",
       "      <td>2061.6</td>\n",
       "    </tr>\n",
       "    <tr>\n",
       "      <th>3</th>\n",
       "      <td>2011</td>\n",
       "      <td>경북</td>\n",
       "      <td>2029.2</td>\n",
       "    </tr>\n",
       "    <tr>\n",
       "      <th>4</th>\n",
       "      <td>2011</td>\n",
       "      <td>광주</td>\n",
       "      <td>2090.4</td>\n",
       "    </tr>\n",
       "  </tbody>\n",
       "</table>\n",
       "</div>"
      ],
      "text/plain": [
       "     시점  지역 근로시간(시간)\n",
       "0  2011  강원   2092.8\n",
       "1  2011  경기   2086.8\n",
       "2  2011  경남   2061.6\n",
       "3  2011  경북   2029.2\n",
       "4  2011  광주   2090.4"
      ]
     },
     "execution_count": 179,
     "metadata": {},
     "output_type": "execute_result"
    }
   ],
   "source": [
    "# 근로시간\n",
    "time_df = pd.read_csv('../origin/근로시간_전국_2011_2023.csv', index_col=0)\n",
    "time_df.reset_index(inplace=True)\n",
    "time_df.rename(columns={'지역별': '지역', '근로시간': '근로시간(시간)'}, inplace=True)\n",
    "time_df['근로시간(시간)'] = time_df['근로시간(시간)'].apply(lambda x: f\"{x:.1f}\")\n",
    "\n",
    "time_df.to_csv('근로시간.csv', index=False)\n",
    "\n",
    "time_df.head()"
   ]
  }
 ],
 "metadata": {
  "kernelspec": {
   "display_name": "base",
   "language": "python",
   "name": "python3"
  },
  "language_info": {
   "codemirror_mode": {
    "name": "ipython",
    "version": 3
   },
   "file_extension": ".py",
   "mimetype": "text/x-python",
   "name": "python",
   "nbconvert_exporter": "python",
   "pygments_lexer": "ipython3",
   "version": "3.12.7"
  }
 },
 "nbformat": 4,
 "nbformat_minor": 2
}
