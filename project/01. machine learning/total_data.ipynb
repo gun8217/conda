{
 "cells": [
  {
   "cell_type": "code",
   "execution_count": 15,
   "metadata": {},
   "outputs": [
    {
     "name": "stdout",
     "output_type": "stream",
     "text": [
      "Index(['시점', '저출산율', '지역별', '고용률_0', '학생수_1', '사설학원수_2', '사교육참여율_3', '수술인원_4',\n",
      "       '인터넷이용률_5', '근로시간_6', '어린이집_7', '이동인구수_8', '인구밀집도_9', '주택유형별_10',\n",
      "       '주택규모별_10', 'ratio_10'],\n",
      "      dtype='object')\n"
     ]
    }
   ],
   "source": [
    "import pandas as pd\n",
    "\n",
    "df_childbirth = pd.read_csv('data/저출산율(월별).csv')\n",
    "df_employment = pd.read_csv('data/life/고용률.csv')\n",
    "df_employment = df_employment.drop(columns=['성별'])\n",
    "df_students = pd.read_csv('data/education/학생수(월별).csv')\n",
    "df_private_tutoring = pd.read_csv('data/education/사설학원수(월별).csv')\n",
    "df_private_participation = pd.read_csv('data/education/사교육참여율(월별).csv')\n",
    "df_surgeries = pd.read_csv('data/medical/수술인원(월별).csv')\n",
    "df_internet_usage = pd.read_csv('data/life/인터넷이용률(월별).csv')\n",
    "df_working_hours = pd.read_csv('data/others/근로시간(월별).csv')\n",
    "df_childcare = pd.read_csv('data/others/어린이집(월별).csv')\n",
    "df_population = pd.read_csv('data/others/이동인구수.csv')\n",
    "df_density = pd.read_csv('data/others/인구밀집도(월별).csv')\n",
    "df_housing = pd.read_csv('data/others/주거비.csv')\n",
    "df_housing = df_housing.drop(columns=['년도'])\n",
    "\n",
    "merged_data = df_childbirth\n",
    "dataframes = [df_employment, df_students, df_private_tutoring, df_private_participation,\n",
    "              df_surgeries, df_internet_usage, df_working_hours, df_childcare,\n",
    "              df_population, df_density, df_housing]\n",
    "\n",
    "for idx, df in enumerate(dataframes):\n",
    "    df_renamed = df.rename(columns=lambda col: f\"{col}_{idx}\" if col not in ['시점', '지역별'] else col)\n",
    "    merged_data = pd.merge(merged_data, df_renamed, on=['시점', '지역별'], how='outer')\n",
    "    \n",
    "print(merged_data.columns.unique())\n",
    "\n",
    "merged_data = merged_data[['시점', '지역별', '저출산율', '고용률_0', '학생수_1', '사설학원수_2',\n",
    "                           '사교육참여율_3', '수술인원_4', '인터넷이용률_5', '근로시간_6', '어린이집_7',\n",
    "                           '이동인구수_8', '인구밀집도_9', '주택유형별_10', '주택규모별_10', 'ratio_10']]\n",
    "merged_data.rename(columns={'고용률_0': '고용률', '학생수_1': '학생수', '사설학원수_2': '사설학원수',\n",
    "                            '사교육참여율_3': '사교육참여율', '수술인원_4': '수술인원',\n",
    "                            '인터넷이용률_5': '인터넷이용률', '근로시간_6': '근로시간', '어린이집_7': '어린이집',\n",
    "                            '이동인구수_8': '이동인구수', '인구밀집도_9': '인구밀집도', '주택유형별_10': '주택유형별',\n",
    "                            '주택규모별_10': '주택규모별', 'ratio_10': 'ratio'}, inplace=True)\n",
    "\n",
    "merged_data.head()\n",
    "\n",
    "merged_data['저출산율'] = merged_data['저출산율'].map(lambda x: '{:.2f}'.format(x) if pd.notna(x) else x)\n",
    "merged_data['고용률'] = merged_data['고용률'].map(lambda x: '{:.1f}'.format(x) if pd.notna(x) else x)\n",
    "merged_data['학생수'] = merged_data['학생수'].map(lambda x: '{:.3f}'.format(x) if pd.notna(x) else x)\n",
    "merged_data['사교육참여율'] = merged_data['사교육참여율'].map(lambda x: '{:.3f}'.format(x) if pd.notna(x) else x)\n",
    "merged_data['사설학원수'] = pd.to_numeric(merged_data['사설학원수'], errors='coerce').astype('Int64')\n",
    "merged_data['수술인원'] = pd.to_numeric(merged_data['수술인원'], errors='coerce').astype('Int64')\n",
    "merged_data['인터넷이용률'] = merged_data['인터넷이용률'].map(lambda x: '{:.1f}'.format(x) if pd.notna(x) else x)\n",
    "merged_data['근로시간'] = merged_data['근로시간'].map(lambda x: '{:.1f}'.format(x) if pd.notna(x) else x)\n",
    "merged_data['어린이집'] = merged_data['어린이집'].map(lambda x: '{:.3f}'.format(x) if pd.notna(x) else x)\n",
    "merged_data['인구밀집도'] = merged_data['인구밀집도'].map(lambda x: '{:.3f}'.format(x) if pd.notna(x) else x)\n",
    "merged_data['ratio'] = merged_data['ratio'].map(lambda x: '{:.3f}'.format(x) if pd.notna(x) else x)\n",
    "\n",
    "merged_data['시점'] = merged_data['시점'].map(lambda x: '{:.2f}'.format(x) if pd.notna(x) else x)\n",
    "# merged_data = df.dropna()\n",
    "\n",
    "# 데이터 저장\n",
    "merged_data.to_csv('merged_data.csv', index=False)"
   ]
  },
  {
   "cell_type": "code",
   "execution_count": null,
   "metadata": {},
   "outputs": [],
   "source": []
  }
 ],
 "metadata": {
  "kernelspec": {
   "display_name": "base",
   "language": "python",
   "name": "python3"
  },
  "language_info": {
   "codemirror_mode": {
    "name": "ipython",
    "version": 3
   },
   "file_extension": ".py",
   "mimetype": "text/x-python",
   "name": "python",
   "nbconvert_exporter": "python",
   "pygments_lexer": "ipython3",
   "version": "3.12.4"
  }
 },
 "nbformat": 4,
 "nbformat_minor": 2
}
