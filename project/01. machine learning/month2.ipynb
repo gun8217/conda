{
 "cells": [
  {
   "cell_type": "code",
   "execution_count": 34,
   "metadata": {},
   "outputs": [
    {
     "data": {
      "text/plain": [
       "(  지역별    시점  사설학원수\n",
       " 0  서울  2003  11176\n",
       " 1  서울  2004  11382\n",
       " 2  서울  2005  11603\n",
       " 3  서울  2006  11794\n",
       " 4  서울  2007  11549,\n",
       " (348, 3),\n",
       " array(['서울', '부산', '대구', '인천', '광주', '대전', '울산', '세종', '경기', '강원', '충북',\n",
       "        '충남', '전북', '전남', '경북', '경남', '제주'], dtype=object))"
      ]
     },
     "execution_count": 34,
     "metadata": {},
     "output_type": "execute_result"
    }
   ],
   "source": [
    "import pandas as pd\n",
    "\n",
    "df = pd.read_csv('data/education/사설학원수.csv')\n",
    "df.head(), df.shape, df['지역별'].unique()\n"
   ]
  },
  {
   "cell_type": "code",
   "execution_count": 35,
   "metadata": {},
   "outputs": [
    {
     "name": "stdout",
     "output_type": "stream",
     "text": [
      "           시점 사설학원수 지역별\n",
      "3977  2022.02  2389  충북\n",
      "3978  2022.03  2396  충북\n",
      "3979  2022.04  2404  충북\n",
      "3980  2022.05  2412  충북\n",
      "3981  2022.06  2420  충북\n",
      "3982  2022.07  2428  충북\n",
      "3983  2022.08  2435  충북\n",
      "3984  2022.09  2443  충북\n",
      "3985  2022.10  2451  충북\n",
      "3986  2022.11  2458  충북\n",
      "3987  2022.12  2466  충북\n",
      "3988  2023.01  2474  충북 (3989, 3) ['강원' '경기' '경남' '경북' '광주' '대구' '대전' '부산' '서울' '세종' '울산' '인천' '전남' '전북'\n",
      " '제주' '충남' '충북']\n"
     ]
    }
   ],
   "source": [
    "# '시점'을 datetime 형식으로 변환\n",
    "df['시점'] = pd.to_datetime(df['시점'].astype(str) + '-01-01')\n",
    "\n",
    "# 인덱스로 설정\n",
    "yearly_data = df.set_index('시점')\n",
    "\n",
    "# 지역별로 그룹화 후 리샘플링\n",
    "monthly_dfs = []\n",
    "\n",
    "for region, group in yearly_data.groupby('지역별'):\n",
    "    monthly_df = group.resample('ME').agg({'사설학원수': 'mean'}).round(3)\n",
    "\n",
    "    # 보간\n",
    "    monthly_df = monthly_df.interpolate(method='linear')\n",
    "    \n",
    "    # NaN 값 처리\n",
    "    monthly_df.fillna(0, inplace=True)\n",
    "    \n",
    "    # 시점 다시 설정\n",
    "    monthly_df.reset_index(inplace=True)\n",
    "    \n",
    "    # '시점'이 datetime 형식으로 되어 있어야 함\n",
    "    # 마지막 년도에 12월 데이터 추가\n",
    "    last_year = monthly_df['시점'].dt.year.max()\n",
    "    last_month = monthly_df['시점'].dt.month.max()\n",
    "    \n",
    "    # 12월 데이터가 없으면 추가\n",
    "    if last_month < 12:\n",
    "        new_row = pd.DataFrame({\n",
    "            '사설학원수': [monthly_df['사설학원수'].iloc[-1]],  # 마지막 값을 사용\n",
    "            '시점': [pd.Timestamp(year=last_year, month=12, day=1)],\n",
    "            '지역별': [region]\n",
    "        })\n",
    "        monthly_df = pd.concat([monthly_df, new_row], ignore_index=True)\n",
    "\n",
    "    # 지역별 컬럼 추가\n",
    "    monthly_df['지역별'] = region\n",
    "    \n",
    "    monthly_dfs.append(monthly_df)\n",
    "\n",
    "# 모든 지역별 데이터를 하나의 DataFrame으로 결합\n",
    "final_monthly_df = pd.concat(monthly_dfs, ignore_index=True)\n",
    "\n",
    "# '시점'을 문자열로 다시 포맷\n",
    "final_monthly_df['시점'] = final_monthly_df['시점'].dt.strftime('%Y.%m')\n",
    "\n",
    "# 사설학원수 형식 변경\n",
    "final_monthly_df['사설학원수'] = final_monthly_df['사설학원수'].map(lambda x: f\"{x:.0f}\")\n",
    "\n",
    "# 데이터 저장\n",
    "final_monthly_df.to_csv('data/education/사설학원수(월별).csv', index=False)\n",
    "\n",
    "# 결과 확인\n",
    "print(final_monthly_df.tail(12), final_monthly_df.shape, final_monthly_df['지역별'].unique())\n",
    "\n",
    "# 데이터 저장\n",
    "final_monthly_df.to_csv('data/education/사설학원수(월별).csv', index=False)\n"
   ]
  }
 ],
 "metadata": {
  "kernelspec": {
   "display_name": "myConda",
   "language": "python",
   "name": "python3"
  },
  "language_info": {
   "codemirror_mode": {
    "name": "ipython",
    "version": 3
   },
   "file_extension": ".py",
   "mimetype": "text/x-python",
   "name": "python",
   "nbconvert_exporter": "python",
   "pygments_lexer": "ipython3",
   "version": "3.12.4"
  }
 },
 "nbformat": 4,
 "nbformat_minor": 2
}
