{
 "cells": [
  {
   "cell_type": "code",
   "execution_count": 26,
   "metadata": {},
   "outputs": [],
   "source": [
    "import numpy as np\n",
    "import pandas as pd\n",
    "\n",
    "df = pd.read_csv('data/education/사설학원수.csv')\n",
    "# df.head(), df.shape, df['지역별'].unique()"
   ]
  },
  {
   "cell_type": "code",
   "execution_count": 27,
   "metadata": {},
   "outputs": [
    {
     "data": {
      "text/plain": [
       "(           시점 지역별  사설학원수\n",
       " 4272  2023.01  충북   2481\n",
       " 4273  2023.02  충북   2489\n",
       " 4274  2023.03  충북   2497\n",
       " 4275  2023.04  충북   2504\n",
       " 4276  2023.05  충북   2512\n",
       " 4277  2023.06  충북   2520\n",
       " 4278  2023.07  충북   2528\n",
       " 4279  2023.08  충북   2536\n",
       " 4280  2023.09  충북   2543\n",
       " 4281  2023.10  충북   2551\n",
       " 4282  2023.11  충북   2559\n",
       " 4283  2023.12  충북   2567,\n",
       " (4284, 3))"
      ]
     },
     "execution_count": 27,
     "metadata": {},
     "output_type": "execute_result"
    }
   ],
   "source": [
    "from scipy import interpolate\n",
    "\n",
    "# 각 지역별로 처리\n",
    "for region in df['지역별'].unique():\n",
    "    region_data = df[df['지역별'] == region]\n",
    "    \n",
    "    # 시점과 사설학원 수를 가져오기\n",
    "    x = region_data['시점'].values  # 연도\n",
    "    y = region_data['사설학원수'].values  # 사설학원 수\n",
    "    \n",
    "    # 선형 보간 함수 생성\n",
    "    f = interpolate.interp1d(x, y, kind='linear', fill_value=\"extrapolate\")\n",
    "    \n",
    "    # 연도와 월별 데이터 생성\n",
    "    for year in range(2003, 2024):\n",
    "        x_monthly = np.linspace(year, year + 1, 13)[1:]  # 연도 범위에서 월별로\n",
    "        y_monthly = f(x_monthly)\n",
    "        \n",
    "        # 월별 데이터를 데이터프레임에 추가\n",
    "        for i, month in enumerate(range(1, 13)):  # 1월부터 12월까지\n",
    "            df_monthly = pd.concat([df_monthly, pd.DataFrame({\n",
    "                '시점': [f'{year}.{month:02d}'],\n",
    "                '지역별': [region],\n",
    "                '사설학원수': [int(y_monthly[i])]  # 소수점 제거\n",
    "            })], ignore_index=True)\n",
    "\n",
    "# 중복된 데이터 제거\n",
    "df_monthly = df_monthly.drop_duplicates().reset_index(drop=True)\n",
    "\n",
    "# 시점을 기준으로 정렬\n",
    "df_monthly = df_monthly.sort_values(['지역별', '시점'])\n",
    "\n",
    "# 결과 확인\n",
    "df_monthly.tail(12), df_monthly.shape\n",
    "\n",
    "# 업데이트된 데이터를 CSV 파일로 저장\n",
    "# df_monthly.to_csv('comp_2122.csv.csv', index=False)\n"
   ]
  }
 ],
 "metadata": {
  "kernelspec": {
   "display_name": "base",
   "language": "python",
   "name": "python3"
  },
  "language_info": {
   "codemirror_mode": {
    "name": "ipython",
    "version": 3
   },
   "file_extension": ".py",
   "mimetype": "text/x-python",
   "name": "python",
   "nbconvert_exporter": "python",
   "pygments_lexer": "ipython3",
   "version": "3.12.4"
  }
 },
 "nbformat": 4,
 "nbformat_minor": 2
}
