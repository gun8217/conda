{
 "cells": [
  {
   "cell_type": "code",
   "execution_count": 5,
   "metadata": {},
   "outputs": [],
   "source": [
    "import pandas as pd\n",
    "\n",
    "df1 = pd.read_csv('data/합계출산율_지역별.csv', encoding='euc-kr')\n",
    "df2 = pd.read_csv('data/life/internet2.csv')\n",
    "m_df = pd.merge(df1, df2, on=['시점', '지역별'], how='outer')\n",
    "m_df = m_df.drop(columns=['출생아수', '특성별(2)'])\n",
    "m_df.head(), m_df.shape, m_df['지역별'].unique()\n",
    "\n",
    "# 데이터 저장\n",
    "m_df.to_csv('data/life/internet.csv', index=False)"
   ]
  }
 ],
 "metadata": {
  "kernelspec": {
   "display_name": "myConda",
   "language": "python",
   "name": "python3"
  },
  "language_info": {
   "codemirror_mode": {
    "name": "ipython",
    "version": 3
   },
   "file_extension": ".py",
   "mimetype": "text/x-python",
   "name": "python",
   "nbconvert_exporter": "python",
   "pygments_lexer": "ipython3",
   "version": "3.12.4"
  }
 },
 "nbformat": 4,
 "nbformat_minor": 2
}
