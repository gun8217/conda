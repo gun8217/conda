{
 "cells": [
  {
   "cell_type": "code",
   "execution_count": 17,
   "metadata": {},
   "outputs": [
    {
     "data": {
      "text/plain": [
       "(  지역별 특성별(2)    시점  인터넷이용률\n",
       " 0  서울     소계  2012    81.5\n",
       " 1  서울     소계  2013    83.2\n",
       " 2  서울     소계  2014    86.2\n",
       " 3  서울     소계  2015    86.7\n",
       " 4  서울     소계  2016    87.9,\n",
       " array(['서울', '부산', '대구', '인천', '광주', '대전', '울산', '경기', '강원', '충청', '전라',\n",
       "        '경상', '제주'], dtype=object),\n",
       " array(['소계', '충북', '충남', '세종', '전북', '전남', '경북', '경남'], dtype=object))"
      ]
     },
     "execution_count": 17,
     "metadata": {},
     "output_type": "execute_result"
    }
   ],
   "source": [
    "import pandas as pd\n",
    "\n",
    "df = pd.read_csv('../../data/life/인터넷이용률.csv')\n",
    "df.head(), df['지역별'].unique(), df['특성별(2)'].unique(),"
   ]
  },
  {
   "cell_type": "code",
   "execution_count": 18,
   "metadata": {},
   "outputs": [
    {
     "data": {
      "text/plain": [
       "array(['서울', '부산', '대구', '인천', '광주', '대전', '울산', '경기', '강원', '충북', '충남',\n",
       "       '충청', '전북', '전남', '경북', '경남', '제주'], dtype=object)"
      ]
     },
     "execution_count": 18,
     "metadata": {},
     "output_type": "execute_result"
    }
   ],
   "source": [
    "df['지역별'] = df.apply(\n",
    "    lambda row: '전북' if row['특성별(2)'] == '전북'\n",
    "    else ('전남'if row['특성별(2)'] == '전남' else row['지역별']), axis=1)\n",
    "\n",
    "df['지역별'] = df.apply(\n",
    "    lambda row: '경북' if row['특성별(2)'] == '경북'\n",
    "    else ('경남'if row['특성별(2)'] == '경남' else row['지역별']), axis=1)\n",
    "\n",
    "df['지역별'] = df.apply(\n",
    "    lambda row: '충북' if row['특성별(2)'] == '충북'\n",
    "    else ('충남'if row['특성별(2)'] == '충남' else row['지역별']), axis=1)\n",
    "\n",
    "df['지역별'].unique()\n"
   ]
  },
  {
   "cell_type": "code",
   "execution_count": 19,
   "metadata": {},
   "outputs": [],
   "source": [
    "# 데이터 저장\n",
    "df.to_csv('../../data/life/internet2.csv', index=False)"
   ]
  }
 ],
 "metadata": {
  "kernelspec": {
   "display_name": "base",
   "language": "python",
   "name": "python3"
  },
  "language_info": {
   "codemirror_mode": {
    "name": "ipython",
    "version": 3
   },
   "file_extension": ".py",
   "mimetype": "text/x-python",
   "name": "python",
   "nbconvert_exporter": "python",
   "pygments_lexer": "ipython3",
   "version": "3.12.4"
  }
 },
 "nbformat": 4,
 "nbformat_minor": 2
}
