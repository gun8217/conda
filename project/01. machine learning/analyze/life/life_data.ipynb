{
 "cells": [
  {
   "cell_type": "code",
   "execution_count": 2,
   "metadata": {},
   "outputs": [],
   "source": [
    "import pandas as pd\n",
    "\n",
    "df_population = pd.read_csv('../../data/총인구수.csv')\n",
    "df_population = df_population.drop(columns=['연령별'])\n",
    "df_fertility = pd.read_csv('../../data/합계출산율_지역별.csv')\n",
    "df_fertility['시점'] = df_fertility['시점'].astype(int)\n",
    "\n",
    "df_living_conditions = pd.read_csv('../../data/life/생활여건의변화.csv')\n",
    "df_living_conditions = df_living_conditions.drop(columns=['특성별(1)', '특성별(2)'])\n",
    "df_stress = pd.read_csv('../../data/life/스트레스인지율.csv')\n",
    "df_alcohol = pd.read_csv('../../data/life/음주율.csv')\n",
    "df_smoking = pd.read_csv('../../data/life/흡연율.csv')\n",
    "df_obesity = pd.read_csv('../../data/life/비만유병률.csv')\n",
    "\n",
    "merged_data = df_population\n",
    "dataframes = [df_fertility, df_living_conditions, df_stress, df_alcohol,\n",
    "              df_smoking, df_obesity]\n",
    "\n",
    "for idx, df in enumerate(dataframes):\n",
    "    df_renamed = df.rename(columns=lambda col: f\"{col}_{idx}\" if col not in ['시점', '지역별'] else col)\n",
    "    merged_data = pd.merge(merged_data, df_renamed, on=['시점', '지역별'], how='outer')\n",
    "    \n",
    "# # 데이터 저장\n",
    "# merged_data.to_csv('../../data/life/life_data.csv', index=False)\n",
    "# 시점,지역별,총인구수,출생아수,합계출산율,많이 좋아짐,약간 좋아짐,변화없음,약간 나빠짐,많이 나빠짐,\n",
    "# 스트레스인지율,음주율,흡연율,비만유병률"
   ]
  }
 ],
 "metadata": {
  "kernelspec": {
   "display_name": "base",
   "language": "python",
   "name": "python3"
  },
  "language_info": {
   "codemirror_mode": {
    "name": "ipython",
    "version": 3
   },
   "file_extension": ".py",
   "mimetype": "text/x-python",
   "name": "python",
   "nbconvert_exporter": "python",
   "pygments_lexer": "ipython3",
   "version": "3.12.4"
  }
 },
 "nbformat": 4,
 "nbformat_minor": 2
}
