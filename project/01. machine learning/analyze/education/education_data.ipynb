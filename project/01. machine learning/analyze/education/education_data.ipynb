{
 "cells": [
  {
   "cell_type": "code",
   "execution_count": 1,
   "metadata": {},
   "outputs": [],
   "source": [
    "import pandas as pd\n",
    "\n",
    "df_population = pd.read_csv('../../data/총인구수.csv')\n",
    "df_population = df_population.drop(columns=['연령별'])\n",
    "df_fertility = pd.read_csv('../../data/합계출산율_지역별.csv')\n",
    "df_fertility['시점'] = df_fertility['시점'].astype(int)\n",
    "\n",
    "df_students = pd.read_csv('../../data/education/학생수.csv')\n",
    "df_private_tutoring = pd.read_csv('../../data/education/사설학원수.csv')\n",
    "df_private_participation = pd.read_csv('../../data/education/사교육참여율.csv')\n",
    "df_education_effect = pd.read_csv('../../data/education/학교교육의효과.csv')\n",
    "df_education_effect = df_education_effect.drop(columns=['특성별(1)', '특성별(2)'])\n",
    "df_satisfaction = pd.read_csv('../../data/education/학교생활만족도.csv')\n",
    "df_satisfaction = df_satisfaction.drop(columns=['특성별(1)', '특성별(2)'])\n",
    "\n",
    "merged_data = df_population\n",
    "dataframes = [df_fertility, df_students, df_private_tutoring, df_private_participation,\n",
    "              df_education_effect, df_satisfaction]\n",
    "\n",
    "for idx, df in enumerate(dataframes):\n",
    "    df_renamed = df.rename(columns=lambda col: f\"{col}_{idx}\" if col not in ['시점', '지역별'] else col)\n",
    "    merged_data = pd.merge(merged_data, df_renamed, on=['시점', '지역별'], how='outer')\n",
    "    \n",
    "# # 데이터 저장\n",
    "# merged_data.to_csv('../../data/education/education_data.csv', index=False)\n",
    "# 시점,지역별,총인구수,출생아수,합계출산율,유치원,초등학교,중학교,고등학교,사설학원수,사교육참여율,\n",
    "# 매우효과있음,약간효과있음,효과보통,별로효과없음,전혀효과없음,효과모름,매우만족,약간만족,만족보통,약간불만,매우불만"
   ]
  }
 ],
 "metadata": {
  "kernelspec": {
   "display_name": "base",
   "language": "python",
   "name": "python3"
  },
  "language_info": {
   "codemirror_mode": {
    "name": "ipython",
    "version": 3
   },
   "file_extension": ".py",
   "mimetype": "text/x-python",
   "name": "python",
   "nbconvert_exporter": "python",
   "pygments_lexer": "ipython3",
   "version": "3.12.4"
  }
 },
 "nbformat": 4,
 "nbformat_minor": 2
}
