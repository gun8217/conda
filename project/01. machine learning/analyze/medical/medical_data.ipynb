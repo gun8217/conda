{
 "cells": [
  {
   "cell_type": "code",
   "execution_count": 4,
   "metadata": {},
   "outputs": [],
   "source": [
    "import pandas as pd\n",
    "\n",
    "df_population = pd.read_csv('../../data/총인구수.csv')\n",
    "df_population = df_population.drop(columns=['연령별'])\n",
    "df_fertility = pd.read_csv('../../data/합계출산율_지역별.csv')\n",
    "df_fertility['시점'] = df_fertility['시점'].astype(int)\n",
    "\n",
    "df_surgeries = pd.read_csv('../../data/medical/의료기관 수술인원.csv')\n",
    "df_service_satisfaction = pd.read_csv('../../data/medical/의료서비스만족도.csv')\n",
    "df_service_satisfaction = df_service_satisfaction.drop(columns=['특성별(1)', '특성별(2)'])\n",
    "\n",
    "merged_data = df_population\n",
    "dataframes = [df_fertility, df_surgeries, df_service_satisfaction]\n",
    "\n",
    "for idx, df in enumerate(dataframes):\n",
    "    df_renamed = df.rename(columns=lambda col: f\"{col}_{idx}\" if col not in ['시점', '지역별'] else col)\n",
    "    merged_data = pd.merge(merged_data, df_renamed, on=['시점', '지역별'], how='outer')\n",
    "    \n",
    "# # 데이터 저장\n",
    "# merged_data.to_csv('../../data/medical/medical_data.csv', index=False)\n",
    "# 시점,지역별,총인구수,출생아수,합계출산율,수술인원,매우 만족,약간 만족,보통,약간 불만족,매우 불만족"
   ]
  }
 ],
 "metadata": {
  "kernelspec": {
   "display_name": "base",
   "language": "python",
   "name": "python3"
  },
  "language_info": {
   "codemirror_mode": {
    "name": "ipython",
    "version": 3
   },
   "file_extension": ".py",
   "mimetype": "text/x-python",
   "name": "python",
   "nbconvert_exporter": "python",
   "pygments_lexer": "ipython3",
   "version": "3.12.4"
  }
 },
 "nbformat": 4,
 "nbformat_minor": 2
}
