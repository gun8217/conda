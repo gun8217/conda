{
 "cells": [
  {
   "cell_type": "code",
   "execution_count": 10,
   "metadata": {},
   "outputs": [],
   "source": [
    "import requests\n",
    "import urllib.parse\n",
    "\n",
    "# 인증키(URL 인코딩)\n",
    "service_key = 'LS/k7aFQ2gzJrqJtruXv2Ua6HdUwR+Fvp1tO11lQagb60lUfvrVnApQ6tuEULO50Trukt7eWlEGQR8Ewmc5Aeg=='\n",
    "\n",
    "# URL 생성\n",
    "url = 'http://apis.data.go.kr/1613000/DmstcShipNvgInfoService/getPortList'\n",
    "params = {\n",
    "    'serviceKey': service_key,  # URL 인코딩된 인증키\n",
    "    'nodeNm': '울릉',  # 울릉도에서 출발하는 항구\n",
    "    'numOfRows': '10',\n",
    "    'pageNo': '1',\n",
    "    '_type': 'xml'\n",
    "}\n",
    "\n",
    "# API 요청\n",
    "response = requests.get(url, params=params)"
   ]
  },
  {
   "cell_type": "code",
   "execution_count": 11,
   "metadata": {},
   "outputs": [
    {
     "name": "stdout",
     "output_type": "stream",
     "text": [
      "<?xml version=\"1.0\" ?>\n",
      "<response>\n",
      "\t<header>\n",
      "\t\t<resultCode>00</resultCode>\n",
      "\t\t<resultMsg>NORMAL SERVICE.</resultMsg>\n",
      "\t</header>\n",
      "\t<body>\n",
      "\t\t<items>\n",
      "\t\t\t<item>\n",
      "\t\t\t\t<nodeId>SEA43110</nodeId>\n",
      "\t\t\t\t<nodeNm>울릉도</nodeNm>\n",
      "\t\t\t</item>\n",
      "\t\t\t<item>\n",
      "\t\t\t\t<nodeId>SEA43111</nodeId>\n",
      "\t\t\t\t<nodeNm>울릉_저동</nodeNm>\n",
      "\t\t\t</item>\n",
      "\t\t\t<item>\n",
      "\t\t\t\t<nodeId>SEA43112</nodeId>\n",
      "\t\t\t\t<nodeNm>울릉_사동</nodeNm>\n",
      "\t\t\t</item>\n",
      "\t\t\t<item>\n",
      "\t\t\t\t<nodeId>SEA43113</nodeId>\n",
      "\t\t\t\t<nodeNm>울릉_도동</nodeNm>\n",
      "\t\t\t</item>\n",
      "\t\t</items>\n",
      "\t\t<numOfRows>10</numOfRows>\n",
      "\t\t<pageNo>1</pageNo>\n",
      "\t\t<totalCount>4</totalCount>\n",
      "\t</body>\n",
      "</response>\n",
      "\n"
     ]
    }
   ],
   "source": [
    "# XML 보기 좋게 시각화(선택)\n",
    "from xml.dom.minidom import parseString\n",
    "import xml.etree.ElementTree as ET\n",
    "\n",
    "# XML 파싱 및 보기 좋게 정렬\n",
    "dom = parseString(response.content)\n",
    "pretty_xml_as_string = dom.toprettyxml()\n",
    "\n",
    "print(pretty_xml_as_string)"
   ]
  }
 ],
 "metadata": {
  "kernelspec": {
   "display_name": "base",
   "language": "python",
   "name": "python3"
  },
  "language_info": {
   "codemirror_mode": {
    "name": "ipython",
    "version": 3
   },
   "file_extension": ".py",
   "mimetype": "text/x-python",
   "name": "python",
   "nbconvert_exporter": "python",
   "pygments_lexer": "ipython3",
   "version": "3.12.7"
  }
 },
 "nbformat": 4,
 "nbformat_minor": 2
}
