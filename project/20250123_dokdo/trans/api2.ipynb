{
 "cells": [
  {
   "cell_type": "code",
   "execution_count": 18,
   "metadata": {},
   "outputs": [
    {
     "name": "stdout",
     "output_type": "stream",
     "text": [
      "b'<?xml version=\"1.0\" encoding=\"UTF-8\" standalone=\"yes\"?><response><header><resultCode>00</resultCode><resultMsg>NORMAL SERVICE.</resultMsg></header><body><items/><numOfRows>10</numOfRows><pageNo>1</pageNo><totalCount>0</totalCount></body></response>'\n"
     ]
    }
   ],
   "source": [
    "import requests\n",
    "import urllib.parse\n",
    "\n",
    "# 인증키(URL 인코딩)\n",
    "service_key = 'LS/k7aFQ2gzJrqJtruXv2Ua6HdUwR+Fvp1tO11lQagb60lUfvrVnApQ6tuEULO50Trukt7eWlEGQR8Ewmc5Aeg=='\n",
    "\n",
    "# URL 생성\n",
    "url = 'http://apis.data.go.kr/1613000/DmstcShipNvgInfoService/getPortList'\n",
    "params = {\n",
    "    'serviceKey': service_key,  # URL 인코딩된 인증키\n",
    "    'nodeNm': '울릉항',  # 울릉도에서 출발하는 항구\n",
    "    'numOfRows': '10',\n",
    "    'pageNo': '1',\n",
    "    '_type': 'xml'\n",
    "}\n",
    "\n",
    "# API 요청\n",
    "response = requests.get(url, params=params)\n",
    "\n",
    "# 결과 출력\n",
    "print(response.content)\n"
   ]
  }
 ],
 "metadata": {
  "kernelspec": {
   "display_name": "base",
   "language": "python",
   "name": "python3"
  },
  "language_info": {
   "codemirror_mode": {
    "name": "ipython",
    "version": 3
   },
   "file_extension": ".py",
   "mimetype": "text/x-python",
   "name": "python",
   "nbconvert_exporter": "python",
   "pygments_lexer": "ipython3",
   "version": "3.12.7"
  }
 },
 "nbformat": 4,
 "nbformat_minor": 2
}
