{
 "cells": [
  {
   "cell_type": "code",
   "execution_count": 4,
   "metadata": {},
   "outputs": [],
   "source": [
    "import requests\n",
    "\n",
    "encoded_key = 'LS%2Fk7aFQ2gzJrqJtruXv2Ua6HdUwR%2BFvp1tO11lQagb60lUfvrVnApQ6tuEULO50Trukt7eWlEGQR8Ewmc5Aeg%3D%3D'\n",
    "decoded_key = 'LS/k7aFQ2gzJrqJtruXv2Ua6HdUwR+Fvp1tO11lQagb60lUfvrVnApQ6tuEULO50Trukt7eWlEGQR8Ewmc5Aeg=='"
   ]
  },
  {
   "cell_type": "code",
   "execution_count": 5,
   "metadata": {},
   "outputs": [
    {
     "name": "stdout",
     "output_type": "stream",
     "text": [
      "b'<?xml version=\"1.0\" encoding=\"UTF-8\" standalone=\"yes\"?><response><header><resultCode>00</resultCode><resultMsg>NORMAL SERVICE.</resultMsg></header><body><items/><numOfRows>10</numOfRows><pageNo>1</pageNo><totalCount>0</totalCount></body></response>'\n"
     ]
    }
   ],
   "source": [
    "# URL 생성\n",
    "url = 'http://apis.data.go.kr/1613000/DmstcShipNvgInfoService/getPortList'\n",
    "params = {\n",
    "    'serviceKey': decoded_key,\n",
    "    'nodeNm': '울릉항',  # 울릉도에 해당하는 정확한 항구 이름 입력\n",
    "    'numOfRows': '10',\n",
    "    'pageNo': '1',\n",
    "    '_type': 'xml'\n",
    "}\n",
    "\n",
    "response = requests.get(url, params=params)\n",
    "print(response.content)"
   ]
  }
 ],
 "metadata": {
  "kernelspec": {
   "display_name": "base",
   "language": "python",
   "name": "python3"
  },
  "language_info": {
   "codemirror_mode": {
    "name": "ipython",
    "version": 3
   },
   "file_extension": ".py",
   "mimetype": "text/x-python",
   "name": "python",
   "nbconvert_exporter": "python",
   "pygments_lexer": "ipython3",
   "version": "3.12.7"
  }
 },
 "nbformat": 4,
 "nbformat_minor": 2
}
