{
 "cells": [
  {
   "cell_type": "code",
   "execution_count": 45,
   "metadata": {},
   "outputs": [
    {
     "data": {
      "text/plain": [
       "지점                   0\n",
       "일시                   0\n",
       "풍속(m/s)          27710\n",
       "풍향(deg)          27708\n",
       "GUST풍속(m/s)      27816\n",
       "현지기압(hPa)         3926\n",
       "습도(%)             1963\n",
       "기온(°C)            3015\n",
       "수온(°C)            1773\n",
       "최대파고(m)            678\n",
       "유의파고(m)           1552\n",
       "평균파고(m)           1794\n",
       "파주기(sec)          1459\n",
       "파향(deg)           1569\n",
       "풍속1(m/s)         78786\n",
       "풍향1(deg)         78786\n",
       "GUST풍속 1(m/s)    78793\n",
       "dtype: int64"
      ]
     },
     "execution_count": 45,
     "metadata": {},
     "output_type": "execute_result"
    }
   ],
   "source": [
    "import pandas as pd\n",
    "\n",
    "df2011 = pd.read_csv('../data/MARINE_time_2011.csv', encoding='euc-kr')\n",
    "df2012 = pd.read_csv('../data/MARINE_time_2012.csv', encoding='euc-kr')\n",
    "df2013 = pd.read_csv('../data/MARINE_time_2013.csv', encoding='euc-kr')\n",
    "df2014 = pd.read_csv('../data/MARINE_time_2014.csv', encoding='euc-kr')\n",
    "df2015 = pd.read_csv('../data/MARINE_time_2015.csv', encoding='euc-kr')\n",
    "df2016 = pd.read_csv('../data/MARINE_time_2016.csv', encoding='euc-kr')\n",
    "df2017 = pd.read_csv('../data/MARINE_time_2017.csv', encoding='euc-kr')\n",
    "df2018 = pd.read_csv('../data/MARINE_time_2018.csv', encoding='euc-kr')\n",
    "df2019 = pd.read_csv('../data/MARINE_time_2019.csv', encoding='euc-kr')\n",
    "df2020 = pd.read_csv('../data/MARINE_time_2020.csv', encoding='euc-kr')\n",
    "df2021 = pd.read_csv('../data/MARINE_time_2021.csv', encoding='euc-kr')\n",
    "df2022 = pd.read_csv('../data/MARINE_time_2022.csv', encoding='euc-kr')\n",
    "df2023 = pd.read_csv('../data/MARINE_time_2023.csv', encoding='euc-kr')\n",
    "\n",
    "df_combined = pd.concat([df2011, df2012, df2013, df2014, df2015, df2016, df2017, df2018,\n",
    "                         df2019, df2020, df2021, df2022, df2023], ignore_index=True)\n",
    "\n",
    "df_combined.isnull().sum()\n"
   ]
  },
  {
   "cell_type": "markdown",
   "metadata": {},
   "source": [
    "결측치가 너무 많기에 제거법 사용은 비합리적이라고 판단\n",
    "\n",
    "대체값을 채우는 방법!\n",
    "1. 평균값 또는 중앙값 대체\n",
    "2. 최빈값 대체\n",
    "3. 선형 보간법\n",
    "4. K-최근접 이웃(KNN)\n",
    "5. 회귀 대체\n",
    "6. 핫덱 대체\n",
    "\n",
    "이 중 핫덱 대체법이 가장 적합하다고 판단 후 이행"
   ]
  },
  {
   "cell_type": "code",
   "execution_count": 46,
   "metadata": {},
   "outputs": [
    {
     "data": {
      "text/plain": [
       "(        지점  풍속(m/s)  풍향(deg)  GUST풍속(m/s)  현지기압(hPa)  습도(%)  기온(°C)  수온(°C)  \\\n",
       " 0  21229.0      2.1    304.0          4.2     1031.0   45.0     6.2    11.9   \n",
       " 1  21229.0      4.5    293.0          6.9     1030.6   51.0     6.2    11.7   \n",
       " 2  21229.0      4.6    277.0          7.2     1030.4   42.0     6.5    12.4   \n",
       " 3  21229.0      3.2    285.0          6.0     1030.4   40.0     6.5    13.2   \n",
       " 4  21229.0      2.7    276.0          4.6     1030.5   41.0     6.7    13.3   \n",
       " \n",
       "    최대파고(m)  유의파고(m)  평균파고(m)  파주기(sec)  파향(deg)  풍속1(m/s)  풍향1(deg)  \\\n",
       " 0      3.7      2.2      1.1       6.4    103.0      4.04     273.0   \n",
       " 1      3.6      2.2      1.1       4.3     82.0      5.58     225.6   \n",
       " 2      3.4      2.1      1.0       4.9    206.0      4.16     280.6   \n",
       " 3      3.3      2.1      1.0       4.6      8.0      5.62     308.8   \n",
       " 4      2.6      1.9      1.0       9.1     37.0      3.94     282.4   \n",
       " \n",
       "    GUST풍속 1(m/s)  \n",
       " 0           6.62  \n",
       " 1           8.38  \n",
       " 2           6.80  \n",
       " 3           8.46  \n",
       " 4           6.60  ,\n",
       "              지점  풍속(m/s)  풍향(deg)  GUST풍속(m/s)  현지기압(hPa)  습도(%)  기온(°C)  \\\n",
       " 104050  21229.0     12.9      8.0         17.2     1018.2   65.0     7.0   \n",
       " 104051  21229.0     12.9      5.0         17.1     1019.3   64.0     8.7   \n",
       " 104052  21229.0     12.9      4.0         17.2     1020.6   68.0     8.4   \n",
       " 104053  21229.0     12.8      8.0         17.5     1022.1   61.0     6.0   \n",
       " 104054  21229.0     12.9      6.0         17.1     1023.2   62.0     5.5   \n",
       " \n",
       "         수온(°C)  최대파고(m)  유의파고(m)  평균파고(m)  파주기(sec)  파향(deg)  풍속1(m/s)  \\\n",
       " 104050    13.5      6.1      3.5      2.5       9.1     26.0      9.14   \n",
       " 104051    13.8      7.0      3.7      2.7       8.0     30.0      9.08   \n",
       " 104052    14.2      7.4      4.5      3.2       9.1      9.0      8.82   \n",
       " 104053    14.6      6.8      4.6      3.2       9.1     21.0      7.54   \n",
       " 104054    14.9      6.8      4.2      3.0       9.1     37.0      8.68   \n",
       " \n",
       "         풍향1(deg)  GUST풍속 1(m/s)  \n",
       " 104050      87.2          12.72  \n",
       " 104051      91.4          12.68  \n",
       " 104052      90.2          12.76  \n",
       " 104053      36.8          10.76  \n",
       " 104054     150.2          11.98  )"
      ]
     },
     "execution_count": 46,
     "metadata": {},
     "output_type": "execute_result"
    }
   ],
   "source": [
    "# 비슷한 사례를 찾아서 결측치 채우기\n",
    "from sklearn.impute import KNNImputer\n",
    "\n",
    "# '일시' 열을 datetime 형식으로 변환하고 필요한 경우 삭제\n",
    "df_combined['일시'] = pd.to_datetime(df_combined['일시'])\n",
    "df = df_combined.drop(columns=['일시'])\n",
    "\n",
    "# 수치형 데이터 선택\n",
    "numeric_cols = df.select_dtypes(include=['float64', 'int64']).columns\n",
    "\n",
    "# KNNImputer를 사용하여 수치형 데이터 결측치 대체\n",
    "imputer = KNNImputer(n_neighbors=5)\n",
    "df[numeric_cols] = imputer.fit_transform(df[numeric_cols])\n",
    "\n",
    "df.head(), df.tail()\n"
   ]
  },
  {
   "cell_type": "code",
   "execution_count": 47,
   "metadata": {},
   "outputs": [
    {
     "data": {
      "text/plain": [
       "지점               0\n",
       "풍속(m/s)          0\n",
       "풍향(deg)          0\n",
       "GUST풍속(m/s)      0\n",
       "현지기압(hPa)        0\n",
       "습도(%)            0\n",
       "기온(°C)           0\n",
       "수온(°C)           0\n",
       "최대파고(m)          0\n",
       "유의파고(m)          0\n",
       "평균파고(m)          0\n",
       "파주기(sec)         0\n",
       "파향(deg)          0\n",
       "풍속1(m/s)         0\n",
       "풍향1(deg)         0\n",
       "GUST풍속 1(m/s)    0\n",
       "dtype: int64"
      ]
     },
     "execution_count": 47,
     "metadata": {},
     "output_type": "execute_result"
    }
   ],
   "source": [
    "df.isnull().sum()"
   ]
  },
  {
   "cell_type": "code",
   "execution_count": 48,
   "metadata": {},
   "outputs": [],
   "source": [
    "df.to_csv('Data_Merge_and_Imputation.csv', index=False, encoding='utf-8')"
   ]
  }
 ],
 "metadata": {
  "kernelspec": {
   "display_name": "base",
   "language": "python",
   "name": "python3"
  },
  "language_info": {
   "codemirror_mode": {
    "name": "ipython",
    "version": 3
   },
   "file_extension": ".py",
   "mimetype": "text/x-python",
   "name": "python",
   "nbconvert_exporter": "python",
   "pygments_lexer": "ipython3",
   "version": "3.12.7"
  }
 },
 "nbformat": 4,
 "nbformat_minor": 2
}
