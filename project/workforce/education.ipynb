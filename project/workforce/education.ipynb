{
 "cells": [
  {
   "cell_type": "code",
   "execution_count": 14,
   "metadata": {},
   "outputs": [
    {
     "data": {
      "text/html": [
       "<div>\n",
       "<style scoped>\n",
       "    .dataframe tbody tr th:only-of-type {\n",
       "        vertical-align: middle;\n",
       "    }\n",
       "\n",
       "    .dataframe tbody tr th {\n",
       "        vertical-align: top;\n",
       "    }\n",
       "\n",
       "    .dataframe thead th {\n",
       "        text-align: right;\n",
       "    }\n",
       "</style>\n",
       "<table border=\"1\" class=\"dataframe\">\n",
       "  <thead>\n",
       "    <tr style=\"text-align: right;\">\n",
       "      <th></th>\n",
       "      <th>시점</th>\n",
       "      <th>서울</th>\n",
       "      <th>광역시</th>\n",
       "      <th>대도시외</th>\n",
       "    </tr>\n",
       "  </thead>\n",
       "  <tbody>\n",
       "    <tr>\n",
       "      <th>0</th>\n",
       "      <td>2015</td>\n",
       "      <td>416886307</td>\n",
       "      <td>400708586</td>\n",
       "      <td>1026316703</td>\n",
       "    </tr>\n",
       "    <tr>\n",
       "      <th>1</th>\n",
       "      <td>2016</td>\n",
       "      <td>431299923</td>\n",
       "      <td>407072559</td>\n",
       "      <td>1063403101</td>\n",
       "    </tr>\n",
       "    <tr>\n",
       "      <th>2</th>\n",
       "      <td>2017</td>\n",
       "      <td>442507582</td>\n",
       "      <td>413488239</td>\n",
       "      <td>1110115165</td>\n",
       "    </tr>\n",
       "    <tr>\n",
       "      <th>3</th>\n",
       "      <td>2018</td>\n",
       "      <td>460496443</td>\n",
       "      <td>419813638</td>\n",
       "      <td>1146199529</td>\n",
       "    </tr>\n",
       "    <tr>\n",
       "      <th>4</th>\n",
       "      <td>2019</td>\n",
       "      <td>475206455</td>\n",
       "      <td>427861462</td>\n",
       "      <td>1172426907</td>\n",
       "    </tr>\n",
       "  </tbody>\n",
       "</table>\n",
       "</div>"
      ],
      "text/plain": [
       "     시점         서울        광역시        대도시외\n",
       "0  2015  416886307  400708586  1026316703\n",
       "1  2016  431299923  407072559  1063403101\n",
       "2  2017  442507582  413488239  1110115165\n",
       "3  2018  460496443  419813638  1146199529\n",
       "4  2019  475206455  427861462  1172426907"
      ]
     },
     "execution_count": 14,
     "metadata": {},
     "output_type": "execute_result"
    }
   ],
   "source": [
    "import pandas as pd\n",
    "income = pd.read_csv('income.csv')\n",
    "\n",
    "income.rename(columns={'서울특별시': '서울', 'old_name2': 'new_name2'}, inplace=True)\n",
    "income['광역시'] = income['부산광역시'] + income['대구광역시'] + income['인천광역시'] + income['광주광역시'] + income['대전광역시'] + income['울산광역시']\n",
    "income['대도시외'] = income['세종특별자치시'] + income['경기도'] + income['강원특별자치도'] + income['충청북도'] + income['충청남도'] + income['전북특별자치도'] + income['전라남도'] + income['경상북도'] + income['경상남도'] + income['제주특별자치도']\n",
    "new_income = income.loc[:, ['시점', '서울', '광역시', '대도시외']]\n",
    "new_income.head()"
   ]
  },
  {
   "cell_type": "code",
   "execution_count": 15,
   "metadata": {},
   "outputs": [
    {
     "name": "stdout",
     "output_type": "stream",
     "text": [
      "<class 'pandas.core.frame.DataFrame'>\n",
      "RangeIndex: 8 entries, 0 to 7\n",
      "Data columns (total 4 columns):\n",
      " #   Column  Non-Null Count  Dtype         \n",
      "---  ------  --------------  -----         \n",
      " 0   시점      8 non-null      datetime64[ns]\n",
      " 1   서울      8 non-null      int64         \n",
      " 2   광역시     8 non-null      int64         \n",
      " 3   대도시외    8 non-null      int64         \n",
      "dtypes: datetime64[ns](1), int64(3)\n",
      "memory usage: 388.0 bytes\n"
     ]
    }
   ],
   "source": [
    "new_income['시점'] = pd.to_datetime(new_income['시점'], format='%Y', errors='coerce')\n",
    "\n",
    "# 각 지역별 데이터 숫자형으로 변환 (문자열에서 숫자로 변환)\n",
    "for column in ['서울', '광역시', '대도시외']:\n",
    "    new_income[column] = pd.to_numeric(new_income[column], errors='coerce')\n",
    "\n",
    "new_income.info()"
   ]
  },
  {
   "cell_type": "code",
   "execution_count": 16,
   "metadata": {},
   "outputs": [
    {
     "data": {
      "text/plain": [
       "(         시점         서울        광역시        대도시외\n",
       " 0   2015.01  416886307  400708586  1026316703\n",
       " 1   2015.02  418087441  401238917  1029407236\n",
       " 2   2015.03  419288576  401769248  1032497769\n",
       " 3   2015.04  420489711  402299579  1035588302\n",
       " 4   2015.05  421690845  402829910  1038678835\n",
       " 5   2015.06  422891980  403360241  1041769368\n",
       " 6   2015.07  424093115  403890572  1044859902\n",
       " 7   2015.08  425294249  404420903  1047950435\n",
       " 8   2015.09  426495384  404951234  1051040968\n",
       " 9   2015.10  427696519  405481565  1054131501\n",
       " 10  2015.11  428897653  406011896  1057222034\n",
       " 11  2015.12  430098788  406542227  1060312567,\n",
       " (85, 4))"
      ]
     },
     "execution_count": 16,
     "metadata": {},
     "output_type": "execute_result"
    }
   ],
   "source": [
    "# 월별 인덱스 생성\n",
    "monthly_index = pd.date_range(start=new_income['시점'].min(), end=new_income['시점'].max(), freq='ME')\n",
    "\n",
    "# 월별 데이터 프레임 생성\n",
    "monthly_income = pd.DataFrame()\n",
    "\n",
    "# 각 지역별 데이터를 추가\n",
    "for column in ['서울', '광역시', '대도시외']:\n",
    "    # 해당 지역의 연도별 데이터만 선택하고 인덱스를 연도 형태로 변환\n",
    "    yearly_data = new_income.set_index('시점')[column]\n",
    "    \n",
    "    # 보간을 위한 리샘플링\n",
    "    monthly_data = yearly_data.resample('ME').mean()  # 평균으로 리샘플링\n",
    "    monthly_data = monthly_data.interpolate(method='linear')  # 선형 보간\n",
    "    monthly_income[column] = monthly_data.astype(int)\n",
    "\n",
    "# 시점 포맷 변환\n",
    "monthly_income.reset_index(inplace=True)\n",
    "monthly_income.rename(columns={'index': '시점'}, inplace=True)\n",
    "monthly_income['시점'] = monthly_income['시점'].dt.strftime('%Y.%m')\n",
    "\n",
    "monthly_income.head(12), monthly_income.shape\n",
    "\n",
    "# # 데이터 저장 (선택 사항)\n",
    "# monthly_income.to_csv('monthly_income.csv')"
   ]
  },
  {
   "cell_type": "code",
   "execution_count": 17,
   "metadata": {},
   "outputs": [
    {
     "data": {
      "text/plain": [
       "<Axes: >"
      ]
     },
     "execution_count": 17,
     "metadata": {},
     "output_type": "execute_result"
    },
    {
     "name": "stderr",
     "output_type": "stream",
     "text": [
      "c:\\Users\\user\\anaconda3\\envs\\myConda\\Lib\\site-packages\\IPython\\core\\events.py:82: UserWarning: Glyph 49436 (\\N{HANGUL SYLLABLE SEO}) missing from font(s) DejaVu Sans.\n",
      "  func(*args, **kwargs)\n",
      "c:\\Users\\user\\anaconda3\\envs\\myConda\\Lib\\site-packages\\IPython\\core\\events.py:82: UserWarning: Glyph 50872 (\\N{HANGUL SYLLABLE UL}) missing from font(s) DejaVu Sans.\n",
      "  func(*args, **kwargs)\n",
      "c:\\Users\\user\\anaconda3\\envs\\myConda\\Lib\\site-packages\\IPython\\core\\events.py:82: UserWarning: Glyph 44305 (\\N{HANGUL SYLLABLE GWANG}) missing from font(s) DejaVu Sans.\n",
      "  func(*args, **kwargs)\n",
      "c:\\Users\\user\\anaconda3\\envs\\myConda\\Lib\\site-packages\\IPython\\core\\events.py:82: UserWarning: Glyph 50669 (\\N{HANGUL SYLLABLE YEOG}) missing from font(s) DejaVu Sans.\n",
      "  func(*args, **kwargs)\n",
      "c:\\Users\\user\\anaconda3\\envs\\myConda\\Lib\\site-packages\\IPython\\core\\events.py:82: UserWarning: Glyph 49884 (\\N{HANGUL SYLLABLE SI}) missing from font(s) DejaVu Sans.\n",
      "  func(*args, **kwargs)\n",
      "c:\\Users\\user\\anaconda3\\envs\\myConda\\Lib\\site-packages\\IPython\\core\\events.py:82: UserWarning: Glyph 45824 (\\N{HANGUL SYLLABLE DAE}) missing from font(s) DejaVu Sans.\n",
      "  func(*args, **kwargs)\n",
      "c:\\Users\\user\\anaconda3\\envs\\myConda\\Lib\\site-packages\\IPython\\core\\events.py:82: UserWarning: Glyph 46020 (\\N{HANGUL SYLLABLE DO}) missing from font(s) DejaVu Sans.\n",
      "  func(*args, **kwargs)\n",
      "c:\\Users\\user\\anaconda3\\envs\\myConda\\Lib\\site-packages\\IPython\\core\\events.py:82: UserWarning: Glyph 50808 (\\N{HANGUL SYLLABLE OE}) missing from font(s) DejaVu Sans.\n",
      "  func(*args, **kwargs)\n",
      "c:\\Users\\user\\anaconda3\\envs\\myConda\\Lib\\site-packages\\IPython\\core\\pylabtools.py:170: UserWarning: Glyph 49436 (\\N{HANGUL SYLLABLE SEO}) missing from font(s) DejaVu Sans.\n",
      "  fig.canvas.print_figure(bytes_io, **kw)\n",
      "c:\\Users\\user\\anaconda3\\envs\\myConda\\Lib\\site-packages\\IPython\\core\\pylabtools.py:170: UserWarning: Glyph 50872 (\\N{HANGUL SYLLABLE UL}) missing from font(s) DejaVu Sans.\n",
      "  fig.canvas.print_figure(bytes_io, **kw)\n",
      "c:\\Users\\user\\anaconda3\\envs\\myConda\\Lib\\site-packages\\IPython\\core\\pylabtools.py:170: UserWarning: Glyph 44305 (\\N{HANGUL SYLLABLE GWANG}) missing from font(s) DejaVu Sans.\n",
      "  fig.canvas.print_figure(bytes_io, **kw)\n",
      "c:\\Users\\user\\anaconda3\\envs\\myConda\\Lib\\site-packages\\IPython\\core\\pylabtools.py:170: UserWarning: Glyph 50669 (\\N{HANGUL SYLLABLE YEOG}) missing from font(s) DejaVu Sans.\n",
      "  fig.canvas.print_figure(bytes_io, **kw)\n",
      "c:\\Users\\user\\anaconda3\\envs\\myConda\\Lib\\site-packages\\IPython\\core\\pylabtools.py:170: UserWarning: Glyph 49884 (\\N{HANGUL SYLLABLE SI}) missing from font(s) DejaVu Sans.\n",
      "  fig.canvas.print_figure(bytes_io, **kw)\n",
      "c:\\Users\\user\\anaconda3\\envs\\myConda\\Lib\\site-packages\\IPython\\core\\pylabtools.py:170: UserWarning: Glyph 45824 (\\N{HANGUL SYLLABLE DAE}) missing from font(s) DejaVu Sans.\n",
      "  fig.canvas.print_figure(bytes_io, **kw)\n",
      "c:\\Users\\user\\anaconda3\\envs\\myConda\\Lib\\site-packages\\IPython\\core\\pylabtools.py:170: UserWarning: Glyph 46020 (\\N{HANGUL SYLLABLE DO}) missing from font(s) DejaVu Sans.\n",
      "  fig.canvas.print_figure(bytes_io, **kw)\n",
      "c:\\Users\\user\\anaconda3\\envs\\myConda\\Lib\\site-packages\\IPython\\core\\pylabtools.py:170: UserWarning: Glyph 50808 (\\N{HANGUL SYLLABLE OE}) missing from font(s) DejaVu Sans.\n",
      "  fig.canvas.print_figure(bytes_io, **kw)\n"
     ]
    },
    {
     "data": {
      "image/png": "[encoded data removed]",
      "text/plain": [
       "<Figure size 640x480 with 1 Axes>"
      ]
     },
     "metadata": {},
     "output_type": "display_data"
    }
   ],
   "source": [
    "monthly_income.plot()"
   ]
  }
 ],
 "metadata": {
  "kernelspec": {
   "display_name": "myConda",
   "language": "python",
   "name": "python3"
  },
  "language_info": {
   "codemirror_mode": {
    "name": "ipython",
    "version": 3
   },
   "file_extension": ".py",
   "mimetype": "text/x-python",
   "name": "python",
   "nbconvert_exporter": "python",
   "pygments_lexer": "ipython3",
   "version": "3.12.3"
  }
 },
 "nbformat": 4,
 "nbformat_minor": 2
}
