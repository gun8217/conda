{
 "cells": [
  {
   "cell_type": "code",
   "execution_count": 90,
   "metadata": {},
   "outputs": [
    {
     "data": {
      "text/html": [
       "<div>\n",
       "<style scoped>\n",
       "    .dataframe tbody tr th:only-of-type {\n",
       "        vertical-align: middle;\n",
       "    }\n",
       "\n",
       "    .dataframe tbody tr th {\n",
       "        vertical-align: top;\n",
       "    }\n",
       "\n",
       "    .dataframe thead th {\n",
       "        text-align: right;\n",
       "    }\n",
       "</style>\n",
       "<table border=\"1\" class=\"dataframe\">\n",
       "  <thead>\n",
       "    <tr style=\"text-align: right;\">\n",
       "      <th></th>\n",
       "      <th>시점</th>\n",
       "      <th>서울</th>\n",
       "      <th>광역시</th>\n",
       "      <th>대도시외</th>\n",
       "    </tr>\n",
       "  </thead>\n",
       "  <tbody>\n",
       "    <tr>\n",
       "      <th>0</th>\n",
       "      <td>2007</td>\n",
       "      <td>47410</td>\n",
       "      <td>54016</td>\n",
       "      <td>98973</td>\n",
       "    </tr>\n",
       "    <tr>\n",
       "      <th>1</th>\n",
       "      <td>2008</td>\n",
       "      <td>48258</td>\n",
       "      <td>55401</td>\n",
       "      <td>105435</td>\n",
       "    </tr>\n",
       "    <tr>\n",
       "      <th>2</th>\n",
       "      <td>2009</td>\n",
       "      <td>52502</td>\n",
       "      <td>51584</td>\n",
       "      <td>112173</td>\n",
       "    </tr>\n",
       "    <tr>\n",
       "      <th>3</th>\n",
       "      <td>2010</td>\n",
       "      <td>49119</td>\n",
       "      <td>49716</td>\n",
       "      <td>109882</td>\n",
       "    </tr>\n",
       "    <tr>\n",
       "      <th>4</th>\n",
       "      <td>2011</td>\n",
       "      <td>48018</td>\n",
       "      <td>47021</td>\n",
       "      <td>106226</td>\n",
       "    </tr>\n",
       "  </tbody>\n",
       "</table>\n",
       "</div>"
      ],
      "text/plain": [
       "     시점     서울    광역시    대도시외\n",
       "0  2007  47410  54016   98973\n",
       "1  2008  48258  55401  105435\n",
       "2  2009  52502  51584  112173\n",
       "3  2010  49119  49716  109882\n",
       "4  2011  48018  47021  106226"
      ]
     },
     "execution_count": 90,
     "metadata": {},
     "output_type": "execute_result"
    }
   ],
   "source": [
    "import pandas as pd\n",
    "\n",
    "education = pd.read_csv('private_education.csv')\n",
    "education['대도시외'] = education['중소도시'] + education['읍면지역']\n",
    "education = education.drop(columns=['전체', '중소도시', '읍면지역'])\n",
    "education.head()\n"
   ]
  },
  {
   "cell_type": "code",
   "execution_count": 91,
   "metadata": {},
   "outputs": [
    {
     "name": "stdout",
     "output_type": "stream",
     "text": [
      "<class 'pandas.core.frame.DataFrame'>\n",
      "RangeIndex: 17 entries, 0 to 16\n",
      "Data columns (total 4 columns):\n",
      " #   Column  Non-Null Count  Dtype         \n",
      "---  ------  --------------  -----         \n",
      " 0   시점      17 non-null     datetime64[ns]\n",
      " 1   서울      17 non-null     int64         \n",
      " 2   광역시     17 non-null     int64         \n",
      " 3   대도시외    17 non-null     int64         \n",
      "dtypes: datetime64[ns](1), int64(3)\n",
      "memory usage: 676.0 bytes\n"
     ]
    }
   ],
   "source": [
    "education['시점'] = pd.to_datetime(education['시점'], format='%Y', errors='coerce')\n",
    "\n",
    "# 각 지역별 데이터 숫자형으로 변환 (문자열에서 숫자로 변환)\n",
    "for column in ['서울', '광역시', '대도시외']:\n",
    "    education[column] = pd.to_numeric(education[column], errors='coerce')\n",
    "\n",
    "education.info()"
   ]
  },
  {
   "cell_type": "code",
   "execution_count": 92,
   "metadata": {},
   "outputs": [
    {
     "data": {
      "text/plain": [
       "(         시점     서울    광역시    대도시외\n",
       " 0   2007.01  47410  54016   98973\n",
       " 1   2007.02  47480  54131   99511\n",
       " 2   2007.03  47551  54246  100050\n",
       " 3   2007.04  47622  54362  100588\n",
       " 4   2007.05  47692  54477  101127\n",
       " 5   2007.06  47763  54593  101665\n",
       " 6   2007.07  47834  54708  102204\n",
       " 7   2007.08  47904  54823  102742\n",
       " 8   2007.09  47975  54939  103281\n",
       " 9   2007.10  48046  55054  103819\n",
       " 10  2007.11  48116  55170  104358\n",
       " 11  2007.12  48187  55285  104896,\n",
       " (193, 4))"
      ]
     },
     "execution_count": 92,
     "metadata": {},
     "output_type": "execute_result"
    }
   ],
   "source": [
    "# 월별 인덱스 생성\n",
    "monthly_index = pd.date_range(start=education['시점'].min(), end=education['시점'].max(), freq='ME')\n",
    "\n",
    "# 월별 데이터 프레임 생성\n",
    "monthly_education = pd.DataFrame()\n",
    "\n",
    "# 각 지역별 데이터를 추가\n",
    "for column in ['서울', '광역시', '대도시외']:\n",
    "    # 해당 지역의 연도별 데이터만 선택하고 인덱스를 연도 형태로 변환\n",
    "    yearly_data = education.set_index('시점')[column]\n",
    "    \n",
    "    # 보간을 위한 리샘플링\n",
    "    monthly_data = yearly_data.resample('ME').mean()  # 평균으로 리샘플링\n",
    "    monthly_data = monthly_data.interpolate(method='linear')  # 선형 보간\n",
    "    monthly_education[column] = monthly_data.astype(int)\n",
    "\n",
    "# 시점 포맷 변환\n",
    "monthly_education.reset_index(inplace=True)\n",
    "monthly_education.rename(columns={'index': '시점'}, inplace=True)\n",
    "monthly_education['시점'] = monthly_education['시점'].dt.strftime('%Y.%m')\n",
    "\n",
    "monthly_education.head(12), monthly_education.shape\n",
    "\n",
    "# 데이터 저장 (선택 사항)\n",
    "monthly_education.to_csv('monthly_private_education.csv')\n"
   ]
  },
  {
   "cell_type": "code",
   "execution_count": null,
   "metadata": {},
   "outputs": [],
   "source": []
  }
 ],
 "metadata": {
  "kernelspec": {
   "display_name": "myConda",
   "language": "python",
   "name": "python3"
  },
  "language_info": {
   "codemirror_mode": {
    "name": "ipython",
    "version": 3
   },
   "file_extension": ".py",
   "mimetype": "text/x-python",
   "name": "python",
   "nbconvert_exporter": "python",
   "pygments_lexer": "ipython3",
   "version": "3.12.3"
  }
 },
 "nbformat": 4,
 "nbformat_minor": 2
}
