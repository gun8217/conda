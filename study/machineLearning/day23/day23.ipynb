{
 "cells": [
  {
   "cell_type": "code",
   "execution_count": 9,
   "metadata": {},
   "outputs": [],
   "source": [
    "# 데이터 준비\n",
    "import pandas as pd\n",
    "\n",
    "campaign_df = pd.read_csv('campaign_master.csv')\n",
    "class_df = pd.read_csv('class_master.csv')\n",
    "customer_df = pd.read_csv('customer_master.csv')\n",
    "use_df = pd.read_csv('use_log.csv')"
   ]
  },
  {
   "cell_type": "code",
   "execution_count": 10,
   "metadata": {},
   "outputs": [
    {
     "data": {
      "text/plain": [
       "Index(['customer_id', 'name', 'class', 'gender', 'start_date', 'end_date',\n",
       "       'campaign_id', 'is_deleted', 'class_name', 'price', 'log_id', 'usedate',\n",
       "       'campaign_name'],\n",
       "      dtype='object')"
      ]
     },
     "execution_count": 10,
     "metadata": {},
     "output_type": "execute_result"
    }
   ],
   "source": [
    "# 병합\n",
    "custonmer_join = pd.merge(customer_df, class_df, on='class', how='outer')\n",
    "custonmer_join = pd.merge(custonmer_join, use_df, on='customer_id', how='left')\n",
    "custonmer_join = pd.merge(custonmer_join, campaign_df, on='campaign_id', how='left')\n",
    "custonmer_join.columns.unique()"
   ]
  },
  {
   "cell_type": "code",
   "execution_count": 11,
   "metadata": {},
   "outputs": [
    {
     "data": {
      "text/plain": [
       "customer_id      0\n",
       "name             0\n",
       "class            0\n",
       "gender           0\n",
       "start_date       0\n",
       "calc_date        0\n",
       "campaign_id      0\n",
       "is_deleted       0\n",
       "class_name       0\n",
       "price            0\n",
       "log_id           0\n",
       "usedate          0\n",
       "campaign_name    0\n",
       "dtype: int64"
      ]
     },
     "execution_count": 11,
     "metadata": {},
     "output_type": "execute_result"
    }
   ],
   "source": [
    "# 결측치 처리\n",
    "# custonmer_join.isnull().sum()\n",
    "custonmer_join = custonmer_join.dropna()\n",
    "\n",
    "custonmer_join.rename(columns={'end_date': 'calc_date'}, inplace=True)\n",
    "custonmer_join.isnull().sum()"
   ]
  },
  {
   "cell_type": "code",
   "execution_count": 12,
   "metadata": {},
   "outputs": [
    {
     "name": "stdout",
     "output_type": "stream",
     "text": [
      "(29474, 13)\n"
     ]
    },
    {
     "data": {
      "text/plain": [
       "(29474,)"
      ]
     },
     "execution_count": 12,
     "metadata": {},
     "output_type": "execute_result"
    }
   ],
   "source": [
    "# 멤버십 기간 계산(calc_date - start_date)\n",
    "print(custonmer_join.shape)\n",
    "custonmer_join['calc_date'] = pd.to_datetime(custonmer_join['calc_date'])\n",
    "custonmer_join['start_date'] = pd.to_datetime(custonmer_join['start_date'])\n",
    "\n",
    "custonmer_join['date_difference'] = (custonmer_join['calc_date'] - custonmer_join['start_date']).dt.days\n",
    "custonmer_join['date_difference'].shape"
   ]
  },
  {
   "cell_type": "code",
   "execution_count": 13,
   "metadata": {},
   "outputs": [
    {
     "data": {
      "text/plain": [
       "(                 mean  median  max  min\n",
       " customer_id                            \n",
       " AS002855     4.500000     5.0    7    2\n",
       " AS008805     4.000000     4.0    8    1\n",
       " AS009013     2.000000     2.0    2    2\n",
       " AS009373     5.083333     5.0    7    3\n",
       " AS015233     7.545455     7.0   11    4,\n",
       " (4192, 4))"
      ]
     },
     "execution_count": 13,
     "metadata": {},
     "output_type": "execute_result"
    }
   ],
   "source": [
    "# use_log 데이터를 활용하여 월별 이용횟수(평균, 최대, 최소, 중앙값) 계산\n",
    "use_df['usedate'] = pd.to_datetime(use_df['usedate'])\n",
    "use_log = (use_df.set_index('usedate') # 'usedate'를 인덱스로 설정\n",
    "           .groupby('customer_id') # customer_id별로 그룹화\n",
    "           .resample('ME')  # 월말로 리샘플링\n",
    "           .size()  # 크기 계산\n",
    "           .reset_index(name='count'))\n",
    "\n",
    "groupby_agg = use_log.groupby('customer_id')['count'].agg(['mean', 'median', 'max', 'min'])\n",
    "groupby_agg.head(), groupby_agg.shape"
   ]
  },
  {
   "cell_type": "code",
   "execution_count": 14,
   "metadata": {},
   "outputs": [
    {
     "data": {
      "text/plain": [
       "(  customer_id  routine_flg\n",
       " 0    AS002855            0\n",
       " 1    AS008805            0\n",
       " 2    AS009013            0\n",
       " 3    AS009373            0\n",
       " 4    AS015233            1,\n",
       " (4192, 2))"
      ]
     },
     "execution_count": 14,
     "metadata": {},
     "output_type": "execute_result"
    }
   ],
   "source": [
    "# use_log 데이터를 활용하여 정기적으로 오는 유저에 대해 routine_flg라는 새로운 칼럼 생성(자주오면 1, 자주 오지 않으면 0)\n",
    "use_routine = use_log[['customer_id']].drop_duplicates()\n",
    "use_routine = use_routine.merge(\n",
    "    groupby_agg['mean'],  # groupby_agg에서 'mean' 컬럼 선택\n",
    "    on='customer_id',\n",
    "    how='left'\n",
    ")\n",
    "month_mean = use_routine['mean'].mean()\n",
    "use_routine['routine_flg'] = (use_routine['mean'] >= month_mean).astype(int)\n",
    "use_routine = use_routine.drop(columns=['mean'])\n",
    "use_routine.head(), use_routine.shape"
   ]
  },
  {
   "cell_type": "code",
   "execution_count": 15,
   "metadata": {},
   "outputs": [
    {
     "data": {
      "text/plain": [
       "(Index(['customer_id', 'name', 'class', 'gender', 'start_date', 'calc_date',\n",
       "        'campaign_id', 'is_deleted', 'class_name', 'price', 'log_id', 'usedate',\n",
       "        'campaign_name', 'date_difference', 'mean', 'median', 'max', 'min',\n",
       "        'routine_flg'],\n",
       "       dtype='object'),\n",
       " (29474, 19))"
      ]
     },
     "execution_count": 15,
     "metadata": {},
     "output_type": "execute_result"
    }
   ],
   "source": [
    "merge_uselog = pd.merge(custonmer_join,\n",
    "                     pd.merge(groupby_agg, use_routine, on='customer_id', how='left'),\n",
    "                     on='customer_id', \n",
    "                     how='left')\n",
    "merge_uselog.columns.unique(), merge_uselog.shape"
   ]
  },
  {
   "cell_type": "markdown",
   "metadata": {},
   "source": []
  }
 ],
 "metadata": {
  "kernelspec": {
   "display_name": "myConda",
   "language": "python",
   "name": "python3"
  },
  "language_info": {
   "codemirror_mode": {
    "name": "ipython",
    "version": 3
   },
   "file_extension": ".py",
   "mimetype": "text/x-python",
   "name": "python",
   "nbconvert_exporter": "python",
   "pygments_lexer": "ipython3",
   "version": "3.12.4"
  }
 },
 "nbformat": 4,
 "nbformat_minor": 2
}
