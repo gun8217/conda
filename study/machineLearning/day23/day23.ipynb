{
 "cells": [
  {
   "cell_type": "code",
   "execution_count": 47,
   "metadata": {},
   "outputs": [],
   "source": [
    "# 데이터 준비\n",
    "import pandas as pd\n",
    "\n",
    "campaign_df = pd.read_csv('campaign_master.csv')\n",
    "class_df = pd.read_csv('class_master.csv')\n",
    "customer_df = pd.read_csv('customer_master.csv')\n",
    "use_df = pd.read_csv('use_log.csv')"
   ]
  },
  {
   "cell_type": "code",
   "execution_count": 48,
   "metadata": {},
   "outputs": [
    {
     "data": {
      "text/plain": [
       "Index(['customer_id', 'name', 'class', 'gender', 'start_date', 'end_date',\n",
       "       'campaign_id', 'is_deleted', 'log_id', 'usedate', 'class_name', 'price',\n",
       "       'campaign_name'],\n",
       "      dtype='object')"
      ]
     },
     "execution_count": 48,
     "metadata": {},
     "output_type": "execute_result"
    }
   ],
   "source": [
    "# 병합\n",
    "custonmer_join = pd.merge(customer_df, use_df, on='customer_id', how='outer')\n",
    "custonmer_join = pd.merge(custonmer_join, class_df, on='class', how='left')\n",
    "custonmer_join = pd.merge(custonmer_join, campaign_df, on='campaign_id', how='left')\n",
    "custonmer_join.columns.unique()"
   ]
  },
  {
   "cell_type": "code",
   "execution_count": 49,
   "metadata": {},
   "outputs": [
    {
     "data": {
      "text/plain": [
       "customer_id      0\n",
       "name             0\n",
       "class            0\n",
       "gender           0\n",
       "start_date       0\n",
       "calc_date        0\n",
       "campaign_id      0\n",
       "is_deleted       0\n",
       "log_id           0\n",
       "usedate          0\n",
       "class_name       0\n",
       "price            0\n",
       "campaign_name    0\n",
       "dtype: int64"
      ]
     },
     "execution_count": 49,
     "metadata": {},
     "output_type": "execute_result"
    }
   ],
   "source": [
    "# 결측치 처리\n",
    "# custonmer_join.isnull().sum()\n",
    "custonmer_join = custonmer_join.dropna()\n",
    "\n",
    "custonmer_join.rename(columns={'end_date': 'calc_date'}, inplace=True)\n",
    "custonmer_join.isnull().sum()"
   ]
  },
  {
   "cell_type": "code",
   "execution_count": 50,
   "metadata": {},
   "outputs": [
    {
     "name": "stdout",
     "output_type": "stream",
     "text": [
      "(29474, 13)\n"
     ]
    },
    {
     "data": {
      "text/plain": [
       "(29474,)"
      ]
     },
     "execution_count": 50,
     "metadata": {},
     "output_type": "execute_result"
    }
   ],
   "source": [
    "# 멤버십 기간 계산(calc_date - start_date)\n",
    "print(custonmer_join.shape)\n",
    "custonmer_join['calc_date'] = pd.to_datetime(custonmer_join['calc_date'])\n",
    "custonmer_join['start_date'] = pd.to_datetime(custonmer_join['start_date'])\n",
    "\n",
    "custonmer_join['date_difference'] = (custonmer_join['calc_date'] - custonmer_join['start_date']).dt.days\n",
    "custonmer_join['date_difference'].shape"
   ]
  },
  {
   "cell_type": "code",
   "execution_count": 66,
   "metadata": {},
   "outputs": [
    {
     "data": {
      "text/html": [
       "<div>\n",
       "<style scoped>\n",
       "    .dataframe tbody tr th:only-of-type {\n",
       "        vertical-align: middle;\n",
       "    }\n",
       "\n",
       "    .dataframe tbody tr th {\n",
       "        vertical-align: top;\n",
       "    }\n",
       "\n",
       "    .dataframe thead th {\n",
       "        text-align: right;\n",
       "    }\n",
       "</style>\n",
       "<table border=\"1\" class=\"dataframe\">\n",
       "  <thead>\n",
       "    <tr style=\"text-align: right;\">\n",
       "      <th></th>\n",
       "      <th>mean</th>\n",
       "      <th>median</th>\n",
       "      <th>max</th>\n",
       "      <th>min</th>\n",
       "    </tr>\n",
       "    <tr>\n",
       "      <th>customer_id</th>\n",
       "      <th></th>\n",
       "      <th></th>\n",
       "      <th></th>\n",
       "      <th></th>\n",
       "    </tr>\n",
       "  </thead>\n",
       "  <tbody>\n",
       "    <tr>\n",
       "      <th>0</th>\n",
       "      <td>2018-09</td>\n",
       "      <td>2018-09</td>\n",
       "      <td>2019-03</td>\n",
       "      <td>2018-04</td>\n",
       "    </tr>\n",
       "    <tr>\n",
       "      <th>1</th>\n",
       "      <td>2018-09</td>\n",
       "      <td>2018-08</td>\n",
       "      <td>2019-03</td>\n",
       "      <td>2018-06</td>\n",
       "    </tr>\n",
       "    <tr>\n",
       "      <th>2</th>\n",
       "      <td>2018-04</td>\n",
       "      <td>2018-04</td>\n",
       "      <td>2018-04</td>\n",
       "      <td>2018-04</td>\n",
       "    </tr>\n",
       "    <tr>\n",
       "      <th>3</th>\n",
       "      <td>2018-09</td>\n",
       "      <td>2018-10</td>\n",
       "      <td>2019-03</td>\n",
       "      <td>2018-04</td>\n",
       "    </tr>\n",
       "    <tr>\n",
       "      <th>4</th>\n",
       "      <td>2018-09</td>\n",
       "      <td>2018-10</td>\n",
       "      <td>2019-03</td>\n",
       "      <td>2018-05</td>\n",
       "    </tr>\n",
       "    <tr>\n",
       "      <th>...</th>\n",
       "      <td>...</td>\n",
       "      <td>...</td>\n",
       "      <td>...</td>\n",
       "      <td>...</td>\n",
       "    </tr>\n",
       "    <tr>\n",
       "      <th>4187</th>\n",
       "      <td>2019-02</td>\n",
       "      <td>2019-02</td>\n",
       "      <td>2019-03</td>\n",
       "      <td>2019-02</td>\n",
       "    </tr>\n",
       "    <tr>\n",
       "      <th>4188</th>\n",
       "      <td>2018-11</td>\n",
       "      <td>2018-12</td>\n",
       "      <td>2019-03</td>\n",
       "      <td>2018-09</td>\n",
       "    </tr>\n",
       "    <tr>\n",
       "      <th>4189</th>\n",
       "      <td>2018-09</td>\n",
       "      <td>2018-10</td>\n",
       "      <td>2019-03</td>\n",
       "      <td>2018-04</td>\n",
       "    </tr>\n",
       "    <tr>\n",
       "      <th>4190</th>\n",
       "      <td>2018-09</td>\n",
       "      <td>2018-10</td>\n",
       "      <td>2019-03</td>\n",
       "      <td>2018-04</td>\n",
       "    </tr>\n",
       "    <tr>\n",
       "      <th>4191</th>\n",
       "      <td>2018-09</td>\n",
       "      <td>2018-10</td>\n",
       "      <td>2019-03</td>\n",
       "      <td>2018-04</td>\n",
       "    </tr>\n",
       "  </tbody>\n",
       "</table>\n",
       "<p>4192 rows × 4 columns</p>\n",
       "</div>"
      ],
      "text/plain": [
       "                mean   median      max      min\n",
       "customer_id                                    \n",
       "0            2018-09  2018-09  2019-03  2018-04\n",
       "1            2018-09  2018-08  2019-03  2018-06\n",
       "2            2018-04  2018-04  2018-04  2018-04\n",
       "3            2018-09  2018-10  2019-03  2018-04\n",
       "4            2018-09  2018-10  2019-03  2018-05\n",
       "...              ...      ...      ...      ...\n",
       "4187         2019-02  2019-02  2019-03  2019-02\n",
       "4188         2018-11  2018-12  2019-03  2018-09\n",
       "4189         2018-09  2018-10  2019-03  2018-04\n",
       "4190         2018-09  2018-10  2019-03  2018-04\n",
       "4191         2018-09  2018-10  2019-03  2018-04\n",
       "\n",
       "[4192 rows x 4 columns]"
      ]
     },
     "execution_count": 66,
     "metadata": {},
     "output_type": "execute_result"
    }
   ],
   "source": [
    "# use_log 데이터를 활용하여 월별 이용횟수(평균, 최대, 최소, 중앙값) 계산\n",
    "use_df['usedate'] = pd.to_datetime(use_df['usedate'])\n",
    "use_df['month'] = use_df['usedate'].dt.to_period('M')\n",
    "\n",
    "# grouped = use_df.groupby('month').size()\n",
    "# print(grouped)\n",
    "\n",
    "# month_counts = grouped.reset_index(name='count')\n",
    "# month_counts['count'].agg(['mean', 'max', 'min', 'median']).reset_index()\n",
    "\n",
    "from sklearn.preprocessing import LabelEncoder\n",
    "\n",
    "# object → int\n",
    "le_disaster = LabelEncoder()\n",
    "use_df['customer_id'] = le_disaster.fit_transform(use_df['customer_id'])\n",
    "\n",
    "groupby_agg = use_df.groupby('customer_id')['month'].agg(['mean', 'median', 'max', 'min'])\n",
    "groupby_agg"
   ]
  },
  {
   "cell_type": "markdown",
   "metadata": {},
   "source": []
  }
 ],
 "metadata": {
  "kernelspec": {
   "display_name": "myConda",
   "language": "python",
   "name": "python3"
  },
  "language_info": {
   "codemirror_mode": {
    "name": "ipython",
    "version": 3
   },
   "file_extension": ".py",
   "mimetype": "text/x-python",
   "name": "python",
   "nbconvert_exporter": "python",
   "pygments_lexer": "ipython3",
   "version": "3.12.4"
  }
 },
 "nbformat": 4,
 "nbformat_minor": 2
}
