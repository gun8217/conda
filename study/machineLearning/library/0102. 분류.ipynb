{
 "cells": [
  {
   "cell_type": "code",
   "execution_count": null,
   "metadata": {},
   "outputs": [],
   "source": [
    "import pandas as pd\n",
    "\n",
    "# 데이터 준비\n",
    "bc_df = pd.read_csv('breast_cancer.csv', index_col=0)\n",
    "bc_df.head(), bc_df.shape"
   ]
  },
  {
   "cell_type": "code",
   "execution_count": null,
   "metadata": {},
   "outputs": [],
   "source": [
    "bc_df.columns.unique()"
   ]
  },
  {
   "cell_type": "code",
   "execution_count": null,
   "metadata": {},
   "outputs": [],
   "source": [
    "from sklearn.preprocessing import LabelEncoder\n",
    "\n",
    "# object → int \n",
    "le_disaster = LabelEncoder()\n",
    "bc_df['target'] = le_disaster.fit_transform(bc_df['target'])\n",
    "bc_df.info()"
   ]
  },
  {
   "cell_type": "code",
   "execution_count": null,
   "metadata": {},
   "outputs": [],
   "source": [
    "bc_df.describe()"
   ]
  },
  {
   "cell_type": "code",
   "execution_count": 688,
   "metadata": {},
   "outputs": [],
   "source": [
    "# 결측치 처리\n",
    "# bc_df.isnull().sum()\n",
    "# bc_df = bc_df.dropna()"
   ]
  },
  {
   "cell_type": "code",
   "execution_count": 689,
   "metadata": {},
   "outputs": [],
   "source": [
    "# 중복 데이터 확인 및 제거\n",
    "# bc_df.duplicated().sum()\n",
    "# bc_df.drop_duplicates(inplace=True)"
   ]
  },
  {
   "cell_type": "code",
   "execution_count": null,
   "metadata": {},
   "outputs": [],
   "source": [
    "import seaborn as sns\n",
    "import matplotlib.pyplot as plt\n",
    "bc_df.hist(bins=50, figsize=(20,15))\n",
    "plt.show()"
   ]
  },
  {
   "cell_type": "code",
   "execution_count": null,
   "metadata": {},
   "outputs": [],
   "source": [
    "# 이상치 확인\n",
    "bc_df.drop('target', axis=1).boxplot(figsize=(30,10))"
   ]
  },
  {
   "cell_type": "code",
   "execution_count": 692,
   "metadata": {},
   "outputs": [],
   "source": [
    "# 이상치 제거\n",
    "bc_df = bc_df[bc_df['symmetry error'] <= 4000]"
   ]
  },
  {
   "cell_type": "code",
   "execution_count": 693,
   "metadata": {},
   "outputs": [],
   "source": [
    "from sklearn.model_selection import train_test_split\n",
    "\n",
    "X = bc_df.drop(columns=['target'])\n",
    "y = bc_df['target']\n",
    "\n",
    "X_train, X_test, y_train, y_test = train_test_split(X, y, test_size=0.3, random_state=42)"
   ]
  },
  {
   "cell_type": "code",
   "execution_count": 694,
   "metadata": {},
   "outputs": [],
   "source": [
    "# 데이터 스케일링\n",
    "from sklearn.preprocessing import MinMaxScaler\n",
    "scaler = MinMaxScaler()\n",
    "\n",
    "# from sklearn.preprocessing import StandardScaler\n",
    "# scaler = StandardScaler()\n",
    "\n",
    "scaler.fit(X_train)\n",
    "X_train_scaled = scaler.transform(X_train)\n",
    "X_test_scaled = scaler.transform(X_test)"
   ]
  },
  {
   "cell_type": "code",
   "execution_count": 695,
   "metadata": {},
   "outputs": [],
   "source": [
    "# 모델 훈련\n",
    "# from sklearn.linear_model import LogisticRegression\n",
    "# model = LogisticRegression(max_iter=200)\n",
    "\n",
    "# from sklearn.tree import DecisionTreeClassifier\n",
    "# model = DecisionTreeClassifier(criterion='entropy',\n",
    "#                                max_depth=4,\n",
    "#                                random_state=42)\n",
    "\n",
    "\n",
    "# model.fit(X_train_scaled, y_train)\n",
    "\n",
    "# pred = model.predict(X_test_scaled)\n",
    "\n",
    "# # depth 깊이 확인\n",
    "# depth = model.get_depth()\n",
    "# print(f\"Tree depth: {depth}\")"
   ]
  },
  {
   "cell_type": "code",
   "execution_count": 696,
   "metadata": {},
   "outputs": [],
   "source": [
    "# 앙상블\n",
    "from sklearn.tree import DecisionTreeClassifier\n",
    "from sklearn.ensemble import RandomForestClassifier\n",
    "from sklearn.ensemble import AdaBoostClassifier\n",
    "from sklearn.ensemble import VotingClassifier\n",
    "\n",
    "model1 = DecisionTreeClassifier(max_depth=4, random_state=42)\n",
    "model2 = RandomForestClassifier(n_estimators=100, max_depth=4, random_state=42)\n",
    "model3 = AdaBoostClassifier(n_estimators=50, algorithm='SAMME', random_state=42)\n",
    "\n",
    "ensemble_model = VotingClassifier(estimators=[\n",
    "    ('dt', model1),\n",
    "    ('rf', model2),\n",
    "    ('ab', model3)],\n",
    "    voting='soft') # 'hard'\n",
    "\n",
    "ensemble_model.fit(X_train_scaled, y_train)\n",
    "\n",
    "pred = ensemble_model.predict(X_test_scaled)"
   ]
  },
  {
   "cell_type": "code",
   "execution_count": null,
   "metadata": {},
   "outputs": [],
   "source": [
    "from sklearn.metrics import accuracy_score\n",
    "\n",
    "model1.fit(X_train_scaled, y_train)\n",
    "model2.fit(X_train_scaled, y_train)\n",
    "model3.fit(X_train_scaled, y_train)\n",
    "\n",
    "pred1 = model1.predict(X_test_scaled)\n",
    "pred2 = model2.predict(X_test_scaled)\n",
    "pred3 = model3.predict(X_test_scaled)\n",
    "\n",
    "# 각 모델의 정확도\n",
    "acc1 = accuracy_score(y_test, pred1)\n",
    "acc2 = accuracy_score(y_test, pred2)\n",
    "acc3 = accuracy_score(y_test, pred3)\n",
    "\n",
    "print(f\"Decision Tree Accuracy: {acc1:.2f}\")\n",
    "print(f\"Random Forest Accuracy: {acc2:.2f}\")\n",
    "print(f\"AdaBoost Accuracy: {acc3:.2f}\")"
   ]
  },
  {
   "cell_type": "code",
   "execution_count": null,
   "metadata": {},
   "outputs": [],
   "source": [
    "# 성능\n",
    "from sklearn.metrics import accuracy_score, precision_score, recall_score, f1_score, roc_auc_score\n",
    "from sklearn.metrics import confusion_matrix, classification_report\n",
    "# accuracy = accuracy_score(y_test, pred)\n",
    "# precision = precision_score(y_test, pred)\n",
    "# recall = recall_score(y_test, pred)\n",
    "# f1 = f1_score(y_test, pred)\n",
    "roc_auc = roc_auc_score(y_test, pred)\n",
    "\n",
    "# print(f\"정확도: {accuracy:.2f}\")\n",
    "# print(f\"정밀도: {precision:.2f}\")\n",
    "# print(f\"재현율: {recall:.2f}\")\n",
    "# print(f\"F1 점수: {f1:.2f}\")\n",
    "print(f\"ROC AUC: {roc_auc:.2f}\\n\")\n",
    "\n",
    "cm = confusion_matrix(y_test, pred)\n",
    "print(\"혼동 행렬:\\n\", cm, '\\n')\n",
    "\n",
    "report = classification_report(y_test, pred)\n",
    "print(\"classification report:\\n\", report)"
   ]
  },
  {
   "cell_type": "code",
   "execution_count": null,
   "metadata": {},
   "outputs": [],
   "source": []
  }
 ],
 "metadata": {
  "kernelspec": {
   "display_name": "myConda",
   "language": "python",
   "name": "python3"
  },
  "language_info": {
   "codemirror_mode": {
    "name": "ipython",
    "version": 3
   },
   "file_extension": ".py",
   "mimetype": "text/x-python",
   "name": "python",
   "nbconvert_exporter": "python",
   "pygments_lexer": "ipython3",
   "version": "3.12.4"
  }
 },
 "nbformat": 4,
 "nbformat_minor": 2
}
