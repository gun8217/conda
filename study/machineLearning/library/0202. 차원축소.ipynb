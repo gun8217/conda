{
 "cells": [
  {
   "cell_type": "code",
   "execution_count": 1,
   "metadata": {},
   "outputs": [
    {
     "data": {
      "text/plain": [
       "(   mean radius  mean texture  mean perimeter  mean area  mean smoothness  \\\n",
       " 0        17.99         10.38          122.80     1001.0          0.11840   \n",
       " 1        20.57         17.77          132.90     1326.0          0.08474   \n",
       " 2        19.69         21.25          130.00     1203.0          0.10960   \n",
       " 3        11.42         20.38           77.58      386.1          0.14250   \n",
       " 4        20.29         14.34          135.10     1297.0          0.10030   \n",
       " \n",
       "    mean compactness  mean concavity  mean concave points  mean symmetry  \\\n",
       " 0           0.27760          0.3001              0.14710         0.2419   \n",
       " 1           0.07864          0.0869              0.07017         0.1812   \n",
       " 2           0.15990          0.1974              0.12790         0.2069   \n",
       " 3           0.28390          0.2414              0.10520         0.2597   \n",
       " 4           0.13280          0.1980              0.10430         0.1809   \n",
       " \n",
       "    mean fractal dimension  ...  worst texture  worst perimeter  worst area  \\\n",
       " 0                 0.07871  ...          17.33           184.60      2019.0   \n",
       " 1                 0.05667  ...          23.41           158.80      1956.0   \n",
       " 2                 0.05999  ...          25.53           152.50      1709.0   \n",
       " 3                 0.09744  ...          26.50            98.87       567.7   \n",
       " 4                 0.05883  ...          16.67           152.20      1575.0   \n",
       " \n",
       "    worst smoothness  worst compactness  worst concavity  worst concave points  \\\n",
       " 0            0.1622             0.6656           0.7119                0.2654   \n",
       " 1            0.1238             0.1866           0.2416                0.1860   \n",
       " 2            0.1444             0.4245           0.4504                0.2430   \n",
       " 3            0.2098             0.8663           0.6869                0.2575   \n",
       " 4            0.1374             0.2050           0.4000                0.1625   \n",
       " \n",
       "    worst symmetry  worst fractal dimension     target  \n",
       " 0          0.4601                  0.11890  malignant  \n",
       " 1          0.2750                  0.08902  malignant  \n",
       " 2          0.3613                  0.08758  malignant  \n",
       " 3          0.6638                  0.17300  malignant  \n",
       " 4          0.2364                  0.07678  malignant  \n",
       " \n",
       " [5 rows x 31 columns],\n",
       " (569, 31))"
      ]
     },
     "execution_count": 1,
     "metadata": {},
     "output_type": "execute_result"
    }
   ],
   "source": [
    "import pandas as pd\n",
    "\n",
    "# 데이터 준비\n",
    "bc_df = pd.read_csv('breast_cancer.csv', index_col=0)\n",
    "bc_df.head(), bc_df.shape"
   ]
  },
  {
   "cell_type": "code",
   "execution_count": 2,
   "metadata": {},
   "outputs": [],
   "source": [
    "X = bc_df.iloc[:, :-1]\n",
    "y = bc_df.iloc[:, -1]"
   ]
  },
  {
   "cell_type": "code",
   "execution_count": 3,
   "metadata": {},
   "outputs": [],
   "source": [
    "# 데이터 표준화\n",
    "from sklearn.preprocessing import StandardScaler\n",
    "\n",
    "scaler = StandardScaler()\n",
    "X_scaled = scaler.fit_transform(X)"
   ]
  },
  {
   "cell_type": "code",
   "execution_count": 4,
   "metadata": {},
   "outputs": [
    {
     "name": "stdout",
     "output_type": "stream",
     "text": [
      "스케일링 전 : (569, 30)\n",
      "스케일링 후 : (569, 2)\n"
     ]
    }
   ],
   "source": [
    "# PCA 객체 생성 (2개의 주성분으로 축소)\n",
    "from sklearn.decomposition import PCA\n",
    "\n",
    "pca = PCA(n_components=2)\n",
    "X_pca = pca.fit_transform(X_scaled)\n",
    "print(f'스케일링 전 : {X_scaled.shape}')\n",
    "print(f'스케일링 후 : {X_pca.shape}')"
   ]
  },
  {
   "cell_type": "code",
   "execution_count": 5,
   "metadata": {},
   "outputs": [
    {
     "name": "stdout",
     "output_type": "stream",
     "text": [
      "주성분의 분산 설명 비율: [0.44272026 0.18971182]\n"
     ]
    }
   ],
   "source": [
    "# PCA 결과 출력\n",
    "print(\"주성분의 분산 설명 비율:\", pca.explained_variance_ratio_)"
   ]
  },
  {
   "cell_type": "code",
   "execution_count": 6,
   "metadata": {},
   "outputs": [
    {
     "data": {
      "text/plain": [
       "(                   제1 주성분    제2 주성분\n",
       " mean radius      0.218902 -0.233857\n",
       " mean texture     0.103725 -0.059706\n",
       " mean perimeter   0.227537 -0.215181\n",
       " mean area        0.220995 -0.231077\n",
       " mean smoothness  0.142590  0.186113,\n",
       " (30, 2))"
      ]
     },
     "execution_count": 6,
     "metadata": {},
     "output_type": "execute_result"
    }
   ],
   "source": [
    "# 주성분이 원래 차원과 얼마나 관련이 있는지 확인 (loading matrix)\n",
    "loading_matrix = pd.DataFrame(pca.components_.T,\n",
    "                              columns=['제1 주성분', '제2 주성분'],\n",
    "                              index=X.columns)\n",
    "loading_matrix.head(), loading_matrix.shape"
   ]
  },
  {
   "cell_type": "code",
   "execution_count": 7,
   "metadata": {},
   "outputs": [
    {
     "data": {
      "text/html": [
       "<div>\n",
       "<style scoped>\n",
       "    .dataframe tbody tr th:only-of-type {\n",
       "        vertical-align: middle;\n",
       "    }\n",
       "\n",
       "    .dataframe tbody tr th {\n",
       "        vertical-align: top;\n",
       "    }\n",
       "\n",
       "    .dataframe thead th {\n",
       "        text-align: right;\n",
       "    }\n",
       "</style>\n",
       "<table border=\"1\" class=\"dataframe\">\n",
       "  <thead>\n",
       "    <tr style=\"text-align: right;\">\n",
       "      <th></th>\n",
       "      <th>제1 주성분</th>\n",
       "      <th>제2 주성분</th>\n",
       "      <th>target</th>\n",
       "    </tr>\n",
       "  </thead>\n",
       "  <tbody>\n",
       "    <tr>\n",
       "      <th>0</th>\n",
       "      <td>9.192837</td>\n",
       "      <td>1.948583</td>\n",
       "      <td>malignant</td>\n",
       "    </tr>\n",
       "    <tr>\n",
       "      <th>1</th>\n",
       "      <td>2.387802</td>\n",
       "      <td>-3.768172</td>\n",
       "      <td>malignant</td>\n",
       "    </tr>\n",
       "    <tr>\n",
       "      <th>2</th>\n",
       "      <td>5.733896</td>\n",
       "      <td>-1.075174</td>\n",
       "      <td>malignant</td>\n",
       "    </tr>\n",
       "    <tr>\n",
       "      <th>3</th>\n",
       "      <td>7.122953</td>\n",
       "      <td>10.275589</td>\n",
       "      <td>malignant</td>\n",
       "    </tr>\n",
       "    <tr>\n",
       "      <th>4</th>\n",
       "      <td>3.935302</td>\n",
       "      <td>-1.948072</td>\n",
       "      <td>malignant</td>\n",
       "    </tr>\n",
       "  </tbody>\n",
       "</table>\n",
       "</div>"
      ],
      "text/plain": [
       "     제1 주성분     제2 주성분     target\n",
       "0  9.192837   1.948583  malignant\n",
       "1  2.387802  -3.768172  malignant\n",
       "2  5.733896  -1.075174  malignant\n",
       "3  7.122953  10.275589  malignant\n",
       "4  3.935302  -1.948072  malignant"
      ]
     },
     "execution_count": 7,
     "metadata": {},
     "output_type": "execute_result"
    }
   ],
   "source": [
    "pca_df = pd.DataFrame(X_pca, columns = ['제1 주성분', '제2 주성분'])\n",
    "pca_df = pd.concat([pca_df, y], axis=1)\n",
    "pca_df.head()"
   ]
  },
  {
   "cell_type": "code",
   "execution_count": 8,
   "metadata": {},
   "outputs": [
    {
     "data": {
      "image/png": "[encoded data removed]",
      "text/plain": [
       "<Figure size 1000x600 with 1 Axes>"
      ]
     },
     "metadata": {},
     "output_type": "display_data"
    }
   ],
   "source": [
    "import matplotlib.pyplot as plt\n",
    "\n",
    "# 폰트 깨짐 해결\n",
    "import matplotlib.font_manager as fm\n",
    "font_path = 'C:/Windows/Fonts/malgun.ttf'\n",
    "font_prop = fm.FontProperties(fname=font_path, size=12)\n",
    "plt.rcParams['font.family'] = font_prop.get_name()\n",
    "plt.rcParams['axes.unicode_minus'] = False\n",
    "\n",
    "\n",
    "# 색상 설정\n",
    "colors = plt.colormaps['tab10']\n",
    "\n",
    "plt.figure(figsize=(10, 6))\n",
    "\n",
    "# 각 타겟에 대해 스캐터 플롯 생성\n",
    "targets = pca_df['target'].unique()\n",
    "for idx, target in enumerate(targets):\n",
    "    subset = pca_df[pca_df['target'] == target]\n",
    "    plt.scatter(subset['제1 주성분'], subset['제2 주성분'], \n",
    "                label=target, color=colors(idx), marker='o' if idx % 2 == 0 else 's')\n",
    "\n",
    "plt.title('PCA Scatter Plot')\n",
    "plt.xlabel('제1 주성분')\n",
    "plt.ylabel('제2 주성분')\n",
    "plt.legend(title='target')\n",
    "plt.grid()\n",
    "plt.show()\n"
   ]
  }
 ],
 "metadata": {
  "kernelspec": {
   "display_name": "myConda",
   "language": "python",
   "name": "python3"
  },
  "language_info": {
   "codemirror_mode": {
    "name": "ipython",
    "version": 3
   },
   "file_extension": ".py",
   "mimetype": "text/x-python",
   "name": "python",
   "nbconvert_exporter": "python",
   "pygments_lexer": "ipython3",
   "version": "3.12.4"
  }
 },
 "nbformat": 4,
 "nbformat_minor": 2
}
